{
 "cells": [
  {
   "cell_type": "code",
   "execution_count": 60,
   "metadata": {
    "collapsed": true
   },
   "outputs": [],
   "source": [
    "import pandas as pd\n",
    "import numpy as np\n",
    "pd.set_option('max_rows', 100)\n",
    "pd.set_option('max_columns', 100)\n",
    "pd.set_option('max_colwidth', 60)\n",
    "\n",
    "df_weather = pd.read_csv('Weather Data/Barcelona.csv', encoding='utf-8', index_col=0)\n",
    "df_weather_temp = pd.concat([df_weather, pd.get_dummies(df_weather['winddir16Point']),\n",
    "           pd.get_dummies(df_weather['weatherDesc'])], axis=1)\n",
    "df_weather_temp.drop(['winddir16Point','weatherDesc','weatherCode','isdaytime'],inplace=True, axis=1)\n",
    "groupby_cols = list(df_weather_temp.columns)[2:16]\n",
    "groupby_cols.remove('Time')\n",
    "avg_cols = list(df_weather_temp.columns)[16:36]\n",
    "dummy_cols = list(df_weather_temp.columns)[36:len(df_weather_temp.columns)]\n",
    "avg_cols.extend(groupby_cols)\n",
    "dummy_cols.extend(groupby_cols)\n",
    "df_weather_daily1 = df_weather_temp[avg_cols].groupby(groupby_cols).agg(np.mean).reset_index()\n",
    "df_weather_daily2 = df_weather_temp[dummy_cols].groupby(groupby_cols).agg(np.max).reset_index()\n",
    "result = pd.merge(df_weather_daily1, df_weather_daily2, on=groupby_cols)\n",
    "result.to_csv(\"weather_data_processed.csv\",index=False)"
   ]
  },
  {
   "cell_type": "code",
   "execution_count": 133,
   "metadata": {
    "collapsed": true
   },
   "outputs": [],
   "source": [
    "spain = pd.read_csv('arrival history data/arrival history data melting done/es.csv', encoding='utf-8')"
   ]
  },
  {
   "cell_type": "code",
   "execution_count": 135,
   "metadata": {
    "collapsed": false
   },
   "outputs": [
    {
     "data": {
      "text/plain": [
       "[u'ES',\n",
       " u'DE',\n",
       " u'US',\n",
       " u'FR',\n",
       " u'IT',\n",
       " u'GB',\n",
       " u'RU',\n",
       " u'NL',\n",
       " u'CH',\n",
       " u'BE',\n",
       " u'DK',\n",
       " u'SE',\n",
       " u'PT',\n",
       " u'BR',\n",
       " u'JP',\n",
       " u'Others']"
      ]
     },
     "execution_count": 135,
     "metadata": {},
     "output_type": "execute_result"
    }
   ],
   "source": [
    "spain.dtypes\n",
    "cols = list(spain.columns)\n",
    "cols.remove('Date')\n",
    "cols"
   ]
  },
  {
   "cell_type": "code",
   "execution_count": 136,
   "metadata": {
    "collapsed": true
   },
   "outputs": [],
   "source": [
    "df_inflow = pd.melt(fr, id_vars=['Date'], value_vars=cols)"
   ]
  },
  {
   "cell_type": "code",
   "execution_count": 139,
   "metadata": {
    "collapsed": false
   },
   "outputs": [],
   "source": [
    "df_inflow['destination'] = 'ES'"
   ]
  },
  {
   "cell_type": "code",
   "execution_count": null,
   "metadata": {
    "collapsed": true
   },
   "outputs": [],
   "source": []
  }
 ],
 "metadata": {
  "anaconda-cloud": {},
  "kernelspec": {
   "display_name": "Python 2",
   "language": "python",
   "name": "python2"
  },
  "language_info": {
   "codemirror_mode": {
    "name": "ipython",
    "version": 2
   },
   "file_extension": ".py",
   "mimetype": "text/x-python",
   "name": "python",
   "nbconvert_exporter": "python",
   "pygments_lexer": "ipython2",
   "version": "2.7.12"
  }
 },
 "nbformat": 4,
 "nbformat_minor": 1
}
