{
 "cells": [
  {
   "cell_type": "code",
   "execution_count": 2,
   "metadata": {
    "collapsed": false
   },
   "outputs": [],
   "source": [
    "from threading import Thread\n",
    "import random\n",
    "import time\n",
    "import sys, getopt\n",
    "from datetime import datetime\n",
    "import pypyodbc\n",
    "import pandas as pd\n",
    "import mysql.connector"
   ]
  },
  {
   "cell_type": "code",
   "execution_count": 3,
   "metadata": {
    "collapsed": false
   },
   "outputs": [
    {
     "data": {
      "text/plain": [
       "500"
      ]
     },
     "execution_count": 3,
     "metadata": {},
     "output_type": "execute_result"
    }
   ],
   "source": [
    "length = 0\n",
    "for x in pd.read_csv('Barcelona1/Barcelona1.csv',chunksize=500):\n",
    "    x.to_csv(\"barcelona_sample.csv\",index=False)\n",
    "    length+= x.shape[0]\n",
    "    break\n",
    "length"
   ]
  },
  {
   "cell_type": "code",
   "execution_count": 4,
   "metadata": {
    "collapsed": false
   },
   "outputs": [],
   "source": [
    "pd.DataFrame(None,columns=x.columns).to_csv(\"barcelona_mr.csv\")\n",
    "i=1\n",
    "for x in pd.read_csv('Barcelona1/Barcelona1.csv',chunksize=500):\n",
    "    x.insert(0,\"index\",[i for y in range(len(x))])\n",
    "    i=i+1\n",
    "    x.fillna(-1,inplace=True)\n",
    "    x.to_csv('barcelona_mr.csv', mode='a', header=False)"
   ]
  },
  {
   "cell_type": "code",
   "execution_count": 24,
   "metadata": {
    "collapsed": false
   },
   "outputs": [],
   "source": []
  },
  {
   "cell_type": "code",
   "execution_count": 15,
   "metadata": {
    "collapsed": false
   },
   "outputs": [
    {
     "data": {
      "text/plain": [
       "'INSERT INTO barcelona (Source,City_x,CheckInDate,CheckOutDate,LOS,Occupancy,RoomType,BoardType,Hotel_Name_x,Star_Rating,Guest_Rating,Guest_Recommendation,Guest_Review_Count,Strike_Rate,Rate,Rooms_Left,Cancellation_Policy,Discount,Deal,Page_Position,Hotel_Rank,Hotel_Overall_Rank,Latitude_x,Longitude_x,Location,Phone_Number,Reward_Points,Star_Rating_x,Latitude_y,Longitude_y,Distance_From_Airport_Miles_x,Distance_From_Convention_Center_Miles_x,Distance_From_City_Center_Miles_x,TYPE,sub_type,Address,ZipCode,Zip2,Zips,lat,long,Density_1_mile_ALL,Density_2_miles_ALL,Density_3_mile_ALL,Density_5_miles_ALL,Rating,Star,No_Of_Review,Certificate_of_Excellence,Recommended_length_of_visit,Fee,No_of_rooms,Source_website,Density_1_mile_Private_Room,Density_2_miles_Private_Room,Density_3_mile_Private_Room,Density_5_miles_Private_Room,Density_1_mile_Entire_Home_Apt,Density_2_miles_Entire_Home_Apt,Density_3_mile_Entire_Home_Apt,Density_5_miles_Entire_Home_Apt,Density_1_mile_Shared_Room,Density_2_miles_Shared_Room,Density_3_mile_Shared_Room,Density_5_miles_Shared_Room,Density_1_mile_Hotel,Density_2_miles_Hotel,Density_3_mile_Hotel,Density_5_miles_Hotel,Density_1_mile_Hostel,Density_2_miles_Hostel,Density_3_mile_Hostel,Density_5_miles_Hostel,Density_1_mile_Attractions,Density_2_miles_Attractions,Density_3_mile_Attractions,Density_5_miles_Attractions,Density_1_mile_Places_To_Visit,Density_2_miles_Places_To_Visit,Density_3_mile_Places_To_Visit,Density_5_miles_Places_To_Visit,Density_1_mile_Metro,Density_2_miles_Metro,Density_3_mile_Metro,Density_5_miles_Metro,Book_Date,City_y,Hotel_Name_y,Star_Rating_y,Latitude,Longitude,Distance_From_Airport_Miles_y,Distance_From_Convention_Center_Miles_y,Distance_From_City_Center_Miles_y,latrad,longrad,density1,density2,density3,density5) VALUES (%s,%s,%s,%s,%s,%s,%s,%s,%s,%s,%s,%s,%s,%s,%s,%s,%s,%s,%s,%s,%s,%s,%s,%s,%s,%s,%s,%s,%s,%s,%s,%s,%s,%s,%s,%s,%s,%s,%s,%s,%s,%s,%s,%s,%s,%s,%s,%s,%s,%s,%s,%s,%s,%s,%s,%s,%s,%s,%s,%s,%s,%s,%s,%s,%s,%s,%s,%s,%s,%s,%s,%s,%s,%s,%s,%s,%s,%s,%s,%s,%s,%s,%s,%s,%s,%s,%s,%s,%s,%s,%s,%s,%s,%s,%s,%s,%s,%s,%s,%s)'"
      ]
     },
     "execution_count": 15,
     "metadata": {},
     "output_type": "execute_result"
    }
   ],
   "source": [
    "stmt = \"INSERT INTO {} ({}) VALUES ({})\".format(\"barcelona\",','.join(list(x.columns)),\n",
    "                                                       ','.join([\"%s\" for i in xrange(len(list(x.columns)))]))\n",
    "stmt"
   ]
  },
  {
   "cell_type": "code",
   "execution_count": 8,
   "metadata": {
    "collapsed": false
   },
   "outputs": [
    {
     "ename": "AttributeError",
     "evalue": "'TextFileReader' object has no attribute 'index'",
     "output_type": "error",
     "traceback": [
      "\u001b[0;31m---------------------------------------------------------------------------\u001b[0m",
      "\u001b[0;31mAttributeError\u001b[0m                            Traceback (most recent call last)",
      "\u001b[0;32m<ipython-input-8-746a250a23ac>\u001b[0m in \u001b[0;36m<module>\u001b[0;34m()\u001b[0m\n\u001b[0;32m----> 1\u001b[0;31m \u001b[0mdf\u001b[0m\u001b[1;33m.\u001b[0m\u001b[0mindex\u001b[0m\u001b[1;33m\u001b[0m\u001b[0m\n\u001b[0m",
      "\u001b[0;31mAttributeError\u001b[0m: 'TextFileReader' object has no attribute 'index'"
     ]
    }
   ],
   "source": []
  },
  {
   "cell_type": "code",
   "execution_count": 131,
   "metadata": {
    "collapsed": false
   },
   "outputs": [
    {
     "name": "stdout",
     "output_type": "stream",
     "text": [
      "CREATE TABLE barcelona(Source VARCHAR(1000),City_x VARCHAR(1000),CheckInDate VARCHAR(1000),CheckOutDate VARCHAR(1000),LOS int,Occupancy int,RoomType VARCHAR(1000),BoardType VARCHAR(1000),Hotel_Name_x VARCHAR(1000),Star_Rating float,Guest_Rating float,Guest_Recommendation VARCHAR(1000),Guest_Review_Count float,Strike_Rate float,Rate float,Rooms_Left int,Cancellation_Policy VARCHAR(1000),Discount VARCHAR(1000),Deal float,Page_Position int,Hotel_Rank int,Hotel_Overall_Rank int,Latitude_x float,Longitude_x float,Location VARCHAR(1000),Phone_Number VARCHAR(1000),Reward_Points int,Star_Rating_x float,Latitude_y float,Longitude_y float,Distance_From_Airport_Miles_x float,Distance_From_Convention_Center_Miles_x float,Distance_From_City_Center_Miles_x float,TYPE float,sub_type float,Address float,ZipCode float,Zip2 float,Zips float,lat float,lon float,Density_1_mile_ALL float,Density_2_miles_ALL float,Density_3_mile_ALL float,Density_5_miles_ALL float,Rating float,Star float,No_Of_Review float,Certificate_of_Excellence float,Recommended_length_of_visit float,Fee float,No_of_rooms float,Source_website float,Density_1_mile_Private_Room float,Density_2_miles_Private_Room float,Density_3_mile_Private_Room float,Density_5_miles_Private_Room float,Density_1_mile_Entire_Home_Apt float,Density_2_miles_Entire_Home_Apt float,Density_3_mile_Entire_Home_Apt float,Density_5_miles_Entire_Home_Apt float,Density_1_mile_Shared_Room float,Density_2_miles_Shared_Room float,Density_3_mile_Shared_Room float,Density_5_miles_Shared_Room float,Density_1_mile_Hotel float,Density_2_miles_Hotel float,Density_3_mile_Hotel float,Density_5_miles_Hotel float,Density_1_mile_Hostel float,Density_2_miles_Hostel float,Density_3_mile_Hostel float,Density_5_miles_Hostel float,Density_1_mile_Attractions float,Density_2_miles_Attractions float,Density_3_mile_Attractions float,Density_5_miles_Attractions float,Density_1_mile_Places_To_Visit float,Density_2_miles_Places_To_Visit float,Density_3_mile_Places_To_Visit float,Density_5_miles_Places_To_Visit float,Density_1_mile_Metro float,Density_2_miles_Metro float,Density_3_mile_Metro float,Density_5_miles_Metro float,Book_Date VARCHAR(1000),City_y VARCHAR(1000),Hotel_Name_y VARCHAR(1000),Star_Rating_y float,Latitude float,Longitude float,Distance_From_Airport_Miles_y float,Distance_From_Convention_Center_Miles_y float,Distance_From_City_Center_Miles_y float,latrad float,longrad float,density1 float,density2 float,density3 float,density5 float)\n"
     ]
    },
    {
     "ename": "ProgrammingError",
     "evalue": "1050 (42S01): Table 'barcelona' already exists",
     "output_type": "error",
     "traceback": [
      "\u001b[0;31m---------------------------------------------------------------------------\u001b[0m",
      "\u001b[0;31mProgrammingError\u001b[0m                          Traceback (most recent call last)",
      "\u001b[0;32m<ipython-input-131-094365142dc4>\u001b[0m in \u001b[0;36m<module>\u001b[0;34m()\u001b[0m\n\u001b[1;32m     14\u001b[0m \u001b[0mcnx\u001b[0m \u001b[1;33m=\u001b[0m \u001b[0mmysql\u001b[0m\u001b[1;33m.\u001b[0m\u001b[0mconnector\u001b[0m\u001b[1;33m.\u001b[0m\u001b[0mconnect\u001b[0m\u001b[1;33m(\u001b[0m\u001b[0muser\u001b[0m\u001b[1;33m=\u001b[0m\u001b[1;34m'puneet'\u001b[0m\u001b[1;33m,\u001b[0m \u001b[0mpassword\u001b[0m\u001b[1;33m=\u001b[0m\u001b[1;34m'root'\u001b[0m\u001b[1;33m,\u001b[0m\u001b[0mhost\u001b[0m\u001b[1;33m=\u001b[0m\u001b[1;34m'192.157.250.82'\u001b[0m\u001b[1;33m,\u001b[0m\u001b[0mdatabase\u001b[0m \u001b[1;33m=\u001b[0m \u001b[1;34m'testdb'\u001b[0m\u001b[1;33m)\u001b[0m\u001b[1;33m\u001b[0m\u001b[0m\n\u001b[1;32m     15\u001b[0m \u001b[0mcursor\u001b[0m \u001b[1;33m=\u001b[0m \u001b[0mcnx\u001b[0m\u001b[1;33m.\u001b[0m\u001b[0mcursor\u001b[0m\u001b[1;33m(\u001b[0m\u001b[1;33m)\u001b[0m\u001b[1;33m\u001b[0m\u001b[0m\n\u001b[0;32m---> 16\u001b[0;31m \u001b[0mcursor\u001b[0m\u001b[1;33m.\u001b[0m\u001b[0mexecute\u001b[0m\u001b[1;33m(\u001b[0m\u001b[0mstmt\u001b[0m\u001b[1;33m)\u001b[0m\u001b[1;33m\u001b[0m\u001b[0m\n\u001b[0m\u001b[1;32m     17\u001b[0m \u001b[0mcnx\u001b[0m\u001b[1;33m.\u001b[0m\u001b[0mclose\u001b[0m\u001b[1;33m(\u001b[0m\u001b[1;33m)\u001b[0m\u001b[1;33m\u001b[0m\u001b[0m\n",
      "\u001b[0;32mc:\\python27\\lib\\site-packages\\mysql\\connector\\cursor.py\u001b[0m in \u001b[0;36mexecute\u001b[0;34m(self, operation, params, multi)\u001b[0m\n\u001b[1;32m    549\u001b[0m         \u001b[1;32melse\u001b[0m\u001b[1;33m:\u001b[0m\u001b[1;33m\u001b[0m\u001b[0m\n\u001b[1;32m    550\u001b[0m             \u001b[1;32mtry\u001b[0m\u001b[1;33m:\u001b[0m\u001b[1;33m\u001b[0m\u001b[0m\n\u001b[0;32m--> 551\u001b[0;31m                 \u001b[0mself\u001b[0m\u001b[1;33m.\u001b[0m\u001b[0m_handle_result\u001b[0m\u001b[1;33m(\u001b[0m\u001b[0mself\u001b[0m\u001b[1;33m.\u001b[0m\u001b[0m_connection\u001b[0m\u001b[1;33m.\u001b[0m\u001b[0mcmd_query\u001b[0m\u001b[1;33m(\u001b[0m\u001b[0mstmt\u001b[0m\u001b[1;33m)\u001b[0m\u001b[1;33m)\u001b[0m\u001b[1;33m\u001b[0m\u001b[0m\n\u001b[0m\u001b[1;32m    552\u001b[0m             \u001b[1;32mexcept\u001b[0m \u001b[0merrors\u001b[0m\u001b[1;33m.\u001b[0m\u001b[0mInterfaceError\u001b[0m\u001b[1;33m:\u001b[0m\u001b[1;33m\u001b[0m\u001b[0m\n\u001b[1;32m    553\u001b[0m                 \u001b[1;32mif\u001b[0m \u001b[0mself\u001b[0m\u001b[1;33m.\u001b[0m\u001b[0m_connection\u001b[0m\u001b[1;33m.\u001b[0m\u001b[0m_have_next_result\u001b[0m\u001b[1;33m:\u001b[0m  \u001b[1;31m# pylint: disable=W0212\u001b[0m\u001b[1;33m\u001b[0m\u001b[0m\n",
      "\u001b[0;32mc:\\python27\\lib\\site-packages\\mysql\\connector\\connection.py\u001b[0m in \u001b[0;36mcmd_query\u001b[0;34m(self, query, raw, buffered, raw_as_string)\u001b[0m\n\u001b[1;32m    488\u001b[0m         \u001b[1;32mif\u001b[0m \u001b[1;32mnot\u001b[0m \u001b[0misinstance\u001b[0m\u001b[1;33m(\u001b[0m\u001b[0mquery\u001b[0m\u001b[1;33m,\u001b[0m \u001b[0mbytes\u001b[0m\u001b[1;33m)\u001b[0m\u001b[1;33m:\u001b[0m\u001b[1;33m\u001b[0m\u001b[0m\n\u001b[1;32m    489\u001b[0m             \u001b[0mquery\u001b[0m \u001b[1;33m=\u001b[0m \u001b[0mquery\u001b[0m\u001b[1;33m.\u001b[0m\u001b[0mencode\u001b[0m\u001b[1;33m(\u001b[0m\u001b[1;34m'utf-8'\u001b[0m\u001b[1;33m)\u001b[0m\u001b[1;33m\u001b[0m\u001b[0m\n\u001b[0;32m--> 490\u001b[0;31m         \u001b[0mresult\u001b[0m \u001b[1;33m=\u001b[0m \u001b[0mself\u001b[0m\u001b[1;33m.\u001b[0m\u001b[0m_handle_result\u001b[0m\u001b[1;33m(\u001b[0m\u001b[0mself\u001b[0m\u001b[1;33m.\u001b[0m\u001b[0m_send_cmd\u001b[0m\u001b[1;33m(\u001b[0m\u001b[0mServerCmd\u001b[0m\u001b[1;33m.\u001b[0m\u001b[0mQUERY\u001b[0m\u001b[1;33m,\u001b[0m \u001b[0mquery\u001b[0m\u001b[1;33m)\u001b[0m\u001b[1;33m)\u001b[0m\u001b[1;33m\u001b[0m\u001b[0m\n\u001b[0m\u001b[1;32m    491\u001b[0m \u001b[1;33m\u001b[0m\u001b[0m\n\u001b[1;32m    492\u001b[0m         \u001b[1;32mif\u001b[0m \u001b[0mself\u001b[0m\u001b[1;33m.\u001b[0m\u001b[0m_have_next_result\u001b[0m\u001b[1;33m:\u001b[0m\u001b[1;33m\u001b[0m\u001b[0m\n",
      "\u001b[0;32mc:\\python27\\lib\\site-packages\\mysql\\connector\\connection.py\u001b[0m in \u001b[0;36m_handle_result\u001b[0;34m(self, packet)\u001b[0m\n\u001b[1;32m    393\u001b[0m             \u001b[1;32mreturn\u001b[0m \u001b[0mself\u001b[0m\u001b[1;33m.\u001b[0m\u001b[0m_handle_eof\u001b[0m\u001b[1;33m(\u001b[0m\u001b[0mpacket\u001b[0m\u001b[1;33m)\u001b[0m\u001b[1;33m\u001b[0m\u001b[0m\n\u001b[1;32m    394\u001b[0m         \u001b[1;32melif\u001b[0m \u001b[0mpacket\u001b[0m\u001b[1;33m[\u001b[0m\u001b[1;36m4\u001b[0m\u001b[1;33m]\u001b[0m \u001b[1;33m==\u001b[0m \u001b[1;36m255\u001b[0m\u001b[1;33m:\u001b[0m\u001b[1;33m\u001b[0m\u001b[0m\n\u001b[0;32m--> 395\u001b[0;31m             \u001b[1;32mraise\u001b[0m \u001b[0merrors\u001b[0m\u001b[1;33m.\u001b[0m\u001b[0mget_exception\u001b[0m\u001b[1;33m(\u001b[0m\u001b[0mpacket\u001b[0m\u001b[1;33m)\u001b[0m\u001b[1;33m\u001b[0m\u001b[0m\n\u001b[0m\u001b[1;32m    396\u001b[0m \u001b[1;33m\u001b[0m\u001b[0m\n\u001b[1;32m    397\u001b[0m         \u001b[1;31m# We have a text result set\u001b[0m\u001b[1;33m\u001b[0m\u001b[1;33m\u001b[0m\u001b[0m\n",
      "\u001b[0;31mProgrammingError\u001b[0m: 1050 (42S01): Table 'barcelona' already exists"
     ]
    }
   ],
   "source": [
    "###### table creation\n",
    "\n",
    "import itertools\n",
    "table_string = []\n",
    "dl = {\"object\": \"VARCHAR(1000)\",\n",
    "         \"float64\": \"float\",\n",
    "         \"int64\": \"int\"}\n",
    "for m, n in itertools.izip(x.dtypes.keys(), x.dtypes):\n",
    "    if m == 'long':\n",
    "        m='lon'\n",
    "    table_string.append(\"{} {}\".format(m,dl[str(n)]))\n",
    "stmt = \"CREATE TABLE barcelona({})\".format(','.join(table_string))\n",
    "print stmt\n",
    "cnx = mysql.connector.connect(user='puneet', password='root',host='192.157.250.82',database = 'testdb')\n",
    "cursor = cnx.cursor()\n",
    "cursor.execute(stmt)\n",
    "cnx.close()"
   ]
  },
  {
   "cell_type": "code",
   "execution_count": null,
   "metadata": {
    "collapsed": true
   },
   "outputs": [],
   "source": []
  },
  {
   "cell_type": "code",
   "execution_count": null,
   "metadata": {
    "collapsed": false
   },
   "outputs": [],
   "source": [
    "#### data push  function with multithreads\n",
    "chunksize = 800000\n",
    "\n",
    "def push_to_db(chunk, *args):\n",
    "    tuples = [tuple(x) for x in chunk.values]\n",
    "    print tuples[1:3]\n",
    "    stmt = \"INSERT INTO {} ({}) VALUES ({})\".format(\"t2\",','.join(list(chunk.columns)),\n",
    "                                                       ','.join([\"%s\" for i in xrange(len(list(chunk.columns)))]))\n",
    "    cnx = mysql.connector.connect(user='puneet', password='root',\n",
    "                                  host='192.157.250.82',database = 'testdb')\n",
    "    cursor = cnx.cursor()\n",
    "    cursor.executemany(stmt, tuples)\n",
    "    cnx.commit()\n",
    "    cnx.close()\n",
    "    print \"process\"\n",
    "\n",
    "for chunk in pd.read_csv('Barcelona1/Barcelona1.csv', chunksize=chunksize):\n",
    "    t = Thread(target=push_to_db,args=(chunk,))\n",
    "    t.start()\n",
    "    \n",
    "print(\"Completed!\")\n",
    "print(datetime.now())"
   ]
  },
  {
   "cell_type": "code",
   "execution_count": null,
   "metadata": {
    "collapsed": true
   },
   "outputs": [],
   "source": []
  },
  {
   "cell_type": "code",
   "execution_count": null,
   "metadata": {
    "collapsed": true
   },
   "outputs": [],
   "source": []
  },
  {
   "cell_type": "code",
   "execution_count": 40,
   "metadata": {
    "collapsed": true
   },
   "outputs": [],
   "source": [
    "cnxn = pypyodbc.connect('DRIVER={SQL Server};SERVER=rgsvrsql-01.rategain.local\\UHS;DATABASE=Azhar_Test;UID=sa;PWD=SA1234!@#$')\n",
    "sql1 = \"CREATE TABLE t2(name VARCHAR(100),num int)\"\n",
    "crsr.execute(sql1)\n",
    "cnxn.commit()\n",
    "crsr.close()\n",
    "cnxn.close()"
   ]
  },
  {
   "cell_type": "code",
   "execution_count": 44,
   "metadata": {
    "collapsed": false
   },
   "outputs": [
    {
     "ename": "ProgrammingError",
     "evalue": "(u'42000', u'[42000] [Microsoft][ODBC SQL Server Driver][SQL Server]Cannot bulk load because the file \"C:\\\\Users\\\\puneet.jindal\\\\Documents\\test_db.csv\" could not be opened. Operating system error code 3(failed to retrieve text for this error. Reason: 15105).')",
     "output_type": "error",
     "traceback": [
      "\u001b[0;31m---------------------------------------------------------------------------\u001b[0m",
      "\u001b[0;31mProgrammingError\u001b[0m                          Traceback (most recent call last)",
      "\u001b[0;32m<ipython-input-44-eea58b065a5f>\u001b[0m in \u001b[0;36m<module>\u001b[0;34m()\u001b[0m\n\u001b[1;32m      2\u001b[0m \u001b[0mcrsr\u001b[0m \u001b[1;33m=\u001b[0m \u001b[0mcnxn\u001b[0m\u001b[1;33m.\u001b[0m\u001b[0mcursor\u001b[0m\u001b[1;33m(\u001b[0m\u001b[1;33m)\u001b[0m\u001b[1;33m\u001b[0m\u001b[0m\n\u001b[1;32m      3\u001b[0m \u001b[0msql2\u001b[0m \u001b[1;33m=\u001b[0m \u001b[1;34m\"\"\"BULK INSERT t2 FROM 'C:\\Users\\puneet.jindal\\Documents\\test_db.csv' WITH (FIELDTERMINATOR = ',')\"\"\"\u001b[0m\u001b[1;33m\u001b[0m\u001b[0m\n\u001b[0;32m----> 4\u001b[0;31m \u001b[0mcrsr\u001b[0m\u001b[1;33m.\u001b[0m\u001b[0mexecute\u001b[0m\u001b[1;33m(\u001b[0m\u001b[0msql2\u001b[0m\u001b[1;33m)\u001b[0m\u001b[1;33m\u001b[0m\u001b[0m\n\u001b[0m\u001b[1;32m      5\u001b[0m \u001b[0mcrsr\u001b[0m\u001b[1;33m.\u001b[0m\u001b[0mclose\u001b[0m\u001b[1;33m(\u001b[0m\u001b[1;33m)\u001b[0m\u001b[1;33m\u001b[0m\u001b[0m\n\u001b[1;32m      6\u001b[0m \u001b[0mcnxn\u001b[0m\u001b[1;33m.\u001b[0m\u001b[0mclose\u001b[0m\u001b[1;33m(\u001b[0m\u001b[1;33m)\u001b[0m\u001b[1;33m\u001b[0m\u001b[0m\n",
      "\u001b[0;32mc:\\python27\\lib\\site-packages\\pypyodbc.pyc\u001b[0m in \u001b[0;36mexecute\u001b[0;34m(self, query_string, params, many_mode, call_mode)\u001b[0m\n\u001b[1;32m   1603\u001b[0m \u001b[1;33m\u001b[0m\u001b[0m\n\u001b[1;32m   1604\u001b[0m         \u001b[1;32melse\u001b[0m\u001b[1;33m:\u001b[0m\u001b[1;33m\u001b[0m\u001b[0m\n\u001b[0;32m-> 1605\u001b[0;31m             \u001b[0mself\u001b[0m\u001b[1;33m.\u001b[0m\u001b[0mexecdirect\u001b[0m\u001b[1;33m(\u001b[0m\u001b[0mquery_string\u001b[0m\u001b[1;33m)\u001b[0m\u001b[1;33m\u001b[0m\u001b[0m\n\u001b[0m\u001b[1;32m   1606\u001b[0m         \u001b[1;32mreturn\u001b[0m \u001b[0mself\u001b[0m\u001b[1;33m\u001b[0m\u001b[0m\n\u001b[1;32m   1607\u001b[0m \u001b[1;33m\u001b[0m\u001b[0m\n",
      "\u001b[0;32mc:\\python27\\lib\\site-packages\\pypyodbc.pyc\u001b[0m in \u001b[0;36mexecdirect\u001b[0;34m(self, query_string)\u001b[0m\n\u001b[1;32m   1629\u001b[0m             \u001b[0mc_query_string\u001b[0m \u001b[1;33m=\u001b[0m \u001b[0mctypes\u001b[0m\u001b[1;33m.\u001b[0m\u001b[0mc_char_p\u001b[0m\u001b[1;33m(\u001b[0m\u001b[0mquery_string\u001b[0m\u001b[1;33m)\u001b[0m\u001b[1;33m\u001b[0m\u001b[0m\n\u001b[1;32m   1630\u001b[0m             \u001b[0mret\u001b[0m \u001b[1;33m=\u001b[0m \u001b[0mODBC_API\u001b[0m\u001b[1;33m.\u001b[0m\u001b[0mSQLExecDirect\u001b[0m\u001b[1;33m(\u001b[0m\u001b[0mself\u001b[0m\u001b[1;33m.\u001b[0m\u001b[0mstmt_h\u001b[0m\u001b[1;33m,\u001b[0m \u001b[0mc_query_string\u001b[0m\u001b[1;33m,\u001b[0m \u001b[0mlen\u001b[0m\u001b[1;33m(\u001b[0m\u001b[0mquery_string\u001b[0m\u001b[1;33m)\u001b[0m\u001b[1;33m)\u001b[0m\u001b[1;33m\u001b[0m\u001b[0m\n\u001b[0;32m-> 1631\u001b[0;31m         \u001b[0mcheck_success\u001b[0m\u001b[1;33m(\u001b[0m\u001b[0mself\u001b[0m\u001b[1;33m,\u001b[0m \u001b[0mret\u001b[0m\u001b[1;33m)\u001b[0m\u001b[1;33m\u001b[0m\u001b[0m\n\u001b[0m\u001b[1;32m   1632\u001b[0m         \u001b[0mself\u001b[0m\u001b[1;33m.\u001b[0m\u001b[0m_NumOfRows\u001b[0m\u001b[1;33m(\u001b[0m\u001b[1;33m)\u001b[0m\u001b[1;33m\u001b[0m\u001b[0m\n\u001b[1;32m   1633\u001b[0m         \u001b[0mself\u001b[0m\u001b[1;33m.\u001b[0m\u001b[0m_UpdateDesc\u001b[0m\u001b[1;33m(\u001b[0m\u001b[1;33m)\u001b[0m\u001b[1;33m\u001b[0m\u001b[0m\n",
      "\u001b[0;32mc:\\python27\\lib\\site-packages\\pypyodbc.pyc\u001b[0m in \u001b[0;36mcheck_success\u001b[0;34m(ODBC_obj, ret)\u001b[0m\n\u001b[1;32m    984\u001b[0m     \u001b[1;32mif\u001b[0m \u001b[0mret\u001b[0m \u001b[1;32mnot\u001b[0m \u001b[1;32min\u001b[0m \u001b[1;33m(\u001b[0m\u001b[0mSQL_SUCCESS\u001b[0m\u001b[1;33m,\u001b[0m \u001b[0mSQL_SUCCESS_WITH_INFO\u001b[0m\u001b[1;33m,\u001b[0m \u001b[0mSQL_NO_DATA\u001b[0m\u001b[1;33m)\u001b[0m\u001b[1;33m:\u001b[0m\u001b[1;33m\u001b[0m\u001b[0m\n\u001b[1;32m    985\u001b[0m         \u001b[1;32mif\u001b[0m \u001b[0misinstance\u001b[0m\u001b[1;33m(\u001b[0m\u001b[0mODBC_obj\u001b[0m\u001b[1;33m,\u001b[0m \u001b[0mCursor\u001b[0m\u001b[1;33m)\u001b[0m\u001b[1;33m:\u001b[0m\u001b[1;33m\u001b[0m\u001b[0m\n\u001b[0;32m--> 986\u001b[0;31m             \u001b[0mctrl_err\u001b[0m\u001b[1;33m(\u001b[0m\u001b[0mSQL_HANDLE_STMT\u001b[0m\u001b[1;33m,\u001b[0m \u001b[0mODBC_obj\u001b[0m\u001b[1;33m.\u001b[0m\u001b[0mstmt_h\u001b[0m\u001b[1;33m,\u001b[0m \u001b[0mret\u001b[0m\u001b[1;33m,\u001b[0m \u001b[0mODBC_obj\u001b[0m\u001b[1;33m.\u001b[0m\u001b[0mansi\u001b[0m\u001b[1;33m)\u001b[0m\u001b[1;33m\u001b[0m\u001b[0m\n\u001b[0m\u001b[1;32m    987\u001b[0m         \u001b[1;32melif\u001b[0m \u001b[0misinstance\u001b[0m\u001b[1;33m(\u001b[0m\u001b[0mODBC_obj\u001b[0m\u001b[1;33m,\u001b[0m \u001b[0mConnection\u001b[0m\u001b[1;33m)\u001b[0m\u001b[1;33m:\u001b[0m\u001b[1;33m\u001b[0m\u001b[0m\n\u001b[1;32m    988\u001b[0m             \u001b[0mctrl_err\u001b[0m\u001b[1;33m(\u001b[0m\u001b[0mSQL_HANDLE_DBC\u001b[0m\u001b[1;33m,\u001b[0m \u001b[0mODBC_obj\u001b[0m\u001b[1;33m.\u001b[0m\u001b[0mdbc_h\u001b[0m\u001b[1;33m,\u001b[0m \u001b[0mret\u001b[0m\u001b[1;33m,\u001b[0m \u001b[0mODBC_obj\u001b[0m\u001b[1;33m.\u001b[0m\u001b[0mansi\u001b[0m\u001b[1;33m)\u001b[0m\u001b[1;33m\u001b[0m\u001b[0m\n",
      "\u001b[0;32mc:\\python27\\lib\\site-packages\\pypyodbc.pyc\u001b[0m in \u001b[0;36mctrl_err\u001b[0;34m(ht, h, val_ret, ansi)\u001b[0m\n\u001b[1;32m    952\u001b[0m             \u001b[0merr_text\u001b[0m \u001b[1;33m=\u001b[0m \u001b[0mraw_s\u001b[0m\u001b[1;33m(\u001b[0m\u001b[1;34m'['\u001b[0m\u001b[1;33m)\u001b[0m\u001b[1;33m+\u001b[0m\u001b[0mstate\u001b[0m\u001b[1;33m+\u001b[0m\u001b[0mraw_s\u001b[0m\u001b[1;33m(\u001b[0m\u001b[1;34m'] '\u001b[0m\u001b[1;33m)\u001b[0m\u001b[1;33m+\u001b[0m\u001b[0merr_list\u001b[0m\u001b[1;33m[\u001b[0m\u001b[1;36m0\u001b[0m\u001b[1;33m]\u001b[0m\u001b[1;33m[\u001b[0m\u001b[1;36m1\u001b[0m\u001b[1;33m]\u001b[0m\u001b[1;33m\u001b[0m\u001b[0m\n\u001b[1;32m    953\u001b[0m             \u001b[1;32mif\u001b[0m \u001b[0mstate\u001b[0m\u001b[1;33m[\u001b[0m\u001b[1;33m:\u001b[0m\u001b[1;36m2\u001b[0m\u001b[1;33m]\u001b[0m \u001b[1;32min\u001b[0m \u001b[1;33m(\u001b[0m\u001b[0mraw_s\u001b[0m\u001b[1;33m(\u001b[0m\u001b[1;34m'24'\u001b[0m\u001b[1;33m)\u001b[0m\u001b[1;33m,\u001b[0m\u001b[0mraw_s\u001b[0m\u001b[1;33m(\u001b[0m\u001b[1;34m'25'\u001b[0m\u001b[1;33m)\u001b[0m\u001b[1;33m,\u001b[0m\u001b[0mraw_s\u001b[0m\u001b[1;33m(\u001b[0m\u001b[1;34m'42'\u001b[0m\u001b[1;33m)\u001b[0m\u001b[1;33m)\u001b[0m\u001b[1;33m:\u001b[0m\u001b[1;33m\u001b[0m\u001b[0m\n\u001b[0;32m--> 954\u001b[0;31m                 \u001b[1;32mraise\u001b[0m \u001b[0mProgrammingError\u001b[0m\u001b[1;33m(\u001b[0m\u001b[0mstate\u001b[0m\u001b[1;33m,\u001b[0m\u001b[0merr_text\u001b[0m\u001b[1;33m)\u001b[0m\u001b[1;33m\u001b[0m\u001b[0m\n\u001b[0m\u001b[1;32m    955\u001b[0m             \u001b[1;32melif\u001b[0m \u001b[0mstate\u001b[0m\u001b[1;33m[\u001b[0m\u001b[1;33m:\u001b[0m\u001b[1;36m2\u001b[0m\u001b[1;33m]\u001b[0m \u001b[1;32min\u001b[0m \u001b[1;33m(\u001b[0m\u001b[0mraw_s\u001b[0m\u001b[1;33m(\u001b[0m\u001b[1;34m'22'\u001b[0m\u001b[1;33m)\u001b[0m\u001b[1;33m)\u001b[0m\u001b[1;33m:\u001b[0m\u001b[1;33m\u001b[0m\u001b[0m\n\u001b[1;32m    956\u001b[0m                 \u001b[1;32mraise\u001b[0m \u001b[0mDataError\u001b[0m\u001b[1;33m(\u001b[0m\u001b[0mstate\u001b[0m\u001b[1;33m,\u001b[0m\u001b[0merr_text\u001b[0m\u001b[1;33m)\u001b[0m\u001b[1;33m\u001b[0m\u001b[0m\n",
      "\u001b[0;31mProgrammingError\u001b[0m: (u'42000', u'[42000] [Microsoft][ODBC SQL Server Driver][SQL Server]Cannot bulk load because the file \"C:\\\\Users\\\\puneet.jindal\\\\Documents\\test_db.csv\" could not be opened. Operating system error code 3(failed to retrieve text for this error. Reason: 15105).')"
     ]
    }
   ],
   "source": [
    "cnxn = pypyodbc.connect('DRIVER={SQL Server};SERVER=rgsvrsql-01.rategain.local\\UHS;DATABASE=Azhar_Test;UID=sa;PWD=SA1234!@#$')\n",
    "crsr = cnxn.cursor()\n",
    "sql2 = \"\"\"BULK INSERT t2 FROM 'C:\\Users\\puneet.jindal\\Documents\\test_db.csv' WITH (FIELDTERMINATOR = ',')\"\"\"\n",
    "crsr.execute(sql2)\n",
    "crsr.close()\n",
    "cnxn.close()"
   ]
  },
  {
   "cell_type": "code",
   "execution_count": 66,
   "metadata": {
    "collapsed": true
   },
   "outputs": [],
   "source": [
    "import mysql.connector\n",
    "cnx = mysql.connector.connect(user='puneet', password='root',host='192.157.250.82',database = 'testdb')\n",
    "stmt = \"CREATE TABLE t2(name VARCHAR(100),num int)\"\n",
    "cursor = cnx.cursor()\n",
    "cursor.execute(stmt)\n",
    "cnx.close()\n"
   ]
  },
  {
   "cell_type": "code",
   "execution_count": 101,
   "metadata": {
    "collapsed": false
   },
   "outputs": [
    {
     "name": "stdout",
     "output_type": "stream",
     "text": [
      "Index([u'Source', u'City_x', u'CheckInDate', u'CheckOutDate', u'LOS',\n",
      "       u'Occupancy', u'RoomType', u'BoardType', u'Hotel_Name_x',\n",
      "       u'Star_Rating', u'Guest_Rating', u'Guest_Recommendation',\n",
      "       u'Guest_Review_Count', u'Strike_Rate', u'Rate', u'Rooms_Left',\n",
      "       u'Cancellation_Policy', u'Discount', u'Deal', u'Page_Position',\n",
      "       u'Hotel_Rank', u'Hotel_Overall_Rank', u'Latitude_x', u'Longitude_x',\n",
      "       u'Location', u'Phone_Number', u'Reward_Points', u'Star_Rating_x',\n",
      "       u'Latitude_y', u'Longitude_y', u'Distance_From_Airport_Miles_x',\n",
      "       u'Distance_From_Convention_Center_Miles_x',\n",
      "       u'Distance_From_City_Center_Miles_x', u'TYPE', u'sub_type', u'Address',\n",
      "       u'ZipCode', u'Zip2', u'Zips', u'lat', u'long', u'Density_1_mile_ALL',\n",
      "       u'Density_2_miles_ALL', u'Density_3_mile_ALL', u'Density_5_miles_ALL',\n",
      "       u'Rating', u'Star', u'No_Of_Review', u'Certificate_of_Excellence',\n",
      "       u'Recommended_length_of_visit', u'Fee', u'No_of_rooms',\n",
      "       u'Source_website', u'Density_1_mile_Private_Room',\n",
      "       u'Density_2_miles_Private_Room', u'Density_3_mile_Private_Room',\n",
      "       u'Density_5_miles_Private_Room', u'Density_1_mile_Entire_Home_Apt',\n",
      "       u'Density_2_miles_Entire_Home_Apt', u'Density_3_mile_Entire_Home_Apt',\n",
      "       u'Density_5_miles_Entire_Home_Apt', u'Density_1_mile_Shared_Room',\n",
      "       u'Density_2_miles_Shared_Room', u'Density_3_mile_Shared_Room',\n",
      "       u'Density_5_miles_Shared_Room', u'Density_1_mile_Hotel',\n",
      "       u'Density_2_miles_Hotel', u'Density_3_mile_Hotel',\n",
      "       u'Density_5_miles_Hotel', u'Density_1_mile_Hostel',\n",
      "       u'Density_2_miles_Hostel', u'Density_3_mile_Hostel',\n",
      "       u'Density_5_miles_Hostel', u'Density_1_mile_Attractions',\n",
      "       u'Density_2_miles_Attractions', u'Density_3_mile_Attractions',\n",
      "       u'Density_5_miles_Attractions', u'Density_1_mile_Places_To_Visit',\n",
      "       u'Density_2_miles_Places_To_Visit', u'Density_3_mile_Places_To_Visit',\n",
      "       u'Density_5_miles_Places_To_Visit', u'Density_1_mile_Metro',\n",
      "       u'Density_2_miles_Metro', u'Density_3_mile_Metro',\n",
      "       u'Density_5_miles_Metro', u'Book_Date', u'City_y', u'Hotel_Name_y',\n",
      "       u'Star_Rating_y', u'Latitude', u'Longitude',\n",
      "       u'Distance_From_Airport_Miles_y',\n",
      "       u'Distance_From_Convention_Center_Miles_y',\n",
      "       u'Distance_From_City_Center_Miles_y', u'latrad', u'longrad',\n",
      "       u'density1', u'density2', u'density3', u'density5'],\n",
      "      dtype='object')\n",
      "[dtype('O') dtype('O') dtype('O') dtype('O') dtype('int64') dtype('int64')\n",
      " dtype('O') dtype('O') dtype('O') dtype('float64') dtype('float64')\n",
      " dtype('O') dtype('float64') dtype('float64') dtype('float64')\n",
      " dtype('int64') dtype('O') dtype('O') dtype('float64') dtype('int64')\n",
      " dtype('int64') dtype('int64') dtype('float64') dtype('float64') dtype('O')\n",
      " dtype('O') dtype('int64') dtype('float64') dtype('float64')\n",
      " dtype('float64') dtype('float64') dtype('float64') dtype('float64')\n",
      " dtype('float64') dtype('float64') dtype('float64') dtype('float64')\n",
      " dtype('float64') dtype('float64') dtype('float64') dtype('float64')\n",
      " dtype('float64') dtype('float64') dtype('float64') dtype('float64')\n",
      " dtype('float64') dtype('float64') dtype('float64') dtype('float64')\n",
      " dtype('float64') dtype('float64') dtype('float64') dtype('float64')\n",
      " dtype('float64') dtype('float64') dtype('float64') dtype('float64')\n",
      " dtype('float64') dtype('float64') dtype('float64') dtype('float64')\n",
      " dtype('float64') dtype('float64') dtype('float64') dtype('float64')\n",
      " dtype('float64') dtype('float64') dtype('float64') dtype('float64')\n",
      " dtype('float64') dtype('float64') dtype('float64') dtype('float64')\n",
      " dtype('float64') dtype('float64') dtype('float64') dtype('float64')\n",
      " dtype('float64') dtype('float64') dtype('float64') dtype('float64')\n",
      " dtype('float64') dtype('float64') dtype('float64') dtype('float64')\n",
      " dtype('O') dtype('O') dtype('O') dtype('float64') dtype('float64')\n",
      " dtype('float64') dtype('float64') dtype('float64') dtype('float64')\n",
      " dtype('float64') dtype('float64') dtype('float64') dtype('float64')\n",
      " dtype('float64') dtype('float64')]\n"
     ]
    }
   ],
   "source": [
    "for x in pd.read_csv('Barcelona1/Barcelona1.csv',chunksize=2):\n",
    "    #print list(x.columns)\n",
    "    print x.dtypes.keys()\n",
    "    print x.dtypes.values\n",
    "    break"
   ]
  },
  {
   "cell_type": "code",
   "execution_count": null,
   "metadata": {
    "collapsed": true
   },
   "outputs": [],
   "source": [
    "import mysql.connector\n",
    "cnx = mysql.connector.connect(user='puneet', password='root',host='192.157.250.82',database = 'testdb')\n",
    "stmt = \"CREATE TABLE t2(name VARCHAR(100),num int)\"\n",
    "cursor = cnx.cursor()\n",
    "cursor.execute(stmt)\n",
    "cnx.close()"
   ]
  },
  {
   "cell_type": "code",
   "execution_count": 128,
   "metadata": {
    "collapsed": false
   },
   "outputs": [
    {
     "name": "stdout",
     "output_type": "stream",
     "text": [
      "CREATE TABLE barcelona(Source VARCHAR(1000),City_x VARCHAR(1000),CheckInDate VARCHAR(1000),CheckOutDate VARCHAR(1000),LOS int,Occupancy int,RoomType VARCHAR(1000),BoardType VARCHAR(1000),Hotel_Name_x VARCHAR(1000),Star_Rating float,Guest_Rating float,Guest_Recommendation VARCHAR(1000),Guest_Review_Count float,Strike_Rate float,Rate float,Rooms_Left int,Cancellation_Policy VARCHAR(1000),Discount VARCHAR(1000),Deal float,Page_Position int,Hotel_Rank int,Hotel_Overall_Rank int,Latitude_x float,Longitude_x float,Location VARCHAR(1000),Phone_Number VARCHAR(1000),Reward_Points int,Star_Rating_x float,Latitude_y float,Longitude_y float,Distance_From_Airport_Miles_x float,Distance_From_Convention_Center_Miles_x float,Distance_From_City_Center_Miles_x float,TYPE float,sub_type float,Address float,ZipCode float,Zip2 float,Zips float,lat float,lon float,Density_1_mile_ALL float,Density_2_miles_ALL float,Density_3_mile_ALL float,Density_5_miles_ALL float,Rating float,Star float,No_Of_Review float,Certificate_of_Excellence float,Recommended_length_of_visit float,Fee float,No_of_rooms float,Source_website float,Density_1_mile_Private_Room float,Density_2_miles_Private_Room float,Density_3_mile_Private_Room float,Density_5_miles_Private_Room float,Density_1_mile_Entire_Home_Apt float,Density_2_miles_Entire_Home_Apt float,Density_3_mile_Entire_Home_Apt float,Density_5_miles_Entire_Home_Apt float,Density_1_mile_Shared_Room float,Density_2_miles_Shared_Room float,Density_3_mile_Shared_Room float,Density_5_miles_Shared_Room float,Density_1_mile_Hotel float,Density_2_miles_Hotel float,Density_3_mile_Hotel float,Density_5_miles_Hotel float,Density_1_mile_Hostel float,Density_2_miles_Hostel float,Density_3_mile_Hostel float,Density_5_miles_Hostel float,Density_1_mile_Attractions float,Density_2_miles_Attractions float,Density_3_mile_Attractions float,Density_5_miles_Attractions float,Density_1_mile_Places_To_Visit float,Density_2_miles_Places_To_Visit float,Density_3_mile_Places_To_Visit float,Density_5_miles_Places_To_Visit float,Density_1_mile_Metro float,Density_2_miles_Metro float,Density_3_mile_Metro float,Density_5_miles_Metro float,Book_Date VARCHAR(1000),City_y VARCHAR(1000),Hotel_Name_y VARCHAR(1000),Star_Rating_y float,Latitude float,Longitude float,Distance_From_Airport_Miles_y float,Distance_From_Convention_Center_Miles_y float,Distance_From_City_Center_Miles_y float,latrad float,longrad float,density1 float,density2 float,density3 float,density5 float)\n"
     ]
    }
   ],
   "source": []
  },
  {
   "cell_type": "code",
   "execution_count": null,
   "metadata": {
    "collapsed": true
   },
   "outputs": [],
   "source": []
  }
 ],
 "metadata": {
  "kernelspec": {
   "display_name": "Python 2",
   "language": "python",
   "name": "python2"
  },
  "language_info": {
   "codemirror_mode": {
    "name": "ipython",
    "version": 2
   },
   "file_extension": ".py",
   "mimetype": "text/x-python",
   "name": "python",
   "nbconvert_exporter": "python",
   "pygments_lexer": "ipython2",
   "version": "2.7.12"
  }
 },
 "nbformat": 4,
 "nbformat_minor": 1
}
