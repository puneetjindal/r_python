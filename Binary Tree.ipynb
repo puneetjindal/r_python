{
 "cells": [
  {
   "cell_type": "code",
   "execution_count": 1,
   "metadata": {
    "collapsed": false
   },
   "outputs": [],
   "source": [
    "class BinaryTree:\n",
    "    def __init__(self,data):\n",
    "        self.left=None\n",
    "        self.right=None\n",
    "        self.data=data\n",
    "        \n",
    "    def getLeftChild(self):\n",
    "        return self.left\n",
    "    \n",
    "    def getRightChild(self):\n",
    "        return self.right\n",
    "    \n",
    "    def getNodeValue(self):\n",
    "        return self.data\n",
    "    \n",
    "    def setNodeValue(self,value):\n",
    "        self.data = value"
   ]
  },
  {
   "cell_type": "code",
   "execution_count": 2,
   "metadata": {
    "collapsed": false
   },
   "outputs": [],
   "source": [
    "b = BinaryTree(3)\n",
    "b1 = BinaryTree(2)\n",
    "b.left=b1\n",
    "b2 = BinaryTree(5)\n",
    "b.right=b2\n",
    "b3 = BinaryTree(1)\n",
    "b1.left = b3\n",
    "b4 = BinaryTree(4)\n",
    "b2.left=b4\n",
    "b5 = BinaryTree(6)\n",
    "b2.right = b5\n",
    "b6 = BinaryTree(7)\n",
    "b5.right = b6"
   ]
  },
  {
   "cell_type": "code",
   "execution_count": 29,
   "metadata": {
    "collapsed": false
   },
   "outputs": [
    {
     "name": "stdout",
     "output_type": "stream",
     "text": [
      "3\n",
      "2\n",
      "1\n",
      "9\n",
      "3\n",
      "5\n",
      "4\n",
      "6\n",
      "7\n"
     ]
    }
   ],
   "source": [
    "#preorder traversal\n",
    "def preOrder(root):\n",
    "    if root:\n",
    "        print root.data\n",
    "        preOrder(root.getLeftChild())\n",
    "        preOrder(root.getRightChild())\n",
    "preOrder(b)"
   ]
  },
  {
   "cell_type": "code",
   "execution_count": 16,
   "metadata": {
    "collapsed": false
   },
   "outputs": [
    {
     "name": "stdout",
     "output_type": "stream",
     "text": [
      "9\n",
      "1\n",
      "3\n",
      "2\n",
      "4\n",
      "7\n",
      "6\n",
      "5\n",
      "3\n"
     ]
    }
   ],
   "source": [
    "#postorder traversal\n",
    "def postOrder(root):\n",
    "    if root:\n",
    "        postOrder(root.getLeftChild())\n",
    "        postOrder(root.getRightChild())\n",
    "        print root.getNodeValue()\n",
    "postOrder(b)"
   ]
  },
  {
   "cell_type": "code",
   "execution_count": 14,
   "metadata": {
    "collapsed": false
   },
   "outputs": [
    {
     "name": "stdout",
     "output_type": "stream",
     "text": [
      "1\n",
      "2\n",
      "3\n",
      "3\n",
      "4\n",
      "5\n",
      "6\n",
      "7\n"
     ]
    }
   ],
   "source": [
    "#postorder traversal\n",
    "def inOrder(root):\n",
    "    if root:\n",
    "        inOrder(root.getLeftChild())\n",
    "        print root.getNodeValue()\n",
    "        inOrder(root.getRightChild())\n",
    "inOrder(b)"
   ]
  },
  {
   "cell_type": "code",
   "execution_count": 22,
   "metadata": {
    "collapsed": false
   },
   "outputs": [
    {
     "data": {
      "text/plain": [
       "9"
      ]
     },
     "execution_count": 22,
     "metadata": {},
     "output_type": "execute_result"
    }
   ],
   "source": [
    "# find the max element in binary tree with recursion\n",
    "def findMax(root):\n",
    "    max_el=0\n",
    "    if root:\n",
    "        data = root.getNodeValue()\n",
    "        left = findMax(root.getLeftChild())\n",
    "        right = findMax(root.getRightChild())\n",
    "        if left>right:\n",
    "            max_el=left\n",
    "        else:\n",
    "            max_el = right\n",
    "        if data>max_el:\n",
    "            max_el=data\n",
    "    return max_el\n",
    "findMax(b)"
   ]
  },
  {
   "cell_type": "code",
   "execution_count": 7,
   "metadata": {
    "collapsed": false
   },
   "outputs": [
    {
     "data": {
      "text/plain": [
       "7"
      ]
     },
     "execution_count": 7,
     "metadata": {},
     "output_type": "execute_result"
    }
   ],
   "source": [
    "# find max without recursion \n",
    "def findMaxiter(root):\n",
    "    if root:\n",
    "        max_el=0\n",
    "        q=[]\n",
    "        q.append(root)\n",
    "        while(len(q)!=0):\n",
    "            temp = q.pop(0)\n",
    "            if max_el < temp.data:\n",
    "                max_el= temp.data\n",
    "            if temp.left:\n",
    "                q.append(temp.left)\n",
    "            if temp.right:\n",
    "                q.append(temp.right)\n",
    "    return max_el\n",
    "findMaxiter(b)   "
   ]
  },
  {
   "cell_type": "code",
   "execution_count": 8,
   "metadata": {
    "collapsed": false
   },
   "outputs": [
    {
     "data": {
      "text/plain": [
       "4"
      ]
     },
     "execution_count": 8,
     "metadata": {},
     "output_type": "execute_result"
    }
   ],
   "source": [
    "# tree height without recursion\n",
    "def treeHeight(root):\n",
    "    q=[]     # Create a empty queue for level order traversal\n",
    "    if root:\n",
    "        q.append(root)\n",
    "        height = 0\n",
    "        while(True):\n",
    "            node_count = len(q)\n",
    "            if node_count == 0:\n",
    "                return height\n",
    "            height +=1\n",
    "            while(node_count > 0):\n",
    "                node = q[0]\n",
    "                q.pop(0)\n",
    "                if node.left:\n",
    "                    q.append(node.left)\n",
    "                if node.right:\n",
    "                    q.append(node.right)\n",
    "                node_count -=1\n",
    "treeHeight(b)"
   ]
  },
  {
   "cell_type": "code",
   "execution_count": 9,
   "metadata": {
    "collapsed": false
   },
   "outputs": [
    {
     "data": {
      "text/plain": [
       "1"
      ]
     },
     "execution_count": 9,
     "metadata": {},
     "output_type": "execute_result"
    }
   ],
   "source": [
    "#search an element in binary tree with recursion\n",
    "def find_r(root,data):\n",
    "    if root:\n",
    "        if root.data == data:\n",
    "            return 1\n",
    "        else:\n",
    "            temp = find_r(root.left, data)\n",
    "            if temp!=0:\n",
    "                return temp\n",
    "            else:\n",
    "                return find_r(root.right,data)\n",
    "    return 0\n",
    "find_r(b,7)"
   ]
  },
  {
   "cell_type": "code",
   "execution_count": 10,
   "metadata": {
    "collapsed": false
   },
   "outputs": [
    {
     "data": {
      "text/plain": [
       "0"
      ]
     },
     "execution_count": 10,
     "metadata": {},
     "output_type": "execute_result"
    }
   ],
   "source": [
    "# search an element in binary tree without recursion\n",
    "def find(root,data):\n",
    "    if root:\n",
    "        q=[]\n",
    "        q.append(root)\n",
    "        while(len(q)>0):\n",
    "            temp = q.pop(0)\n",
    "            if temp.data == data:\n",
    "                return 1\n",
    "            if temp.left:\n",
    "                q.append(temp.left)\n",
    "            if temp.right:\n",
    "                q.append(temp.right)\n",
    "    return 0\n",
    "find(b,9)"
   ]
  },
  {
   "cell_type": "code",
   "execution_count": 15,
   "metadata": {
    "collapsed": false
   },
   "outputs": [],
   "source": [
    "#insert an element in binary tree only without recursion\n",
    "def insert_r(root,data):\n",
    "    if root:\n",
    "        b=BinaryTree(data)\n",
    "        q=[]\n",
    "        q.append(root)\n",
    "        while(len(q)>0):\n",
    "            temp = q.pop(0)\n",
    "            if temp.getLeftChild():\n",
    "                q.append(temp.left)\n",
    "            else:\n",
    "                temp.left=b\n",
    "                return\n",
    "            if temp.right:\n",
    "                q.append(temp.right)\n",
    "            else:\n",
    "                temp.right=b\n",
    "                return\n",
    "        \n",
    "insert_r(b,9)"
   ]
  },
  {
   "cell_type": "code",
   "execution_count": 35,
   "metadata": {
    "collapsed": false
   },
   "outputs": [
    {
     "name": "stdout",
     "output_type": "stream",
     "text": [
      "9\n",
      "7\n",
      "1\n",
      "3\n",
      "4\n",
      "6\n",
      "2\n",
      "5\n",
      "3\n"
     ]
    }
   ],
   "source": [
    "#reverse level order traversal in binary tree\n",
    "def level_reverse(root):\n",
    "    if root:\n",
    "        stack = []\n",
    "        q = []\n",
    "        q.append(root)\n",
    "        while(len(q)>0):\n",
    "            temp = q.pop(0)\n",
    "            if temp.right:\n",
    "                q.append(temp.right)\n",
    "            if temp.left:\n",
    "                q.append(temp.left)\n",
    "            stack.append(temp)\n",
    "        len_stack = len(stack)\n",
    "        while(len_stack>0):\n",
    "            print stack.pop(len_stack-1).data\n",
    "            len_stack = len(stack)\n",
    "level_reverse(b)"
   ]
  },
  {
   "cell_type": "code",
   "execution_count": 32,
   "metadata": {
    "collapsed": true
   },
   "outputs": [],
   "source": [
    "def del_btree(root):\n",
    "    if root:\n",
    "        del_btree(root.left)\n",
    "        del_btree(root.right)\n",
    "        del root\n",
    "    else:\n",
    "        return\n",
    "del_btree(b)"
   ]
  },
  {
   "cell_type": "code",
   "execution_count": 42,
   "metadata": {
    "collapsed": false
   },
   "outputs": [
    {
     "name": "stdout",
     "output_type": "stream",
     "text": [
      "[3]\n",
      "[2, 5]\n",
      "[5, 1, 3]\n",
      "[1, 3, 4, 6]\n",
      "[3, 4, 6, 9]\n",
      "[4, 6, 9]\n",
      "[6, 9]\n",
      "[9, 7]\n",
      "[7]\n",
      "2\n"
     ]
    }
   ],
   "source": [
    "#find no of half nodes in the binary tree\n",
    "def half_node_cnt(root):\n",
    "    count = 0\n",
    "    if root:\n",
    "        q = []\n",
    "        q.append(root)\n",
    "        while(len(q)>0):\n",
    "            print [x.data for x in q]\n",
    "            temp=q.pop(0)\n",
    "            if bool(temp.right) != bool(temp.left):\n",
    "                count+=1\n",
    "            if temp.left:\n",
    "                q.append(temp.left)\n",
    "            if temp.right:\n",
    "                q.append(temp.right)\n",
    "        print count\n",
    "half_node_cnt(b)"
   ]
  },
  {
   "cell_type": "code",
   "execution_count": 44,
   "metadata": {
    "collapsed": false
   },
   "outputs": [
    {
     "name": "stdout",
     "output_type": "stream",
     "text": [
      "[<__main__.BinaryTree instance at 0x1124e57e8>, None]\n"
     ]
    },
    {
     "data": {
      "text/plain": [
       "3"
      ]
     },
     "execution_count": 44,
     "metadata": {},
     "output_type": "execute_result"
    }
   ],
   "source": [
    "#find level with max sum\n",
    "def max_level_sum(root):\n",
    "    if root:\n",
    "        level=0\n",
    "        maxLevel=0\n",
    "        currentSum=root.data\n",
    "        maxSum=0\n",
    "        q=[]\n",
    "        q.append(root)\n",
    "        q.append(None)\n",
    "        while(len(q)>0):\n",
    "            temp=q.pop(0)\n",
    "            if temp is None:\n",
    "                if currentSum > maxSum:\n",
    "                    maxSum = currentSum\n",
    "                    maxLevel = level\n",
    "                currentSum=0\n",
    "                if len(q)>0:\n",
    "                    q.append(None)\n",
    "                level+=1\n",
    "            else:\n",
    "                currentSum +=temp.data\n",
    "                if temp.left:\n",
    "                    q.append(temp.left)\n",
    "                if temp.right:\n",
    "                    q.append(temp.right)\n",
    "        return maxLevel\n",
    "                \n",
    "max_level_sum(b)"
   ]
  },
  {
   "cell_type": "code",
   "execution_count": null,
   "metadata": {
    "collapsed": true
   },
   "outputs": [],
   "source": []
  }
 ],
 "metadata": {
  "kernelspec": {
   "display_name": "Python 2",
   "language": "python",
   "name": "python2"
  },
  "language_info": {
   "codemirror_mode": {
    "name": "ipython",
    "version": 2
   },
   "file_extension": ".py",
   "mimetype": "text/x-python",
   "name": "python",
   "nbconvert_exporter": "python",
   "pygments_lexer": "ipython2",
   "version": "2.7.11"
  }
 },
 "nbformat": 4,
 "nbformat_minor": 0
}
