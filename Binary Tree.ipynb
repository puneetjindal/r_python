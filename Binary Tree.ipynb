{
 "cells": [
  {
   "cell_type": "code",
   "execution_count": 24,
   "metadata": {
    "collapsed": false
   },
   "outputs": [],
   "source": [
    "class BinaryTree:\n",
    "    def __init__(self,data):\n",
    "        self.left=None\n",
    "        self.right=None\n",
    "        self.data=data\n",
    "        \n",
    "    def getLeftChild(self):\n",
    "        return self.left\n",
    "    \n",
    "    def getRightChild(self):\n",
    "        return self.right\n",
    "    \n",
    "    def getNodeValue(self):\n",
    "        return self.data\n",
    "    \n",
    "    def setNodeValue(self,value):\n",
    "        self.data = value"
   ]
  },
  {
   "cell_type": "code",
   "execution_count": 29,
   "metadata": {
    "collapsed": false
   },
   "outputs": [],
   "source": [
    "b = BinaryTree(3)\n",
    "b1 = BinaryTree(2)\n",
    "b.left=b1\n",
    "b2 = BinaryTree(5)\n",
    "b.right=b2\n",
    "b3 = BinaryTree(1)\n",
    "b1.left = b3\n",
    "b4 = BinaryTree(4)\n",
    "b2.left=b4\n",
    "b5 = BinaryTree(6)\n",
    "b2.right = b5\n",
    "b6 = BinaryTree(7)\n",
    "b5.right = b6"
   ]
  },
  {
   "cell_type": "code",
   "execution_count": 31,
   "metadata": {
    "collapsed": false
   },
   "outputs": [
    {
     "name": "stdout",
     "output_type": "stream",
     "text": [
      "3 6\n",
      "2 4\n",
      "1 2\n",
      "5 10\n",
      "4 8\n",
      "6 12\n",
      "7 14\n"
     ]
    }
   ],
   "source": [
    "#preorder traversal\n",
    "def preOrder(root):\n",
    "    if root:\n",
    "        print root.data, root.data*2\n",
    "        preOrder(root.getLeftChild())\n",
    "        preOrder(root.getRightChild())\n",
    "preOrder(b)"
   ]
  },
  {
   "cell_type": "code",
   "execution_count": 32,
   "metadata": {
    "collapsed": false
   },
   "outputs": [
    {
     "name": "stdout",
     "output_type": "stream",
     "text": [
      "2 4\n",
      "1 2\n",
      "5 10\n",
      "4 8\n",
      "6 12\n",
      "7 14\n",
      "3 6\n"
     ]
    }
   ],
   "source": [
    "#postorder traversal\n",
    "def postOrder(root):\n",
    "    if root:\n",
    "        preOrder(root.getLeftChild())\n",
    "        preOrder(root.getRightChild())\n",
    "        print root.data, root.data*2\n",
    "postOrder(b)"
   ]
  },
  {
   "cell_type": "code",
   "execution_count": null,
   "metadata": {
    "collapsed": true
   },
   "outputs": [],
   "source": []
  }
 ],
 "metadata": {
  "kernelspec": {
   "display_name": "Python 2",
   "language": "python",
   "name": "python2"
  },
  "language_info": {
   "codemirror_mode": {
    "name": "ipython",
    "version": 2
   },
   "file_extension": ".py",
   "mimetype": "text/x-python",
   "name": "python",
   "nbconvert_exporter": "python",
   "pygments_lexer": "ipython2",
   "version": "2.7.11"
  }
 },
 "nbformat": 4,
 "nbformat_minor": 0
}
