{
 "cells": [
  {
   "cell_type": "code",
   "execution_count": 3,
   "metadata": {
    "collapsed": false,
    "deletable": true,
    "editable": true
   },
   "outputs": [],
   "source": [
    "import pandas as pd\n",
    "import matplotlib.pyplot as plt\n",
    "import matplotlib\n",
    "matplotlib.style.use('ggplot')\n",
    "import numpy as np"
   ]
  },
  {
   "cell_type": "code",
   "execution_count": 6,
   "metadata": {
    "collapsed": false,
    "deletable": true,
    "editable": true
   },
   "outputs": [
    {
     "data": {
      "text/html": [
       "<div>\n",
       "<table border=\"1\" class=\"dataframe\">\n",
       "  <thead>\n",
       "    <tr style=\"text-align: right;\">\n",
       "      <th></th>\n",
       "      <th>subscription_id</th>\n",
       "      <th>box_id</th>\n",
       "      <th>delivered_at</th>\n",
       "      <th>started_week</th>\n",
       "      <th>count_boxes</th>\n",
       "      <th>product</th>\n",
       "      <th>channel</th>\n",
       "    </tr>\n",
       "  </thead>\n",
       "  <tbody>\n",
       "    <tr>\n",
       "      <th>1</th>\n",
       "      <td>1000001</td>\n",
       "      <td>US3598</td>\n",
       "      <td>2013-01-14</td>\n",
       "      <td>2013-W03</td>\n",
       "      <td>1</td>\n",
       "      <td>type1</td>\n",
       "      <td>channel1</td>\n",
       "    </tr>\n",
       "    <tr>\n",
       "      <th>2</th>\n",
       "      <td>1000001</td>\n",
       "      <td>US3899</td>\n",
       "      <td>2013-01-21</td>\n",
       "      <td>2013-W03</td>\n",
       "      <td>2</td>\n",
       "      <td>type1</td>\n",
       "      <td>channel1</td>\n",
       "    </tr>\n",
       "  </tbody>\n",
       "</table>\n",
       "</div>"
      ],
      "text/plain": [
       "   subscription_id  box_id delivered_at started_week  count_boxes product  \\\n",
       "1          1000001  US3598   2013-01-14     2013-W03            1   type1   \n",
       "2          1000001  US3899   2013-01-21     2013-W03            2   type1   \n",
       "\n",
       "    channel  \n",
       "1  channel1  \n",
       "2  channel1  "
      ]
     },
     "execution_count": 6,
     "metadata": {},
     "output_type": "execute_result"
    }
   ],
   "source": [
    "sub = pd.read_csv('C:/Users/puneet.jindal/Downloads/meal_delivery/boxes.csv', encoding='utf-8', index_col=0)\n",
    "sub['delivered_at'] = pd.to_datetime(sub['delivered_at'])\n",
    "sub.head(2)"
   ]
  },
  {
   "cell_type": "code",
   "execution_count": 7,
   "metadata": {
    "collapsed": false,
    "deletable": true,
    "editable": true
   },
   "outputs": [],
   "source": [
    "del_cnt = sub[['delivered_at','box_id']].groupby('delivered_at').agg('count')\n",
    "del_cnt.index =pd.to_datetime(del_cnt.index)"
   ]
  },
  {
   "cell_type": "code",
   "execution_count": 8,
   "metadata": {
    "collapsed": false,
    "deletable": true,
    "editable": true
   },
   "outputs": [
    {
     "data": {
      "image/png": "[encoded data removed]",
      "text/plain": [
       "<matplotlib.figure.Figure at 0x8b89048>"
      ]
     },
     "metadata": {},
     "output_type": "display_data"
    }
   ],
   "source": [
    "plt.plot(del_cnt)\n",
    "plt.show()"
   ]
  },
  {
   "cell_type": "code",
   "execution_count": 9,
   "metadata": {
    "collapsed": false,
    "deletable": true,
    "editable": true
   },
   "outputs": [
    {
     "data": {
      "text/html": [
       "<div>\n",
       "<table border=\"1\" class=\"dataframe\">\n",
       "  <thead>\n",
       "    <tr>\n",
       "      <th></th>\n",
       "      <th>count_boxes</th>\n",
       "      <th colspan=\"2\" halign=\"left\">delivered_at</th>\n",
       "      <th>purchase_gap_maxmin</th>\n",
       "    </tr>\n",
       "    <tr>\n",
       "      <th></th>\n",
       "      <th>amax</th>\n",
       "      <th>amin</th>\n",
       "      <th>amax</th>\n",
       "      <th></th>\n",
       "    </tr>\n",
       "    <tr>\n",
       "      <th>subscription_id</th>\n",
       "      <th></th>\n",
       "      <th></th>\n",
       "      <th></th>\n",
       "      <th></th>\n",
       "    </tr>\n",
       "  </thead>\n",
       "  <tbody>\n",
       "    <tr>\n",
       "      <th>1000002</th>\n",
       "      <td>1</td>\n",
       "      <td>2013-01-28</td>\n",
       "      <td>2013-01-28</td>\n",
       "      <td>0 days</td>\n",
       "    </tr>\n",
       "    <tr>\n",
       "      <th>1000003</th>\n",
       "      <td>1</td>\n",
       "      <td>2013-01-14</td>\n",
       "      <td>2013-01-14</td>\n",
       "      <td>0 days</td>\n",
       "    </tr>\n",
       "    <tr>\n",
       "      <th>1000006</th>\n",
       "      <td>1</td>\n",
       "      <td>2013-01-14</td>\n",
       "      <td>2013-01-14</td>\n",
       "      <td>0 days</td>\n",
       "    </tr>\n",
       "    <tr>\n",
       "      <th>1000014</th>\n",
       "      <td>1</td>\n",
       "      <td>2013-01-07</td>\n",
       "      <td>2013-01-07</td>\n",
       "      <td>0 days</td>\n",
       "    </tr>\n",
       "    <tr>\n",
       "      <th>1000017</th>\n",
       "      <td>1</td>\n",
       "      <td>2013-01-07</td>\n",
       "      <td>2013-01-07</td>\n",
       "      <td>0 days</td>\n",
       "    </tr>\n",
       "  </tbody>\n",
       "</table>\n",
       "</div>"
      ],
      "text/plain": [
       "                count_boxes delivered_at            purchase_gap_maxmin\n",
       "                       amax         amin       amax                    \n",
       "subscription_id                                                        \n",
       "1000002                   1   2013-01-28 2013-01-28              0 days\n",
       "1000003                   1   2013-01-14 2013-01-14              0 days\n",
       "1000006                   1   2013-01-14 2013-01-14              0 days\n",
       "1000014                   1   2013-01-07 2013-01-07              0 days\n",
       "1000017                   1   2013-01-07 2013-01-07              0 days"
      ]
     },
     "execution_count": 9,
     "metadata": {},
     "output_type": "execute_result"
    }
   ],
   "source": [
    "last_purchase_dist = sub[['subscription_id','delivered_at','count_boxes']].groupby(['subscription_id']).agg({'delivered_at':[np.min,np.max],'count_boxes':np.max})\n",
    "last_purchase_dist.head()\n",
    "last_purchase_dist['purchase_gap_maxmin'] = last_purchase_dist['delivered_at']['amax'] - last_purchase_dist['delivered_at']['amin']\n",
    "last_purchase_dist[last_purchase_dist['purchase_gap_maxmin'] == '0 days'].head()\n",
    "# so we have approx 65% customers as repeat customers"
   ]
  },
  {
   "cell_type": "code",
   "execution_count": 196,
   "metadata": {
    "collapsed": false,
    "deletable": true,
    "editable": true
   },
   "outputs": [],
   "source": [
    "##last_purchase_dist = sub[['subscription_id','delivered_at','count_boxes','channel']].groupby(['subscription_id','channel']).agg({'delivered_at':[np.min,np.max],'count_boxes':np.max})\n",
    "#Lets check whether a customer belongs to multiple channels\n",
    "#pd.unique(pd.get_dummies(last_purchase_dist.reset_index()['channel']).sum(axis = 1))\n",
    "\n",
    "## verify whether multiple customers \n",
    "# measuring distributon across channels\n",
    "#pd.get_dummies(last_purchase_dist.reset_index()['channel']).sum(axis = 0)*100/pd.get_dummies(last_purchase_dist.reset_index()['channel']).sum(axis = 0).sum()"
   ]
  },
  {
   "cell_type": "code",
   "execution_count": 10,
   "metadata": {
    "collapsed": false,
    "deletable": true,
    "editable": true
   },
   "outputs": [],
   "source": [
    "from datetime import datetime\n",
    "today = datetime.today().replace(day = 7, month=11, year = 2016,hour=0,minute=0,second=0,microsecond=0)\n",
    "today\n",
    "last_purchase_dist['time_since_last_purchase']=last_purchase_dist['delivered_at']['amax'].apply(lambda x: today - x)"
   ]
  },
  {
   "cell_type": "code",
   "execution_count": 11,
   "metadata": {
    "collapsed": false,
    "deletable": true,
    "editable": true
   },
   "outputs": [
    {
     "data": {
      "text/html": [
       "<div>\n",
       "<table border=\"1\" class=\"dataframe\">\n",
       "  <thead>\n",
       "    <tr>\n",
       "      <th></th>\n",
       "      <th>count_boxes</th>\n",
       "      <th colspan=\"2\" halign=\"left\">delivered_at</th>\n",
       "      <th>purchase_gap_maxmin</th>\n",
       "      <th>time_since_last_purchase</th>\n",
       "    </tr>\n",
       "    <tr>\n",
       "      <th></th>\n",
       "      <th>amax</th>\n",
       "      <th>amin</th>\n",
       "      <th>amax</th>\n",
       "      <th></th>\n",
       "      <th></th>\n",
       "    </tr>\n",
       "    <tr>\n",
       "      <th>subscription_id</th>\n",
       "      <th></th>\n",
       "      <th></th>\n",
       "      <th></th>\n",
       "      <th></th>\n",
       "      <th></th>\n",
       "    </tr>\n",
       "  </thead>\n",
       "  <tbody>\n",
       "    <tr>\n",
       "      <th>1000001</th>\n",
       "      <td>3</td>\n",
       "      <td>2013-01-14</td>\n",
       "      <td>2013-01-28</td>\n",
       "      <td>14 days</td>\n",
       "      <td>1379 days</td>\n",
       "    </tr>\n",
       "    <tr>\n",
       "      <th>1000002</th>\n",
       "      <td>1</td>\n",
       "      <td>2013-01-28</td>\n",
       "      <td>2013-01-28</td>\n",
       "      <td>0 days</td>\n",
       "      <td>1379 days</td>\n",
       "    </tr>\n",
       "    <tr>\n",
       "      <th>1000003</th>\n",
       "      <td>1</td>\n",
       "      <td>2013-01-14</td>\n",
       "      <td>2013-01-14</td>\n",
       "      <td>0 days</td>\n",
       "      <td>1393 days</td>\n",
       "    </tr>\n",
       "    <tr>\n",
       "      <th>1000004</th>\n",
       "      <td>2</td>\n",
       "      <td>2013-01-21</td>\n",
       "      <td>2013-01-28</td>\n",
       "      <td>7 days</td>\n",
       "      <td>1379 days</td>\n",
       "    </tr>\n",
       "    <tr>\n",
       "      <th>1000005</th>\n",
       "      <td>3</td>\n",
       "      <td>2013-01-14</td>\n",
       "      <td>2013-01-28</td>\n",
       "      <td>14 days</td>\n",
       "      <td>1379 days</td>\n",
       "    </tr>\n",
       "  </tbody>\n",
       "</table>\n",
       "</div>"
      ],
      "text/plain": [
       "                count_boxes delivered_at            purchase_gap_maxmin  \\\n",
       "                       amax         amin       amax                       \n",
       "subscription_id                                                           \n",
       "1000001                   3   2013-01-14 2013-01-28             14 days   \n",
       "1000002                   1   2013-01-28 2013-01-28              0 days   \n",
       "1000003                   1   2013-01-14 2013-01-14              0 days   \n",
       "1000004                   2   2013-01-21 2013-01-28              7 days   \n",
       "1000005                   3   2013-01-14 2013-01-28             14 days   \n",
       "\n",
       "                time_since_last_purchase  \n",
       "                                          \n",
       "subscription_id                           \n",
       "1000001                        1379 days  \n",
       "1000002                        1379 days  \n",
       "1000003                        1393 days  \n",
       "1000004                        1379 days  \n",
       "1000005                        1379 days  "
      ]
     },
     "execution_count": 11,
     "metadata": {},
     "output_type": "execute_result"
    }
   ],
   "source": [
    "last_purchase_dist.head()"
   ]
  },
  {
   "cell_type": "code",
   "execution_count": 12,
   "metadata": {
    "collapsed": false,
    "deletable": true,
    "editable": true
   },
   "outputs": [
    {
     "data": {
      "text/plain": [
       "Index([u'subscription_id', u'('count_boxes', 'amax')',\n",
       "       u'('delivered_at', 'amin')', u'('delivered_at', 'amax')',\n",
       "       u'('purchase_gap_maxmin', '')', u'('time_since_last_purchase', '')'],\n",
       "      dtype='object')"
      ]
     },
     "execution_count": 12,
     "metadata": {},
     "output_type": "execute_result"
    }
   ],
   "source": [
    "pd.DataFrame(last_purchase_dist.to_records()).columns"
   ]
  },
  {
   "cell_type": "code",
   "execution_count": 127,
   "metadata": {
    "collapsed": false,
    "deletable": true,
    "editable": true
   },
   "outputs": [],
   "source": [
    "#TBD later\n",
    "#df = pd.concat([last_purchase_dist, pd.get_dummies(last_purchase_dist['channel'])], axis=1)\n",
    "#df.head()"
   ]
  },
  {
   "cell_type": "code",
   "execution_count": 10,
   "metadata": {
    "collapsed": false,
    "deletable": true,
    "editable": true
   },
   "outputs": [],
   "source": [
    "#TBD later\n",
    "#sub[['subscription_id','delivered_at']].groupby('subscription_id')['delivered_at'].apply(lambda x: list(x))"
   ]
  },
  {
   "cell_type": "code",
   "execution_count": 194,
   "metadata": {
    "collapsed": false,
    "deletable": true,
    "editable": true
   },
   "outputs": [],
   "source": [
    "grouped = sub[['subscription_id','delivered_at']].groupby('subscription_id')"
   ]
  },
  {
   "cell_type": "code",
   "execution_count": 195,
   "metadata": {
    "collapsed": false,
    "deletable": true,
    "editable": true
   },
   "outputs": [],
   "source": [
    "import pandas as pd\n",
    "from joblib import Parallel, delayed\n",
    "import multiprocessing\n",
    "\n",
    "def tmpFunc(df):\n",
    "    return (df['subscription_id'].iloc[0],df['delivered_at'].nlargest(2).min())\n",
    "    \n",
    "def applyParallel(dfGrouped, func):\n",
    "    retLst = Parallel(n_jobs=multiprocessing.cpu_count())(delayed(func)(group) for name, group in dfGrouped)\n",
    "    return pd.DataFrame(retLst,columns=['subscription_id','2nd_last_transaction_date'])\n",
    "df_temp = applyParallel(grouped, tmpFunc)"
   ]
  },
  {
   "cell_type": "code",
   "execution_count": 201,
   "metadata": {
    "collapsed": false,
    "deletable": true,
    "editable": true
   },
   "outputs": [],
   "source": [
    "df_temp.set_index('subscription_id',inplace=True)"
   ]
  },
  {
   "cell_type": "code",
   "execution_count": 202,
   "metadata": {
    "collapsed": false,
    "deletable": true,
    "editable": true
   },
   "outputs": [],
   "source": [
    "final_merge = pd.merge(last_purchase_dist,df_temp,how='inner',left_index=True,right_index=True)"
   ]
  },
  {
   "cell_type": "code",
   "execution_count": 203,
   "metadata": {
    "collapsed": false,
    "deletable": true,
    "editable": true
   },
   "outputs": [
    {
     "data": {
      "text/html": [
       "<div>\n",
       "<table border=\"1\" class=\"dataframe\">\n",
       "  <thead>\n",
       "    <tr style=\"text-align: right;\">\n",
       "      <th></th>\n",
       "      <th>(count_boxes, amax)</th>\n",
       "      <th>(delivered_at, amin)</th>\n",
       "      <th>(delivered_at, amax)</th>\n",
       "      <th>(purchase_gap_maxmin, )</th>\n",
       "      <th>(time_since_last_purchase, )</th>\n",
       "      <th>2nd_last_transaction_date</th>\n",
       "    </tr>\n",
       "    <tr>\n",
       "      <th>subscription_id</th>\n",
       "      <th></th>\n",
       "      <th></th>\n",
       "      <th></th>\n",
       "      <th></th>\n",
       "      <th></th>\n",
       "      <th></th>\n",
       "    </tr>\n",
       "  </thead>\n",
       "  <tbody>\n",
       "    <tr>\n",
       "      <th>1000001</th>\n",
       "      <td>3</td>\n",
       "      <td>2013-01-14</td>\n",
       "      <td>2013-01-28</td>\n",
       "      <td>14 days</td>\n",
       "      <td>1379 days</td>\n",
       "      <td>2013-01-21</td>\n",
       "    </tr>\n",
       "    <tr>\n",
       "      <th>1000002</th>\n",
       "      <td>1</td>\n",
       "      <td>2013-01-28</td>\n",
       "      <td>2013-01-28</td>\n",
       "      <td>0 days</td>\n",
       "      <td>1379 days</td>\n",
       "      <td>2013-01-28</td>\n",
       "    </tr>\n",
       "  </tbody>\n",
       "</table>\n",
       "</div>"
      ],
      "text/plain": [
       "                 (count_boxes, amax) (delivered_at, amin)  \\\n",
       "subscription_id                                             \n",
       "1000001                            3           2013-01-14   \n",
       "1000002                            1           2013-01-28   \n",
       "\n",
       "                (delivered_at, amax)  (purchase_gap_maxmin, )  \\\n",
       "subscription_id                                                 \n",
       "1000001                   2013-01-28                  14 days   \n",
       "1000002                   2013-01-28                   0 days   \n",
       "\n",
       "                 (time_since_last_purchase, ) 2nd_last_transaction_date  \n",
       "subscription_id                                                          \n",
       "1000001                             1379 days                2013-01-21  \n",
       "1000002                             1379 days                2013-01-28  "
      ]
     },
     "execution_count": 203,
     "metadata": {},
     "output_type": "execute_result"
    }
   ],
   "source": [
    "final_merge.head(2)"
   ]
  },
  {
   "cell_type": "code",
   "execution_count": 205,
   "metadata": {
    "collapsed": false,
    "deletable": true,
    "editable": true
   },
   "outputs": [],
   "source": [
    "cancels = pd.read_csv('/Users/puneetjindal/Downloads/data_science_test/cancels.csv',encoding='utf-8')\n",
    "cancels.set_index('subscription_id', inplace=True)"
   ]
  },
  {
   "cell_type": "code",
   "execution_count": 246,
   "metadata": {
    "collapsed": false,
    "deletable": true,
    "editable": true
   },
   "outputs": [
    {
     "data": {
      "text/html": [
       "<div>\n",
       "<table border=\"1\" class=\"dataframe\">\n",
       "  <thead>\n",
       "    <tr style=\"text-align: right;\">\n",
       "      <th></th>\n",
       "      <th>subscription_id</th>\n",
       "      <th>pause_start</th>\n",
       "      <th>pause_end</th>\n",
       "      <th>pause_gap</th>\n",
       "      <th>pause_cnt</th>\n",
       "    </tr>\n",
       "  </thead>\n",
       "  <tbody>\n",
       "    <tr>\n",
       "      <th>0</th>\n",
       "      <td>1000003</td>\n",
       "      <td>2013-06-10</td>\n",
       "      <td>2013-06-16</td>\n",
       "      <td>6 days</td>\n",
       "      <td>1</td>\n",
       "    </tr>\n",
       "    <tr>\n",
       "      <th>1</th>\n",
       "      <td>1000003</td>\n",
       "      <td>2013-06-17</td>\n",
       "      <td>2013-06-23</td>\n",
       "      <td>6 days</td>\n",
       "      <td>1</td>\n",
       "    </tr>\n",
       "    <tr>\n",
       "      <th>2</th>\n",
       "      <td>1000003</td>\n",
       "      <td>2013-06-24</td>\n",
       "      <td>2013-06-30</td>\n",
       "      <td>6 days</td>\n",
       "      <td>1</td>\n",
       "    </tr>\n",
       "    <tr>\n",
       "      <th>3</th>\n",
       "      <td>1000009</td>\n",
       "      <td>2013-02-04</td>\n",
       "      <td>2013-02-10</td>\n",
       "      <td>6 days</td>\n",
       "      <td>1</td>\n",
       "    </tr>\n",
       "    <tr>\n",
       "      <th>4</th>\n",
       "      <td>1000009</td>\n",
       "      <td>2013-02-11</td>\n",
       "      <td>2013-02-17</td>\n",
       "      <td>6 days</td>\n",
       "      <td>1</td>\n",
       "    </tr>\n",
       "  </tbody>\n",
       "</table>\n",
       "</div>"
      ],
      "text/plain": [
       "   subscription_id pause_start  pause_end  pause_gap  pause_cnt\n",
       "0          1000003  2013-06-10 2013-06-16     6 days          1\n",
       "1          1000003  2013-06-17 2013-06-23     6 days          1\n",
       "2          1000003  2013-06-24 2013-06-30     6 days          1\n",
       "3          1000009  2013-02-04 2013-02-10     6 days          1\n",
       "4          1000009  2013-02-11 2013-02-17     6 days          1"
      ]
     },
     "execution_count": 246,
     "metadata": {},
     "output_type": "execute_result"
    }
   ],
   "source": [
    "pauses = pd.read_csv('/Users/puneetjindal/Downloads/data_science_test/pauses.csv',encoding='utf-8')\n",
    "pauses['pause_start'] = pd.to_datetime(pauses['pause_start'])\n",
    "pauses['pause_end'] = pd.to_datetime(pauses['pause_end'])\n",
    "pauses['pause_gap'] = pauses['pause_end'] - pauses['pause_start']\n",
    "pauses['pause_cnt'] = pd.Series(1, index=pauses.index)\n",
    "pauses.head()"
   ]
  },
  {
   "cell_type": "code",
   "execution_count": 247,
   "metadata": {
    "collapsed": false,
    "deletable": true,
    "editable": true
   },
   "outputs": [
    {
     "data": {
      "text/plain": [
       "[1016098,\n",
       " 1056841,\n",
       " 1109456,\n",
       " 1116541,\n",
       " 1120570,\n",
       " 1124078,\n",
       " 1124305,\n",
       " 1127590,\n",
       " 1131108,\n",
       " 1132356,\n",
       " 1139123,\n",
       " 1139303,\n",
       " 1140343,\n",
       " 1144456,\n",
       " 1147240,\n",
       " 1147327,\n",
       " 1150967]"
      ]
     },
     "execution_count": 247,
     "metadata": {},
     "output_type": "execute_result"
    }
   ],
   "source": [
    "list(pd.unique(pauses[pauses['pause_gap']!='6 days']['subscription_id']))"
   ]
  },
  {
   "cell_type": "code",
   "execution_count": 248,
   "metadata": {
    "collapsed": false,
    "deletable": true,
    "editable": true
   },
   "outputs": [],
   "source": [
    "##commenting as of now once i get an answer from the business to take a call on the data imputation for the following subscription ids\n",
    "#last_purchase_dist[last_purchase_dist.index.isin(list(pd.unique(pauses[pauses['pause_gap']!='6 days']['subscription_id'])))]\n",
    "\n",
    "## taking the above assumption\n",
    "pauses = pauses[pauses['pause_gap']!='-360 days']"
   ]
  },
  {
   "cell_type": "code",
   "execution_count": 249,
   "metadata": {
    "collapsed": false,
    "deletable": true,
    "editable": true
   },
   "outputs": [],
   "source": [
    "pauses_woseasonality = pauses.groupby('subscription_id').agg({'pause_cnt':'sum'})\n",
    "## adding seasonality factors later on pauses"
   ]
  },
  {
   "cell_type": "code",
   "execution_count": 250,
   "metadata": {
    "collapsed": false,
    "deletable": true,
    "editable": true
   },
   "outputs": [
    {
     "name": "stdout",
     "output_type": "stream",
     "text": [
      "(313660, 3)\n",
      "(228837, 1)\n",
      "(395383, 5)\n"
     ]
    }
   ],
   "source": [
    "print cancels.shape\n",
    "print pauses_woseasonality.shape\n",
    "print last_purchase_dist.shape"
   ]
  },
  {
   "cell_type": "code",
   "execution_count": 232,
   "metadata": {
    "collapsed": false,
    "deletable": true,
    "editable": true
   },
   "outputs": [],
   "source": [
    "#cancels.head()\n",
    "#Taking cancellation seasonality into account later. As of now taking binary of cancelation is more important"
   ]
  },
  {
   "cell_type": "code",
   "execution_count": 238,
   "metadata": {
    "collapsed": false,
    "deletable": true,
    "editable": true
   },
   "outputs": [],
   "source": [
    "cancels['cancelled'] = pd.Series(1, index=cancels.index)"
   ]
  },
  {
   "cell_type": "code",
   "execution_count": 242,
   "metadata": {
    "collapsed": false,
    "deletable": true,
    "editable": true
   },
   "outputs": [],
   "source": [
    "final_merge = pd.merge(final_merge,cancels,how='left',left_index=True,right_index=True)"
   ]
  },
  {
   "cell_type": "code",
   "execution_count": 252,
   "metadata": {
    "collapsed": false,
    "deletable": true,
    "editable": true
   },
   "outputs": [],
   "source": [
    "final_merge = pd.merge(final_merge,pauses_woseasonality,how='left',left_index=True,right_index=True)"
   ]
  },
  {
   "cell_type": "code",
   "execution_count": 253,
   "metadata": {
    "collapsed": false,
    "deletable": true,
    "editable": true
   },
   "outputs": [
    {
     "data": {
      "text/html": [
       "<div>\n",
       "<table border=\"1\" class=\"dataframe\">\n",
       "  <thead>\n",
       "    <tr style=\"text-align: right;\">\n",
       "      <th></th>\n",
       "      <th>(count_boxes, amax)</th>\n",
       "      <th>(delivered_at, amin)</th>\n",
       "      <th>(delivered_at, amax)</th>\n",
       "      <th>(purchase_gap_maxmin, )</th>\n",
       "      <th>(time_since_last_purchase, )</th>\n",
       "      <th>2nd_last_transaction_date</th>\n",
       "      <th>delivery_weekday</th>\n",
       "      <th>canceled_at</th>\n",
       "      <th>cancelled</th>\n",
       "      <th>pause_cnt</th>\n",
       "    </tr>\n",
       "    <tr>\n",
       "      <th>subscription_id</th>\n",
       "      <th></th>\n",
       "      <th></th>\n",
       "      <th></th>\n",
       "      <th></th>\n",
       "      <th></th>\n",
       "      <th></th>\n",
       "      <th></th>\n",
       "      <th></th>\n",
       "      <th></th>\n",
       "      <th></th>\n",
       "    </tr>\n",
       "  </thead>\n",
       "  <tbody>\n",
       "    <tr>\n",
       "      <th>1000001</th>\n",
       "      <td>3</td>\n",
       "      <td>2013-01-14</td>\n",
       "      <td>2013-01-28</td>\n",
       "      <td>14 days</td>\n",
       "      <td>1379 days</td>\n",
       "      <td>2013-01-21</td>\n",
       "      <td>3.0</td>\n",
       "      <td>2013-01-29</td>\n",
       "      <td>1.0</td>\n",
       "      <td>NaN</td>\n",
       "    </tr>\n",
       "    <tr>\n",
       "      <th>1000002</th>\n",
       "      <td>1</td>\n",
       "      <td>2013-01-28</td>\n",
       "      <td>2013-01-28</td>\n",
       "      <td>0 days</td>\n",
       "      <td>1379 days</td>\n",
       "      <td>2013-01-28</td>\n",
       "      <td>3.0</td>\n",
       "      <td>2013-01-30</td>\n",
       "      <td>1.0</td>\n",
       "      <td>NaN</td>\n",
       "    </tr>\n",
       "    <tr>\n",
       "      <th>1000003</th>\n",
       "      <td>1</td>\n",
       "      <td>2013-01-14</td>\n",
       "      <td>2013-01-14</td>\n",
       "      <td>0 days</td>\n",
       "      <td>1393 days</td>\n",
       "      <td>2013-01-14</td>\n",
       "      <td>3.0</td>\n",
       "      <td>2013-06-03</td>\n",
       "      <td>1.0</td>\n",
       "      <td>3.0</td>\n",
       "    </tr>\n",
       "    <tr>\n",
       "      <th>1000004</th>\n",
       "      <td>2</td>\n",
       "      <td>2013-01-21</td>\n",
       "      <td>2013-01-28</td>\n",
       "      <td>7 days</td>\n",
       "      <td>1379 days</td>\n",
       "      <td>2013-01-21</td>\n",
       "      <td>3.0</td>\n",
       "      <td>2013-01-28</td>\n",
       "      <td>1.0</td>\n",
       "      <td>NaN</td>\n",
       "    </tr>\n",
       "    <tr>\n",
       "      <th>1000005</th>\n",
       "      <td>3</td>\n",
       "      <td>2013-01-14</td>\n",
       "      <td>2013-01-28</td>\n",
       "      <td>14 days</td>\n",
       "      <td>1379 days</td>\n",
       "      <td>2013-01-21</td>\n",
       "      <td>3.0</td>\n",
       "      <td>2013-01-30</td>\n",
       "      <td>1.0</td>\n",
       "      <td>NaN</td>\n",
       "    </tr>\n",
       "  </tbody>\n",
       "</table>\n",
       "</div>"
      ],
      "text/plain": [
       "                 (count_boxes, amax) (delivered_at, amin)  \\\n",
       "subscription_id                                             \n",
       "1000001                            3           2013-01-14   \n",
       "1000002                            1           2013-01-28   \n",
       "1000003                            1           2013-01-14   \n",
       "1000004                            2           2013-01-21   \n",
       "1000005                            3           2013-01-14   \n",
       "\n",
       "                (delivered_at, amax)  (purchase_gap_maxmin, )  \\\n",
       "subscription_id                                                 \n",
       "1000001                   2013-01-28                  14 days   \n",
       "1000002                   2013-01-28                   0 days   \n",
       "1000003                   2013-01-14                   0 days   \n",
       "1000004                   2013-01-28                   7 days   \n",
       "1000005                   2013-01-28                  14 days   \n",
       "\n",
       "                 (time_since_last_purchase, ) 2nd_last_transaction_date  \\\n",
       "subscription_id                                                           \n",
       "1000001                             1379 days                2013-01-21   \n",
       "1000002                             1379 days                2013-01-28   \n",
       "1000003                             1393 days                2013-01-14   \n",
       "1000004                             1379 days                2013-01-21   \n",
       "1000005                             1379 days                2013-01-21   \n",
       "\n",
       "                 delivery_weekday canceled_at  cancelled  pause_cnt  \n",
       "subscription_id                                                      \n",
       "1000001                       3.0  2013-01-29        1.0        NaN  \n",
       "1000002                       3.0  2013-01-30        1.0        NaN  \n",
       "1000003                       3.0  2013-06-03        1.0        3.0  \n",
       "1000004                       3.0  2013-01-28        1.0        NaN  \n",
       "1000005                       3.0  2013-01-30        1.0        NaN  "
      ]
     },
     "execution_count": 253,
     "metadata": {},
     "output_type": "execute_result"
    }
   ],
   "source": [
    "final_merge.head()\n",
    "###lets rename columns to make things more simple"
   ]
  },
  {
   "cell_type": "code",
   "execution_count": null,
   "metadata": {
    "collapsed": true
   },
   "outputs": [],
   "source": []
  }
 ],
 "metadata": {
  "kernelspec": {
   "display_name": "Python 2",
   "language": "python",
   "name": "python2"
  },
  "language_info": {
   "codemirror_mode": {
    "name": "ipython",
    "version": 2
   },
   "file_extension": ".py",
   "mimetype": "text/x-python",
   "name": "python",
   "nbconvert_exporter": "python",
   "pygments_lexer": "ipython2",
   "version": "2.7.13"
  }
 },
 "nbformat": 4,
 "nbformat_minor": 2
}
