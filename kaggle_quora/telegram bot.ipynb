{
 "cells": [
  {
   "cell_type": "code",
   "execution_count": 1,
   "metadata": {
    "collapsed": true
   },
   "outputs": [],
   "source": [
    "import requests"
   ]
  },
  {
   "cell_type": "code",
   "execution_count": 19,
   "metadata": {
    "collapsed": false
   },
   "outputs": [],
   "source": [
    "r = requests.get(\"https://api.telegram.org/bot342647952:AAFi9iGxQ5nqUETFwBBSf9rJwFh3iogIKYA/getMe\")"
   ]
  },
  {
   "cell_type": "code",
   "execution_count": 21,
   "metadata": {
    "collapsed": false
   },
   "outputs": [
    {
     "data": {
      "text/plain": [
       "200"
      ]
     },
     "execution_count": 21,
     "metadata": {},
     "output_type": "execute_result"
    }
   ],
   "source": [
    "r.status_code"
   ]
  },
  {
   "cell_type": "code",
   "execution_count": 22,
   "metadata": {
    "collapsed": false
   },
   "outputs": [
    {
     "data": {
      "text/plain": [
       "'{\"ok\":true,\"result\":{\"id\":342647952,\"first_name\":\"deadpool\",\"username\":\"puneet_bot\"}}'"
      ]
     },
     "execution_count": 22,
     "metadata": {},
     "output_type": "execute_result"
    }
   ],
   "source": [
    "r.content"
   ]
  },
  {
   "cell_type": "code",
   "execution_count": 31,
   "metadata": {
    "collapsed": true
   },
   "outputs": [],
   "source": [
    "r = requests.get(\"https://api.telegram.org/bot342647952:AAFi9iGxQ5nqUETFwBBSf9rJwFh3iogIKYA/getUpdates\")"
   ]
  },
  {
   "cell_type": "code",
   "execution_count": 32,
   "metadata": {
    "collapsed": false
   },
   "outputs": [
    {
     "data": {
      "text/plain": [
       "'{\"ok\":true,\"result\":[{\"update_id\":612702885,\\n\"message\":{\"message_id\":2,\"from\":{\"id\":302969971,\"first_name\":\"Puneet\",\"username\":\"puneetjindalisb\"},\"chat\":{\"id\":302969971,\"first_name\":\"Puneet\",\"username\":\"puneetjindalisb\",\"type\":\"private\"},\"date\":1489819464,\"text\":\"are you there\"}},{\"update_id\":612702886,\\n\"message\":{\"message_id\":3,\"from\":{\"id\":302969971,\"first_name\":\"Puneet\",\"username\":\"puneetjindalisb\"},\"chat\":{\"id\":302969971,\"first_name\":\"Puneet\",\"username\":\"puneetjindalisb\",\"type\":\"private\"},\"date\":1489819493,\"text\":\"i am waiting for you\"}}]}'"
      ]
     },
     "execution_count": 32,
     "metadata": {},
     "output_type": "execute_result"
    }
   ],
   "source": [
    "r.content"
   ]
  },
  {
   "cell_type": "code",
   "execution_count": null,
   "metadata": {
    "collapsed": true
   },
   "outputs": [],
   "source": []
  }
 ],
 "metadata": {
  "kernelspec": {
   "display_name": "Python 2",
   "language": "python",
   "name": "python2"
  },
  "language_info": {
   "codemirror_mode": {
    "name": "ipython",
    "version": 2
   },
   "file_extension": ".py",
   "mimetype": "text/x-python",
   "name": "python",
   "nbconvert_exporter": "python",
   "pygments_lexer": "ipython2",
   "version": "2.7.13"
  }
 },
 "nbformat": 4,
 "nbformat_minor": 2
}
