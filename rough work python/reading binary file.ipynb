{
 "cells": [
  {
   "cell_type": "code",
   "execution_count": 50,
   "metadata": {
    "collapsed": false
   },
   "outputs": [
    {
     "name": "stdout",
     "output_type": "stream",
     "text": [
      "5278\n",
      "5278\n"
     ]
    }
   ],
   "source": [
    "import os        \n",
    "import clr\n",
    "import System\n",
    "import pandas as pd\n",
    "\n",
    "filepaths = []\n",
    "filePath = \"D:\\OTARank\\OTARank\"\n",
    "for path, subdirs, files in os.walk(filePath):\n",
    "    for filename in [s for s in files if 'mergerrank' in s.lower()]:\n",
    "        filepaths.append(os.path.join(filePath,path,filename))\n",
    "print len(filepaths)\n",
    "filepaths = sorted(list(set(filepaths)))\n",
    "print len(filepaths)"
   ]
  },
  {
   "cell_type": "code",
   "execution_count": 127,
   "metadata": {
    "collapsed": false
   },
   "outputs": [
    {
     "data": {
      "text/html": [
       "<div>\n",
       "<table border=\"1\" class=\"dataframe\">\n",
       "  <thead>\n",
       "    <tr style=\"text-align: right;\">\n",
       "      <th></th>\n",
       "      <th>checkin</th>\n",
       "      <th>channel</th>\n",
       "      <th>prop_id</th>\n",
       "      <th>inte_prop</th>\n",
       "      <th>price</th>\n",
       "      <th>name</th>\n",
       "      <th>sid</th>\n",
       "    </tr>\n",
       "  </thead>\n",
       "  <tbody>\n",
       "    <tr>\n",
       "      <th>0</th>\n",
       "      <td>4/1/2017 12:00:00 AM</td>\n",
       "      <td>Booking.com</td>\n",
       "      <td>246435</td>\n",
       "      <td>Sub</td>\n",
       "      <td>81.002</td>\n",
       "      <td>Copthorne Hotel London Gatwick</td>\n",
       "      <td>10007</td>\n",
       "    </tr>\n",
       "    <tr>\n",
       "      <th>1</th>\n",
       "      <td>4/1/2017 12:00:00 AM</td>\n",
       "      <td>Booking.com</td>\n",
       "      <td>217221</td>\n",
       "      <td>NA</td>\n",
       "      <td>37.694</td>\n",
       "      <td>Holiday Inn London Gatwick - Worth</td>\n",
       "      <td>10007</td>\n",
       "    </tr>\n",
       "    <tr>\n",
       "      <th>2</th>\n",
       "      <td>4/1/2017 12:00:00 AM</td>\n",
       "      <td>Booking.com</td>\n",
       "      <td>233456</td>\n",
       "      <td>NA</td>\n",
       "      <td>47.318</td>\n",
       "      <td>Ramada Crawley-Gatwick</td>\n",
       "      <td>10007</td>\n",
       "    </tr>\n",
       "    <tr>\n",
       "      <th>3</th>\n",
       "      <td>4/1/2017 12:00:00 AM</td>\n",
       "      <td>Booking.com</td>\n",
       "      <td>238943</td>\n",
       "      <td>NA</td>\n",
       "      <td>55.338</td>\n",
       "      <td>Sandman Signature London Gatwick</td>\n",
       "      <td>10007</td>\n",
       "    </tr>\n",
       "    <tr>\n",
       "      <th>4</th>\n",
       "      <td>4/1/2017 12:00:00 AM</td>\n",
       "      <td>Booking.com</td>\n",
       "      <td>208924</td>\n",
       "      <td>NA</td>\n",
       "      <td>61.754</td>\n",
       "      <td>Premier Inn London Gatwick Airport (Manor Royal)</td>\n",
       "      <td>10007</td>\n",
       "    </tr>\n",
       "  </tbody>\n",
       "</table>\n",
       "</div>"
      ],
      "text/plain": [
       "                checkin      channel  prop_id inte_prop   price  \\\n",
       "0  4/1/2017 12:00:00 AM  Booking.com   246435       Sub  81.002   \n",
       "1  4/1/2017 12:00:00 AM  Booking.com   217221        NA  37.694   \n",
       "2  4/1/2017 12:00:00 AM  Booking.com   233456        NA  47.318   \n",
       "3  4/1/2017 12:00:00 AM  Booking.com   238943        NA  55.338   \n",
       "4  4/1/2017 12:00:00 AM  Booking.com   208924        NA  61.754   \n",
       "\n",
       "                                               name    sid  \n",
       "0                    Copthorne Hotel London Gatwick  10007  \n",
       "1                Holiday Inn London Gatwick - Worth  10007  \n",
       "2                            Ramada Crawley-Gatwick  10007  \n",
       "3                  Sandman Signature London Gatwick  10007  \n",
       "4  Premier Inn London Gatwick Airport (Manor Royal)  10007  "
      ]
     },
     "execution_count": 127,
     "metadata": {},
     "output_type": "execute_result"
    }
   ],
   "source": [
    "data_list = []\n",
    "#requires pythonnet installed -> pip install pythonnet \n",
    "clr.AddReference(\"BinaryToJson/Common.Utility.DL.BO\") # usually requires dll to be within directory\n",
    "clr.AddReference('System.Runtime.Serialization')\n",
    "clr.AddReference('System.IO')\n",
    "\n",
    "from System.Runtime.Serialization.Formatters.Binary import BinaryFormatter\n",
    "from System.IO import FileStream,FileMode,FileAccess,FileShare\n",
    "\n",
    "z= None\n",
    "for filepath in filepaths[:10]:\n",
    "    serializer = BinaryFormatter()\n",
    "    reader = FileStream(filepath, FileMode.Open, FileAccess.Read, FileShare.None)\n",
    "    data = serializer.Deserialize(reader)\n",
    "    reader.Close()\n",
    "    for x in data.GetEnumerator():\n",
    "        data_list.append((x.get_CheckInDate(),x.get_ChannelName(),x.get_PropertyID(),\n",
    "                          x.get_IntermediateProperty(),x.get_Price().ToString(),x.get_PropertyName(),\n",
    "                         x.get_SID()))\n",
    "df = pd.DataFrame(data_list,columns=['checkin','channel','prop_id','inte_prop','price','name','sid'])\n",
    "df.head()"
   ]
  },
  {
   "cell_type": "code",
   "execution_count": 129,
   "metadata": {
    "collapsed": false
   },
   "outputs": [
    {
     "data": {
      "text/plain": [
       "<matplotlib.axes._subplots.AxesSubplot at 0xe0051f60>"
      ]
     },
     "execution_count": 129,
     "metadata": {},
     "output_type": "execute_result"
    },
    {
     "data": {
      "image/png": "[encoded data removed]",
      "text/plain": [
       "<matplotlib.figure.Figure at 0xaa3610b8>"
      ]
     },
     "metadata": {},
     "output_type": "display_data"
    }
   ],
   "source": [
    "import matplotlib as plt\n",
    "import pandas as pd\n",
    "%matplotlib inline\n",
    "\n",
    "df['price'] = pd.to_numeric(df['price'])\n",
    "df['channel'] = df['channel'].astype('str')\n",
    "df['name'] = df['name'].astype(unicode)\n",
    "df['price'].plot()"
   ]
  },
  {
   "cell_type": "code",
   "execution_count": 130,
   "metadata": {
    "collapsed": false
   },
   "outputs": [
    {
     "data": {
      "text/plain": [
       "checkin       object\n",
       "channel       object\n",
       "prop_id        int64\n",
       "inte_prop     object\n",
       "price        float64\n",
       "name          object\n",
       "sid            int64\n",
       "dtype: object"
      ]
     },
     "execution_count": 130,
     "metadata": {},
     "output_type": "execute_result"
    }
   ],
   "source": [
    "df.dtypes"
   ]
  },
  {
   "cell_type": "code",
   "execution_count": 66,
   "metadata": {
    "collapsed": false,
    "scrolled": false
   },
   "outputs": [
    {
     "data": {
      "text/plain": [
       "2871"
      ]
     },
     "execution_count": 66,
     "metadata": {},
     "output_type": "execute_result"
    }
   ],
   "source": [
    "sorted(filepaths)\n",
    "filepaths.index('D:\\\\OTARank\\\\OTARank\\\\20\\\\2017\\\\Apr\\\\Mergerrank_Apr')"
   ]
  },
  {
   "cell_type": "code",
   "execution_count": 67,
   "metadata": {
    "collapsed": false
   },
   "outputs": [
    {
     "data": {
      "text/plain": [
       "['D:\\\\OTARank\\\\OTARank\\\\20\\\\2017\\\\Apr\\\\Mergerrank_Apr',\n",
       " 'D:\\\\OTARank\\\\OTARank\\\\20\\\\2017\\\\Feb\\\\Mergerrank_Feb',\n",
       " 'D:\\\\OTARank\\\\OTARank\\\\20\\\\2017\\\\Jan\\\\Mergerrank_Jan',\n",
       " 'D:\\\\OTARank\\\\OTARank\\\\20\\\\2017\\\\Jun\\\\Mergerrank_Jun',\n",
       " 'D:\\\\OTARank\\\\OTARank\\\\20\\\\2017\\\\Mar\\\\Mergerrank_Mar',\n",
       " 'D:\\\\OTARank\\\\OTARank\\\\20\\\\2017\\\\May\\\\Mergerrank_May',\n",
       " 'D:\\\\OTARank\\\\OTARank\\\\2108\\\\2017\\\\Apr\\\\Mergerrank_Apr',\n",
       " 'D:\\\\OTARank\\\\OTARank\\\\2108\\\\2017\\\\Feb\\\\Mergerrank_Feb']"
      ]
     },
     "execution_count": 67,
     "metadata": {},
     "output_type": "execute_result"
    }
   ],
   "source": [
    "filepaths[2871:2879]"
   ]
  },
  {
   "cell_type": "code",
   "execution_count": null,
   "metadata": {
    "collapsed": true
   },
   "outputs": [],
   "source": []
  }
 ],
 "metadata": {
  "kernelspec": {
   "display_name": "Python 2",
   "language": "python",
   "name": "python2"
  },
  "language_info": {
   "codemirror_mode": {
    "name": "ipython",
    "version": 2
   },
   "file_extension": ".py",
   "mimetype": "text/x-python",
   "name": "python",
   "nbconvert_exporter": "python",
   "pygments_lexer": "ipython2",
   "version": "2.7.12"
  }
 },
 "nbformat": 4,
 "nbformat_minor": 1
}
