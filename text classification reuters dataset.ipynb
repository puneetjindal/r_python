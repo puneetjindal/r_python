{
 "cells": [
  {
   "cell_type": "code",
   "execution_count": 72,
   "metadata": {
    "collapsed": false,
    "deletable": true,
    "editable": true
   },
   "outputs": [],
   "source": [
    "files = []\n",
    "files.append(open('reuters21578/all-exchanges-strings.lc.txt','r'))\n",
    "files.append(open('reuters21578/all-orgs-strings.lc.txt','r'))\n",
    "files.append(open('reuters21578/all-people-strings.lc.txt','r'))\n",
    "files.append(open('reuters21578/all-places-strings.lc.txt','r'))\n",
    "files.append(open('reuters21578/all-topics-strings.lc.txt','r'))"
   ]
  },
  {
   "cell_type": "code",
   "execution_count": 73,
   "metadata": {
    "collapsed": false,
    "deletable": true,
    "editable": true,
    "scrolled": true
   },
   "outputs": [
    {
     "name": "stdout",
     "output_type": "stream",
     "text": [
      "40\n",
      "['amex', 'ase', 'asx', 'biffex', 'bse', 'cboe', 'cbt', 'cme', 'comex', 'cse', 'fox', 'fse', 'hkse', 'ipe', 'jse', 'klce', 'klse', 'liffe', 'lme', 'lse', 'mase', 'mise', 'mnse', 'mose', 'nasdaq', 'nyce', 'nycsce', 'nymex', 'nyse', 'ose', 'pse', 'set', 'simex', 'sse', 'stse', 'tose', 'tse', 'wce', 'zse', '']\n",
      "\n",
      "\n",
      "57\n",
      "['adb-africa', 'adb-asia', 'aibd', 'aid', 'anrpc', 'asean', 'atpc', 'bis', 'cipec', 'comecon', 'ec', 'eca', 'ecafe', 'ece', 'ecla', 'ecsc', 'ecwa', 'efta', 'eib', 'emcf', 'escap', 'euratom', 'fao', 'gatt', 'gcc', 'geplacea', 'iaea', 'iata', 'icco', 'ico-coffee', 'ico-islam', 'ida', 'iea', 'iisi', 'ilo', 'ilzsg', 'imco', 'imf', 'inro', 'irsg', 'isa', 'itc', 'iwc-whale', 'iwc-wheat', 'iwcc', 'iws', 'iwto', 'lafta', 'mfa', 'oapec', 'oecd', 'opec', 'un', 'unctad', 'who', 'worldbank', '']\n",
      "\n",
      "\n",
      "268\n",
      "['abdel-hadi-kandeel', 'alfonsin', 'alhaji-abdul-ahmed', 'alptemocin', 'amato', 'andersen', 'andriessen', 'aqazadeh', 'aquino', 'arafat', 'babangida', 'balladur', 'bangemann', 'barreto', 'berge', 'beteta', 'blix', 'boesky', 'bond', 'botha', 'bouey', 'braks', 'bresser-pereira', 'brodersohn', 'brundtland', 'camdessus', 'carlsson', 'caro', 'castelo-branco', 'castro', 'cavaco-silva', 'chaves', 'chen-muhua', 'chiang-ching-kuo', 'chien', 'chirac', 'ciampi', 'colombo', 'conable', 'concepcion', 'corrigan', 'cossiga', 'crow', 'dadzie', 'dauster', 'de-clercq', 'de-kock', 'de-korte', 'de-la-madrid', 'de-larosiere', 'del-mazo', 'delamuraz', 'delors', 'dementsev', 'deng-xiaoping', 'dennis', 'dhillon', 'dominguez', 'douglas', 'du-plessis', 'duisenberg', 'dunkel', 'edelman', 'enggaard', 'eser', 'evren', 'eyskens', 'feldt', 'fernandez', 'ferrari', 'finnbogadottir', 'friedman', 'fujioka', 'gaddafi', 'gandhi', 'garcia', 'gava', 'godeaux', 'gonzalez', 'gorbachev', 'goria', 'gostyev', 'graf', 'greenspan', 'gromyko', 'grosz', 'guillaume', 'halikias', 'hamad-saud-al-sayyari', 'hannibalsson', 'haughey', 'hawke', 'he-kang', 'herrington', 'hillery', 'hisham-nazer', 'hoefner', 'hoffmeyer', 'holberg', 'holkeri', 'honecker', 'hovmand', 'howard-baker', 'husak', 'icahn', 'james-baker', 'james-miller', 'jaruzelski', 'jayme', 'johnston', 'kaminsky', 'kaufman', 'keating', 'khameini', 'khomeini', 'kiechle', 'king-fahd', 'kohl', 'koivisto', 'kondo', 'koren', 'kullberg', 'lacina', 'lange', 'languetin', 'lawson', 'lee-ta-hai', 'lee-teng-hui', 'leenanon', 'leigh-pemberton', 'leitz', 'li-peng', 'li-xiannian', 'liikanen', 'lubbers', 'lukman', 'lyng', 'machinea', 'macsharry', 'malhotra', 'mancera-aguayo', 'martens', 'martin', 'masse', 'maxwell', 'maystadt', 'medgyessy', 'messner', 'mikulic', 'milliet', 'mitterrand', 'miyazawa', 'mohammad-ibrahim-jaffrey-baluch', 'mohammad-khan-junejo', 'mohammad-yasin-khan-wattoo', 'mohammed-ahmed-al-razaz', 'mohammed-ali-abal-khail', 'mohammed-salaheddin-hamid', 'morales-bermudez', 'mousavi', 'moyle', 'mubarak', 'mulroney', 'murdoch', 'mustapha', 'nakao', 'nakasone', 'nasko', 'nemeth', 'nobrega', 'o-cofaigh', 'o-kennedy', 'oeien', 'okongwu', 'ongpin', 'ortega', 'ozal', 'palsson', 'pandolfi', 'papandreou', 'parkinson', 'paye', 'perez-de-cuellar', 'petricioli', 'pickens', 'poehl', 'pottakis', 'prawiro', 'qassemi', 'rafnar', 'rafsanjani', 'reagan', 'rezende', 'riberio-cadilhe', 'rich', 'rikanovic', 'rojas', 'romero', 'roumeliotis', 'rowland', 'rubio', 'ruder', 'ruding', 'russell', 'ryzhkov', 'saberbein', 'salinas', 'samojlik', 'santer', 'saracoglu', 'sarney', 'sartzetakis', 'sathe', 'schlueter', 'sedki', 'simitis', 'simonsen', 'singhasaneh', 'siregar', 'skaanland', 'soares', 'solchaga', 'sourrouille', 'sprinkel', 'steeg', 'stich', 'stoltenberg', 'stoph', 'strougal', 'subroto', 'suharto', 'sumita', 'suominen', 'takeshita', 'tamura', 'tavares-moreia', 'thatcher', 'timar', 'tinsulanonda', 'tiwari', 'toernaes', 'toman', 'tsovolas', 'vancsa', 'venkataraman', 'vera-la-rosa', 'verity', 'villanyi', 'vlatkovic', 'volcker', 'von-weizsaecker', 'vranitzky', 'waldheim', 'wali', 'walsh', 'wang-bingqian', 'wardhana', 'wasim-aun-jaffrey', 'wilson', 'wise', 'yeutter', 'young', 'yu-kuo-hua', 'zak', 'zhao-ziyang', 'zheng-tuobin', 'zia-ul-haq', '']\n",
      "\n",
      "\n",
      "176\n",
      "['afghanistan', 'albania ', 'algeria ', 'american-samoa', 'andorra ', 'angola  ', 'anguilla', 'antigua ', 'argentina  ', 'aruba', 'australia  ', 'austria ', 'bahamas ', 'bahrain ', 'bangladesh ', 'barbados', 'belgium ', 'belize  ', 'benin', 'bermuda ', 'bhutan  ', 'bolivia ', 'botswana', 'brazil  ', 'british-virgin-islands', 'brunei  ', 'bulgaria', 'burkina-faso', 'burma', 'burundi ', 'cameroon', 'canada  ', 'cape-verde ', 'cayman-islands', 'central-african-republic', 'chad ', 'chile', 'china', 'colombia', 'congo', 'costa-rica ', 'cuba ', 'cyprus  ', 'czechoslovakia', 'denmark', 'djibouti', 'dominica', 'dominican-republic', 'east-germany', 'ecuador ', 'egypt', 'el-salvador', 'equatorial-guinea', 'ethiopia', 'fiji ', 'finland ', 'france  ', 'french-guiana', 'gabon', 'gambia  ', 'ghana', 'gibraltar  ', 'greece  ', 'grenada ', 'guadeloupe ', 'guam ', 'guatemala  ', 'guinea  ', 'guinea-bissau', 'guyana  ', 'haiti', 'honduras', 'hong-kong  ', 'hungary ', 'iceland ', 'india', 'indonesia  ', 'iran ', 'iraq ', 'ireland ', 'israel  ', 'italy', 'ivory-coast', 'jamaica ', 'japan', 'jordan  ', 'kampuchea  ', 'kenya', 'kuwait  ', 'laos ', 'lebanon ', 'lesotho ', 'liberia ', 'libya', 'liechtenstein', 'luxembourg ', 'macao', 'madagascar ', 'malawi  ', 'malaysia', 'mali ', 'malta', 'martinique ', 'mauritania ', 'mauritius  ', 'mexico  ', 'monaco  ', 'morocco ', 'mozambique ', 'namibia ', 'nepal', 'netherlands', 'netherlands-antilles', 'new-caledonia', 'new-zealand', 'nicaragua  ', 'niger', 'nigeria ', 'north-korea', 'norway  ', 'oman ', 'pakistan', 'panama  ', 'papua-new-guinea', 'paraguay', 'peru ', 'philippines', 'poland  ', 'portugal', 'qatar', 'romania ', 'rwanda  ', 'saudi-arabia', 'senegal ', 'seychelles ', 'sierra-leone', 'singapore  ', 'somalia ', 'south-africa', 'south-korea', 'spain', 'sri-lanka  ', 'sudan', 'suriname', 'swaziland  ', 'sweden  ', 'switzerland', 'syria', 'taiwan  ', 'tanzania', 'thailand', 'togo ', 'tonga', 'trinidad-tobago', 'tunisia ', 'turkey  ', 'uae  ', 'uganda  ', 'uk', 'uruguay ', 'us-virgin-islands', 'usa', 'ussr', 'vanuatu ', 'vatican ', 'venezuela  ', 'vietnam ', 'west-germany', 'western-samoa', 'yemen-arab-republic', 'yemen-demo-republic', 'yugoslavia ', 'zaire', 'zambia  ', 'zimbabwe', '']\n",
      "\n",
      "\n",
      "136\n",
      "['acq', 'alum', 'austdlr', 'austral', 'barley', 'bfr', 'bop', 'can', 'carcass', 'castor-meal', 'castor-oil', 'castorseed', 'citruspulp', 'cocoa', 'coconut', 'coconut-oil', 'coffee', 'copper', 'copra-cake', 'corn', 'corn-oil', 'cornglutenfeed', 'cotton ', 'cotton-meal', 'cotton-oil', 'cottonseed', 'cpi', 'cpu', 'crude', 'cruzado', 'dfl', 'dkr', 'dlr', 'dmk', 'drachma', 'earn', 'escudo', 'f-cattle', 'ffr', 'fishmeal', 'flaxseed', 'fuel', 'gas', 'gnp', 'gold', 'grain', 'groundnut', 'groundnut-meal', 'groundnut-oil', 'heat', 'hk', 'hog', 'housing', 'income', 'instal-debt', 'interest', 'inventories', 'ipi', 'iron-steel', 'jet', 'jobs', 'l-cattle', 'lead', 'lei', 'lin-meal', 'lin-oil', 'linseed', 'lit', 'livestock', 'lumber', 'lupin', 'meal-feed', 'mexpeso', 'money-fx', 'money-supply', 'naphtha     ', 'nat-gas', 'nickel', 'nkr', 'nzdlr', 'oat', 'oilseed', 'orange', 'palladium', 'palm-meal', 'palm-oil', 'palmkernel', 'peseta', 'pet-chem', 'platinum', 'plywood', 'pork-belly', 'potato', 'propane', 'rand', 'rape-meal', 'rape-oil', 'rapeseed', 'red-bean', 'reserves', 'retail', 'rice', 'ringgit', 'rubber', 'rupiah', 'rye', 'saudriyal', 'sfr', 'ship', 'silk', 'silver', 'singdlr', 'skr', 'sorghum', 'soy-meal', 'soy-oil', 'soybean', 'stg', 'strategic-metal', 'sugar', 'sun-meal', 'sun-oil', 'sunseed', 'tapioca', 'tea', 'tin', 'trade', 'tung', 'tung-oil', 'veg-oil', 'wheat', 'wool', 'wpi', 'yen', 'zinc', '']\n",
      "\n",
      "\n"
     ]
    }
   ],
   "source": [
    "for f in files:\n",
    "    x=f.read().split('\\n')\n",
    "    print len(x)\n",
    "    print x\n",
    "    print \"\\n\"\n",
    "    "
   ]
  },
  {
   "cell_type": "code",
   "execution_count": 120,
   "metadata": {
    "collapsed": false,
    "deletable": true,
    "editable": true
   },
   "outputs": [],
   "source": [
    "from sklearn.datasets import fetch_20newsgroups,load_files\n",
    "newsgroups_train = load_files('20news-bydate/20news-bydate-train/')"
   ]
  },
  {
   "cell_type": "code",
   "execution_count": 121,
   "metadata": {
    "collapsed": false,
    "deletable": true,
    "editable": true
   },
   "outputs": [
    {
     "name": "stdout",
     "output_type": "stream",
     "text": [
      "['alt.atheism',\n",
      " 'comp.graphics',\n",
      " 'comp.os.ms-windows.misc',\n",
      " 'comp.sys.ibm.pc.hardware',\n",
      " 'comp.sys.mac.hardware',\n",
      " 'comp.windows.x',\n",
      " 'misc.forsale',\n",
      " 'rec.autos',\n",
      " 'rec.motorcycles',\n",
      " 'rec.sport.baseball',\n",
      " 'rec.sport.hockey',\n",
      " 'sci.crypt',\n",
      " 'sci.electronics',\n",
      " 'sci.med',\n",
      " 'sci.space',\n",
      " 'soc.religion.christian',\n",
      " 'talk.politics.guns',\n",
      " 'talk.politics.mideast',\n",
      " 'talk.politics.misc',\n",
      " 'talk.religion.misc']\n",
      "(11314L,)\n"
     ]
    },
    {
     "data": {
      "text/plain": [
       "array([ 9,  4, 11, ..., 16, 18,  4])"
      ]
     },
     "execution_count": 121,
     "metadata": {},
     "output_type": "execute_result"
    }
   ],
   "source": [
    "from pprint import pprint\n",
    "pprint(list(newsgroups_train.target_names))\n",
    "print newsgroups_train.filenames.shape\n",
    "newsgroups_train.target"
   ]
  },
  {
   "cell_type": "code",
   "execution_count": 122,
   "metadata": {
    "collapsed": false,
    "deletable": true,
    "editable": true
   },
   "outputs": [
    {
     "name": "stdout",
     "output_type": "stream",
     "text": [
      "rec.sport.baseball\n",
      "comp.sys.mac.hardware\n",
      "sci.crypt\n",
      "comp.sys.mac.hardware\n",
      "alt.atheism\n",
      "comp.sys.mac.hardware\n",
      "comp.windows.x\n",
      "comp.windows.x\n",
      "sci.med\n",
      "sci.electronics\n"
     ]
    }
   ],
   "source": [
    "for t in newsgroups_train.target[:10]:\n",
    "    print(newsgroups_train.target_names[t])"
   ]
  },
  {
   "cell_type": "code",
   "execution_count": 167,
   "metadata": {
    "collapsed": false,
    "deletable": true,
    "editable": true
   },
   "outputs": [],
   "source": [
    "#Extracting features from text files\n",
    "\"\"\"\n",
    "If n_samples == 10000, storing X as a numpy array of type float32 would require 10000 x 100000 x 4 bytes = 4GB in RAM \n",
    "which is barely manageable on today’s computers.\n",
    "Fortunately, most values in X will be zeros since for a given document less than a couple thousands of distinct words \n",
    "will be used. For this reason we say that bags of words are typically high-dimensional sparse datasets. We can save a lot\n",
    "of memory by only storing the non-zero parts of the feature vectors in memory.\n",
    "scipy.sparse matrices are data structures that do exactly this, and scikit-learn has built-in support for these structures.\n",
    "\"\"\"\n",
    "from sklearn.feature_extraction.text import CountVectorizer\n",
    "count_vect = CountVectorizer()\n",
    "newsgroups_train.data = [s.decode(\"utf-8\", errors='ignore') for s in newsgroups_train.data]\n",
    "X_train_counts = count_vect.fit_transform(newsgroups_train.data)"
   ]
  },
  {
   "cell_type": "code",
   "execution_count": 168,
   "metadata": {
    "collapsed": false,
    "deletable": true,
    "editable": true
   },
   "outputs": [
    {
     "data": {
      "text/plain": [
       "27366"
      ]
     },
     "execution_count": 168,
     "metadata": {},
     "output_type": "execute_result"
    }
   ],
   "source": [
    "X_train_counts.shape\n",
    "count_vect.vocabulary_.get(u'algorithm')"
   ]
  },
  {
   "cell_type": "code",
   "execution_count": 169,
   "metadata": {
    "collapsed": false,
    "deletable": true,
    "editable": true
   },
   "outputs": [
    {
     "data": {
      "text/plain": [
       "(11314, 130093)"
      ]
     },
     "execution_count": 169,
     "metadata": {},
     "output_type": "execute_result"
    }
   ],
   "source": [
    "from sklearn.feature_extraction.text import TfidfTransformer\n",
    "tfidf_transformer = TfidfTransformer()\n",
    "X_train_tfidf = tfidf_transformer.fit_transform(X_train_counts)\n",
    "X_train_tfidf.shape"
   ]
  },
  {
   "cell_type": "code",
   "execution_count": 170,
   "metadata": {
    "collapsed": false,
    "deletable": true,
    "editable": true
   },
   "outputs": [],
   "source": [
    "#Applying multinomial naive bayes classifier\n",
    "from sklearn.naive_bayes import MultinomialNB\n",
    "clf = MultinomialNB().fit(X_train_tfidf,newsgroups_train.target)"
   ]
  },
  {
   "cell_type": "code",
   "execution_count": 171,
   "metadata": {
    "collapsed": false,
    "deletable": true,
    "editable": true
   },
   "outputs": [],
   "source": [
    "# lets say a new document comes\n",
    "docs_new = ['God is love', ' mouth']\n",
    "X_new_counts = count_vect.transform(docs_new)\n",
    "X_new_counts.shape\n",
    "X_new_tfidf = tfidf_transformer.transform(X_new_counts)\n",
    "X_new_tfidf\n",
    "predicted = clf.predict(X_new_tfidf)"
   ]
  },
  {
   "cell_type": "code",
   "execution_count": 172,
   "metadata": {
    "collapsed": false,
    "deletable": true,
    "editable": true
   },
   "outputs": [
    {
     "name": "stdout",
     "output_type": "stream",
     "text": [
      "'God is love' => soc.religion.christian\n",
      "' mouth' => sci.med\n"
     ]
    }
   ],
   "source": [
    "for doc, category in zip(docs_new, predicted):\n",
    "    print('%r => %s' % (doc, newsgroups_train.target_names[category]))"
   ]
  },
  {
   "cell_type": "code",
   "execution_count": 173,
   "metadata": {
    "collapsed": false,
    "deletable": true,
    "editable": true
   },
   "outputs": [],
   "source": [
    "from sklearn.pipeline import Pipeline\n",
    "text_clf = Pipeline([('vect', CountVectorizer()),('tfidf', TfidfTransformer()), ('clf', MultinomialNB()),])\n",
    "text_clf = text_clf.fit(newsgroups_train.data, newsgroups_train.target)"
   ]
  },
  {
   "cell_type": "code",
   "execution_count": 174,
   "metadata": {
    "collapsed": true,
    "deletable": true,
    "editable": true
   },
   "outputs": [],
   "source": [
    "#Evaluation of the performance on the test set\n",
    "newsgroups_test = load_files('20news-bydate/20news-bydate-test/')\n",
    "newsgroups_test.data = [s.decode(\"utf-8\", errors='ignore') for s in newsgroups_test.data]"
   ]
  },
  {
   "cell_type": "code",
   "execution_count": 179,
   "metadata": {
    "collapsed": false,
    "deletable": true,
    "editable": true
   },
   "outputs": [
    {
     "data": {
      "text/plain": [
       "0.7738980350504514"
      ]
     },
     "execution_count": 179,
     "metadata": {},
     "output_type": "execute_result"
    }
   ],
   "source": [
    "predicted = text_clf.predict(newsgroups_test.data)\n",
    "import numpy as np\n",
    "np.mean(predicted==newsgroups_test.target)"
   ]
  },
  {
   "cell_type": "code",
   "execution_count": 182,
   "metadata": {
    "collapsed": false,
    "deletable": true,
    "editable": true
   },
   "outputs": [],
   "source": [
    "# learning a SVM classifier linear\n",
    "from sklearn.linear_model import SGDClassifier\n",
    "text_clf = Pipeline([('vect', CountVectorizer()),('tfidf', TfidfTransformer()),\n",
    "                     ('clf', SGDClassifier(loss='hinge',penalty = 'l2',alpha = 1e-3,n_iter=5,random_state=42))])\n",
    "text_clf = text_clf.fit(newsgroups_train.data, newsgroups_train.target)"
   ]
  },
  {
   "cell_type": "code",
   "execution_count": 183,
   "metadata": {
    "collapsed": false,
    "deletable": true,
    "editable": true
   },
   "outputs": [
    {
     "data": {
      "text/plain": [
       "0.82461497610196499"
      ]
     },
     "execution_count": 183,
     "metadata": {},
     "output_type": "execute_result"
    }
   ],
   "source": [
    "predicted = text_clf.predict(newsgroups_test.data)\n",
    "import numpy as np\n",
    "np.mean(predicted==newsgroups_test.target)"
   ]
  },
  {
   "cell_type": "code",
   "execution_count": 188,
   "metadata": {
    "collapsed": false,
    "deletable": true,
    "editable": true
   },
   "outputs": [
    {
     "name": "stdout",
     "output_type": "stream",
     "text": [
      "                          precision    recall  f1-score   support\n",
      "\n",
      "             alt.atheism       0.72      0.73      0.73       319\n",
      "           comp.graphics       0.82      0.69      0.75       389\n",
      " comp.os.ms-windows.misc       0.71      0.78      0.75       394\n",
      "comp.sys.ibm.pc.hardware       0.75      0.67      0.70       392\n",
      "   comp.sys.mac.hardware       0.83      0.83      0.83       385\n",
      "          comp.windows.x       0.84      0.76      0.80       395\n",
      "            misc.forsale       0.81      0.91      0.86       390\n",
      "               rec.autos       0.92      0.90      0.91       396\n",
      "         rec.motorcycles       0.93      0.97      0.95       398\n",
      "      rec.sport.baseball       0.89      0.90      0.90       397\n",
      "        rec.sport.hockey       0.88      0.99      0.93       399\n",
      "               sci.crypt       0.83      0.96      0.89       396\n",
      "         sci.electronics       0.82      0.61      0.70       393\n",
      "                 sci.med       0.89      0.86      0.87       396\n",
      "               sci.space       0.83      0.96      0.89       394\n",
      "  soc.religion.christian       0.77      0.94      0.84       398\n",
      "      talk.politics.guns       0.69      0.93      0.79       364\n",
      "   talk.politics.mideast       0.91      0.93      0.92       376\n",
      "      talk.politics.misc       0.88      0.56      0.69       310\n",
      "      talk.religion.misc       0.84      0.39      0.53       251\n",
      "\n",
      "             avg / total       0.83      0.82      0.82      7532\n",
      "\n",
      "[[232   0   0   1   0   1   1   0   1   2   1   3   1   9   5  41   4   7\n",
      "    1   9]\n",
      " [  3 270  22   9   8  26   5   1   3   4   4   9   4   3   9   2   2   4\n",
      "    0   1]\n",
      " [  2  10 309  20   9  12   2   0   0   6   2   8   1   1   7   1   0   2\n",
      "    1   1]\n",
      " [  3   7  32 261  22   4  14   4   4   1   1   5  23   2   4   0   2   1\n",
      "    1   1]\n",
      " [  0   3   8  23 321   1  10   0   1   3   1   3   5   1   1   0   2   0\n",
      "    2   0]\n",
      " [  1  24  44   0   3 302   4   0   1   1   1   3   1   1   7   1   1   0\n",
      "    0   0]\n",
      " [  0   1   1  12   4   0 353   6   1   1   2   1   3   2   2   0   1   0\n",
      "    0   0]\n",
      " [  1   1   1   1   1   0  10 355   8   2   0   0   7   0   3   0   5   0\n",
      "    1   0]\n",
      " [  0   0   0   1   0   0   4   5 385   1   0   0   1   1   0   0   0   0\n",
      "    0   0]\n",
      " [  0   0   1   0   2   0   4   0   0 357  31   0   0   0   0   0   1   1\n",
      "    0   0]\n",
      " [  0   0   0   0   1   0   0   0   0   1 396   0   0   0   0   1   0   0\n",
      "    0   0]\n",
      " [  0   1   2   0   1   0   3   2   0   3   0 380   1   0   0   0   2   0\n",
      "    1   0]\n",
      " [  7   5  10  19  11   6  11   8   7   5   2  33 240  10  14   2   2   1\n",
      "    0   0]\n",
      " [  4   3   1   2   2   3   6   0   2   4   3   2   3 339   3   6   2   5\n",
      "    5   1]\n",
      " [  0   3   0   0   1   0   1   0   0   0   1   1   0   4 379   2   0   0\n",
      "    2   0]\n",
      " [  9   0   2   1   0   1   0   0   1   0   0   0   2   1   3 374   0   0\n",
      "    0   4]\n",
      " [  0   0   0   0   1   0   2   2   1   4   0   6   0   1   3   1 337   1\n",
      "    5   0]\n",
      " [  8   1   0   0   0   4   0   1   0   4   5   2   0   0   1   0   1 349\n",
      "    0   0]\n",
      " [  3   1   0   0   1   1   1   0   1   0   1   4   0   3   7   3 102   6\n",
      "  175   1]\n",
      " [ 47   1   1   0   0   0   3   2   0   0   1   0   0   5   6  54  24   5\n",
      "    5  97]]\n"
     ]
    },
    {
     "data": {
      "text/plain": [
       "'\\nAs expected the confusion matrix shows that posts from the newsgroups on atheism and christian are more often confused \\nfor one another than with computer graphics.\\n'"
      ]
     },
     "execution_count": 188,
     "metadata": {},
     "output_type": "execute_result"
    }
   ],
   "source": [
    "#detailed performance analysis of the results:\n",
    "from sklearn import metrics\n",
    "print(metrics.classification_report(newsgroups_test.target, predicted,target_names=newsgroups_test.target_names))\n",
    "print metrics.confusion_matrix(newsgroups_test.target, predicted)\n",
    "\"\"\"\n",
    "As expected the confusion matrix shows that posts from the newsgroups on atheism and christian are more often confused \n",
    "for one another than with computer graphics.\n",
    "\"\"\""
   ]
  },
  {
   "cell_type": "code",
   "execution_count": 189,
   "metadata": {
    "collapsed": true,
    "deletable": true,
    "editable": true
   },
   "outputs": [],
   "source": [
    "#Parameter tuning using grid search\n",
    "\"\"\"\n",
    "Instead of tweaking the parameters of the various components of the chain, it is possible to run an exhaustive search of the\n",
    "best parameters on a grid of possible values. We try out all classifiers on either words or bigrams, with or without idf, and \n",
    "with a penalty parameter of either 0.01 or 0.001 for the linear SVM:\n",
    "\"\"\"\n",
    "from sklearn.grid_search import GridSearchCV\n",
    "parameters = {'vect__ngram_range': [(1, 1), (1, 2)],'tfidf__use_idf': (True, False),'clf__alpha': (1e-2, 1e-3),}\n",
    "gs_clf = GridSearchCV(text_clf, parameters, n_jobs=-1)"
   ]
  },
  {
   "cell_type": "code",
   "execution_count": 192,
   "metadata": {
    "collapsed": false,
    "deletable": true,
    "editable": true
   },
   "outputs": [],
   "source": [
    "gs_clf = gs_clf.fit(newsgroups_train.data[:400], newsgroups_train.target[:400])"
   ]
  },
  {
   "cell_type": "code",
   "execution_count": 195,
   "metadata": {
    "collapsed": false,
    "deletable": true,
    "editable": true
   },
   "outputs": [
    {
     "name": "stderr",
     "output_type": "stream",
     "text": [
      "C:\\Users\\neeru gupta\\Anaconda2\\lib\\site-packages\\ipykernel\\__main__.py:1: DeprecationWarning: converting an array with ndim > 0 to an index will result in an error in the future\n",
      "  if __name__ == '__main__':\n"
     ]
    },
    {
     "data": {
      "text/plain": [
       "'alt.atheism'"
      ]
     },
     "execution_count": 195,
     "metadata": {},
     "output_type": "execute_result"
    }
   ],
   "source": [
    "newsgroups_train.target_names[gs_clf.predict(['God is love'])]"
   ]
  },
  {
   "cell_type": "code",
   "execution_count": null,
   "metadata": {
    "collapsed": true,
    "deletable": true,
    "editable": true
   },
   "outputs": [],
   "source": []
  }
 ],
 "metadata": {
  "kernelspec": {
   "display_name": "Python 2",
   "language": "python",
   "name": "python2"
  },
  "language_info": {
   "codemirror_mode": {
    "name": "ipython",
    "version": 2
   },
   "file_extension": ".py",
   "mimetype": "text/x-python",
   "name": "python",
   "nbconvert_exporter": "python",
   "pygments_lexer": "ipython2",
   "version": "2.7.13"
  }
 },
 "nbformat": 4,
 "nbformat_minor": 0
}
