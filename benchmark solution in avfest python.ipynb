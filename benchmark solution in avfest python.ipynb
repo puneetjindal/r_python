{
 "cells": [
  {
   "cell_type": "code",
   "execution_count": 11,
   "metadata": {
    "collapsed": false
   },
   "outputs": [
    {
     "data": {
      "text/plain": [
       "1"
      ]
     },
     "execution_count": 11,
     "metadata": {},
     "output_type": "execute_result"
    }
   ],
   "source": [
    "import pandas as pd\n",
    "\n",
    "data = pd.read_csv(\"/Users/puneetjindal/Downloads/Train_seers_accuracy.csv\", usecols=['Client_ID'])\n",
    "\n",
    "client_ids = data.Client_ID.value_counts().reset_index().rename(columns={\"Client_ID\": \"Freq\", \"index\":\"Client_ID\"})\n",
    "min(client_ids['Freq'])"
   ]
  },
  {
   "cell_type": "code",
   "execution_count": null,
   "metadata": {
    "collapsed": true
   },
   "outputs": [],
   "source": [
    "\n",
    "client_ids['Cross_Sell'] = (client_ids['Freq'] - min(client_ids['Freq'])) / (max(client_ids['Freq']) - min(client_ids['Freq']))\n",
    "\n",
    "client_ids[['Client_ID', 'Cross_Sell']].to_csv(\"submit.csv\", index=False)"
   ]
  }
 ],
 "metadata": {
  "kernelspec": {
   "display_name": "Python 2",
   "language": "python",
   "name": "python2"
  },
  "language_info": {
   "codemirror_mode": {
    "name": "ipython",
    "version": 2
   },
   "file_extension": ".py",
   "mimetype": "text/x-python",
   "name": "python",
   "nbconvert_exporter": "python",
   "pygments_lexer": "ipython2",
   "version": "2.7.11"
  }
 },
 "nbformat": 4,
 "nbformat_minor": 0
}
