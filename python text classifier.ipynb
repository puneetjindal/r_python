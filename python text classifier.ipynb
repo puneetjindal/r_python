{
 "cells": [
  {
   "cell_type": "code",
   "execution_count": 1,
   "metadata": {
    "collapsed": false,
    "deletable": true,
    "editable": true
   },
   "outputs": [],
   "source": [
    "from naiveBayesClassifier import tokenizer\n",
    "from naiveBayesClassifier.trainer import Trainer\n",
    "from naiveBayesClassifier.classifier import Classifier"
   ]
  },
  {
   "cell_type": "code",
   "execution_count": 2,
   "metadata": {
    "collapsed": true,
    "deletable": true,
    "editable": true
   },
   "outputs": [],
   "source": [
    "newsTrainer = Trainer(tokenizer)"
   ]
  },
  {
   "cell_type": "code",
   "execution_count": 3,
   "metadata": {
    "collapsed": true,
    "deletable": true,
    "editable": true
   },
   "outputs": [],
   "source": [
    "# You need to train the system passing each text one by one to the trainer module.\n",
    "newsSet =[\n",
    "    {'text': 'not to eat too much is not enough to lose weight', 'category': 'health'},\n",
    "    {'text': 'Russia is trying to invade Ukraine', 'category': 'politics'},\n",
    "    {'text': 'do not neglect exercise', 'category': 'health'},\n",
    "    {'text': 'Syria is the main issue, Obama says', 'category': 'politics'},\n",
    "    {'text': 'eat to lose weight', 'category': 'health'},\n",
    "    {'text': 'you should not eat much', 'category': 'health'}\n",
    "]"
   ]
  },
  {
   "cell_type": "code",
   "execution_count": 4,
   "metadata": {
    "collapsed": true,
    "deletable": true,
    "editable": true
   },
   "outputs": [],
   "source": [
    "for news in newsSet:\n",
    "    newsTrainer.train(news['text'], news['category'])"
   ]
  },
  {
   "cell_type": "code",
   "execution_count": 12,
   "metadata": {
    "collapsed": false,
    "deletable": true,
    "editable": true
   },
   "outputs": [],
   "source": [
    "# When you have sufficient trained data, you are almost done and can start to use\n",
    "# a classifier.\n",
    "newsClassifier = Classifier(newsTrainer.data, tokenizer)"
   ]
  },
  {
   "cell_type": "code",
   "execution_count": 13,
   "metadata": {
    "collapsed": true,
    "deletable": true,
    "editable": true
   },
   "outputs": [],
   "source": [
    "unknownInstance = \"Even if I eat too much, is not it possible to lose some weight\"\n",
    "classification = newsClassifier.classify(unknownInstance)"
   ]
  },
  {
   "cell_type": "code",
   "execution_count": 22,
   "metadata": {
    "collapsed": false,
    "deletable": true,
    "editable": true
   },
   "outputs": [
    {
     "ename": "NameError",
     "evalue": "name 'classification' is not defined",
     "output_type": "error",
     "traceback": [
      "\u001b[0;31m---------------------------------------------------------------------------\u001b[0m",
      "\u001b[0;31mNameError\u001b[0m                                 Traceback (most recent call last)",
      "\u001b[0;32m<ipython-input-22-6be0c0e529e9>\u001b[0m in \u001b[0;36m<module>\u001b[0;34m()\u001b[0m\n\u001b[0;32m----> 1\u001b[0;31m \u001b[0;32mprint\u001b[0m \u001b[0mclassification\u001b[0m\u001b[0;34m\u001b[0m\u001b[0m\n\u001b[0m",
      "\u001b[0;31mNameError\u001b[0m: name 'classification' is not defined"
     ]
    }
   ],
   "source": [
    "print classification"
   ]
  },
  {
   "cell_type": "code",
   "execution_count": 7,
   "metadata": {
    "collapsed": false,
    "deletable": true,
    "editable": true
   },
   "outputs": [
    {
     "name": "stdout",
     "output_type": "stream",
     "text": [
      "Listen\n",
      "The Louvre of the Industrial Age\n",
      "The Henry Ford is one of the world's great museums, and the world it chronicles is our own.\n",
      "by Tim O'Reilly | @timoreilly | +Tim O'Reilly | July 30, 2010\n",
      "This morning I had the chance to get a tour of The Henry Ford Museum in Dearborn, MI, along with Dale Dougherty, creator of Make: and Makerfaire, and Marc Greuther, the chief curator of the museum. I had expected a museum dedicated to the auto industry, but it’s so much more than that. As I wrote in my first stunned tweet, “it’s the Louvre of the Industrial Age.”\n",
      "When we first entered, Marc took us to what he said may be his favorite artifact in the museum, a block of concrete that contains Luther Burbank’s shovel, and Thomas Edison’s signature and footprints. Luther Burbank was, of course, the great agricultural inventor who created such treasures as the nectarine and the Santa Rosa plum. Ford was a farm boy who became an industrialist; Thomas Edison was his friend and mentor. The museum, opened in 1929, was Ford’s personal homage to the transformation of the world that he was so much a part of. This museum chronicles that transformation.\n",
      "The machines are astonishing – steam engines and coal-fired electric generators as big as houses, the first lathes capable of making other precision lathes (the makerbot of the 19th century), a ribbon glass machine that is one of five that in the 1970s made virtually all of the incandescent lightbulbs in the world, combine harvesters, railroad locomotives, cars, airplanes, even motels, gas stations, an early McDonalds’ restaurant and other epiphenomena of the automobile era.\n",
      "Under Marc’s eye, we also saw the transformation of the machines from purely functional objects to things of beauty. We saw the advances in engineering — the materials, the workmanship, the design, over a hundred years of innovation. Visiting The Henry Ford, as they call it, is a truly humbling experience. I would never in a hundred years have thought of making a visit to Detroit just to visit this museum, but knowing what I know now, I will tell you confidently that it is as worth your while as a visit to Paris just to see the Louvre, to Rome for the Vatican Museum, to Florence for the Uffizi Gallery, to St. Petersburg for the Hermitage, or to Berlin for the Pergamon Museum. This is truly one of the world’s great museums, and the world that it chronicles is our own.\n",
      "I am truly humbled that the Museum has partnered with us to hold Makerfaire Detroit on their grounds. If you are anywhere in reach of Detroit this weekend, I heartily recommend that you plan to spend both days there. You can easily spend a day at Makerfaire, and you could easily spend a day at The Henry Ford.\n",
      "P.S. Here are some of my photos from my visit . (More to come soon. Can’t upload many as I’m currently on a plane.)\n",
      "Related:\n",
      "\n"
     ]
    }
   ],
   "source": [
    "from boilerpipe.extract import Extractor\n",
    "URL='http://radar.oreilly.com/2010/07/louvre-industrial-age-henry-ford.html'\n",
    "\n",
    "extractor = Extractor(extractor='ArticleExtractor', url=URL)\n",
    "\n",
    "print extractor.getText()"
   ]
  },
  {
   "cell_type": "code",
   "execution_count": 10,
   "metadata": {
    "collapsed": false,
    "deletable": true,
    "editable": true
   },
   "outputs": [
    {
     "name": "stdout",
     "output_type": "stream",
     "text": [
      "Four short links: 25 March 2016\n",
      "http://feedproxy.google.com/~r/oreilly/radar/atom/~3/QUaO1phXkN4/four-short-links-25-march-2016.html\n",
      "<ol>\n",
      "<li><a href=\"https://www.openintro.org/stat/textbook.php?stat_book=isrs\">Intro Statistics with Randomization and Simulation</a> -- free PDF download as well as book for purchase. (via <a href=\"http://flowingdata.com/2016/03/24/visualization-books-in-the-queue/\">Flowing Data</a>)</li>\n",
      "<li><a href=\"http://www.kurzweilai.net/automated-lip-reading-invented\">Automated Lip Reading Invented</a> -- press release, but interesting topic. <i>The research will be presented at the International Conference on Acoustics, Speech, and Signal Processing (ICASSP) in Shanghai.</i></li>\n",
      "<li><a href=\"http://media.jgao.org/app/GaoPeh_SmartphoneLDS_ICRA2016.pdf\">A Smartphone-based Laser Distance Sensor for Outdoor Environments</a> (PDF) -- <i>We present a low-cost, smartphone-based planar laser distance sensor design for outdoor use with 6 cm accuracy at 5 meters, 30 Hz scan rate, and 0.1 degree resolution over the field of view. The cost of the hardware additions to the off-the-shelf smartphone used in our prototype is under $50.</i></li>\n",
      "<li><a href=\"https://torrentfreak.com/internet-archive-seeks-to-defend-against-wrongful-copyright-takedowns-160323/\">Internet Archive Seeks to Defend Against Wrongful Takedowns</a> -- <i>In its submission, the Archive goes to some lengths to highlight differences between those engaging in commercial piracy and those who seek to preserve and share cultural heritage. As a result, the context in which a user posts content online should be considered before attempting to determine whether an infringement has taken place. This, the organization says, poses problems for the \"staydown\" demands gaining momentum with copyright holders.</i></li>\n",
      "</ol>\n",
      "<div class=\"feedflare\">\n",
      "<a href=\"http://feeds.feedburner.com/~ff/oreilly/radar/atom?a=QUaO1phXkN4:ldm0dd_cDK0:V_sGLiPBpWU\"><img border=\"0\" src=\"http://feeds.feedburner.com/~ff/oreilly/radar/atom?i=QUaO1phXkN4:ldm0dd_cDK0:V_sGLiPBpWU\" /></a> <a href=\"http://feeds.feedburner.com/~ff/oreilly/radar/atom?a=QUaO1phXkN4:ldm0dd_cDK0:yIl2AUoC8zA\"><img border=\"0\" src=\"http://feeds.feedburner.com/~ff/oreilly/radar/atom?d=yIl2AUoC8zA\" /></a> <a href=\"http://feeds.feedburner.com/~ff/oreilly/radar/atom?a=QUaO1phXkN4:ldm0dd_cDK0:JEwB19i1-c4\"><img border=\"0\" src=\"http://feeds.feedburner.com/~ff/oreilly/radar/atom?i=QUaO1phXkN4:ldm0dd_cDK0:JEwB19i1-c4\" /></a> <a href=\"http://feeds.feedburner.com/~ff/oreilly/radar/atom?a=QUaO1phXkN4:ldm0dd_cDK0:7Q72WNTAKBA\"><img border=\"0\" src=\"http://feeds.feedburner.com/~ff/oreilly/radar/atom?d=7Q72WNTAKBA\" /></a> <a href=\"http://feeds.feedburner.com/~ff/oreilly/radar/atom?a=QUaO1phXkN4:ldm0dd_cDK0:qj6IDK7rITs\"><img border=\"0\" src=\"http://feeds.feedburner.com/~ff/oreilly/radar/atom?d=qj6IDK7rITs\" /></a>\n",
      "</div><img alt=\"\" height=\"1\" src=\"http://feeds.feedburner.com/~r/oreilly/radar/atom/~4/QUaO1phXkN4\" width=\"1\" />\n",
      "Four short links: 24 March 2016\n",
      "http://feedproxy.google.com/~r/oreilly/radar/atom/~3/NRQff7YHqFA/four-short-links-24-march-2016.html\n",
      "<ol>\n",
      "<li><a href=\"http://everythingsysadmin.com/2016/03/two-github-accounts.html\">Maintain Separate Github Accounts</a> -- simple advice.</li>\n",
      "<li><a href=\"https://github.com/cooperhewitt/the-pen-data\">Cooper-Hewitt Pen Data</a> -- anonymized data from the Cooper-Hewitt design museum's fantastic <a href=\"http://www.cooperhewitt.org/new-experience/designing-pen/\">pen</a>.</li>\n",
      "<li><a href=\"http://motherboard.vice.com/read/wikipedia-zero-facebook-free-basics-angola-pirates-zero-rating\">Zero Rating's Problem</a> -- Wikipedia was zero-rated for Angola, so Angolans began swapping movies via Wikipedia. Zero rating (\"no data charge for this service\") is an incentive to use the site, not necessarily for the purpose intended.</li>\n",
      "<li><a href=\"https://blog.prototypr.io/motion-design-is-the-future-of-ui-fc83ce55c02f#.gssflde77\">Motion Design is the Future of UI</a> -- <i>Motion tells stories. Everything in an app is a sequence, and motion is your guide</i>. Someone caught the animations and transitions bug.</li>\n",
      "</ol>\n",
      "<div class=\"feedflare\">\n",
      "<a href=\"http://feeds.feedburner.com/~ff/oreilly/radar/atom?a=NRQff7YHqFA:ZTWlBv9p834:V_sGLiPBpWU\"><img border=\"0\" src=\"http://feeds.feedburner.com/~ff/oreilly/radar/atom?i=NRQff7YHqFA:ZTWlBv9p834:V_sGLiPBpWU\" /></a> <a href=\"http://feeds.feedburner.com/~ff/oreilly/radar/atom?a=NRQff7YHqFA:ZTWlBv9p834:yIl2AUoC8zA\"><img border=\"0\" src=\"http://feeds.feedburner.com/~ff/oreilly/radar/atom?d=yIl2AUoC8zA\" /></a> <a href=\"http://feeds.feedburner.com/~ff/oreilly/radar/atom?a=NRQff7YHqFA:ZTWlBv9p834:JEwB19i1-c4\"><img border=\"0\" src=\"http://feeds.feedburner.com/~ff/oreilly/radar/atom?i=NRQff7YHqFA:ZTWlBv9p834:JEwB19i1-c4\" /></a> <a href=\"http://feeds.feedburner.com/~ff/oreilly/radar/atom?a=NRQff7YHqFA:ZTWlBv9p834:7Q72WNTAKBA\"><img border=\"0\" src=\"http://feeds.feedburner.com/~ff/oreilly/radar/atom?d=7Q72WNTAKBA\" /></a> <a href=\"http://feeds.feedburner.com/~ff/oreilly/radar/atom?a=NRQff7YHqFA:ZTWlBv9p834:qj6IDK7rITs\"><img border=\"0\" src=\"http://feeds.feedburner.com/~ff/oreilly/radar/atom?d=qj6IDK7rITs\" /></a>\n",
      "</div><img alt=\"\" height=\"1\" src=\"http://feeds.feedburner.com/~r/oreilly/radar/atom/~4/NRQff7YHqFA\" width=\"1\" />\n",
      "Four short links: 23 March 2016\n",
      "http://feedproxy.google.com/~r/oreilly/radar/atom/~3/rTJpr2_moqA/four-short-links-23-march-2016.html\n",
      "<ol>\n",
      "<li><a href=\"https://code.facebook.com/posts/1737605303120405/dragon-a-distributed-graph-query-engine/\">Dragon: A Distributed Graph Query Engine</a> -- Facebook describes its internal graph query engine. <i>[T]he layout of these indices on storage is optimized based on a deeper understanding of query patterns (e.g., many queries are about friends), as opposed to accepting random sharding, which is common in these systems.</i> Wisely, the system is tailored to the use cases they have and the patterns they see in access.</li>\n",
      "<li><a href=\"http://techcrunch.com/2016/03/21/almost-everyone-is-doing-the-api-economy-wrong/\">Almost Everyone Is Doing the API Economy Wrong</a> (Techcrunch) -- Redux: your API should help you make money when the API customer makes money, and you should set clear expectations for what's acceptable and what's not. But every developer should be forced to write 100 times: \"if you build on a platform you don't own, you're building on a potential and probable future competitor.\"</li>\n",
      "<li><a href=\"http://evonomics.com/traditional-economics-failed-heres-a-new-blueprint/\">Traditional Economics Failed, Here's a Blueprint</a> -- runs through the shifts happening in our thinking about the world and ourselves (simple to complex, independent to interdependent, rational calculator to irrational approximators, etc) and concludes: <i>True self-interest is mutual interest. The best way to improve your likelihood of surviving and thriving is to make sure those around you survive and thrive.</i> See above API note.</li>\n",
      "<li><a href=\"https://hbr.org/2016/04/blitzscaling\">Blitzscaling</a> (HBR) -- <i>as you move from village to city, functions are beginning to be differentiated; you’re really multithreading.</i> I could write a thesis on the CAP theorem for business. And I have definitely worked for companies that have a \"share nothing\" approach to solving their threading issues.</li>\n",
      "</ol>\n",
      "<div class=\"feedflare\">\n",
      "<a href=\"http://feeds.feedburner.com/~ff/oreilly/radar/atom?a=rTJpr2_moqA:_Ri6sCDhBSg:V_sGLiPBpWU\"><img border=\"0\" src=\"http://feeds.feedburner.com/~ff/oreilly/radar/atom?i=rTJpr2_moqA:_Ri6sCDhBSg:V_sGLiPBpWU\" /></a> <a href=\"http://feeds.feedburner.com/~ff/oreilly/radar/atom?a=rTJpr2_moqA:_Ri6sCDhBSg:yIl2AUoC8zA\"><img border=\"0\" src=\"http://feeds.feedburner.com/~ff/oreilly/radar/atom?d=yIl2AUoC8zA\" /></a> <a href=\"http://feeds.feedburner.com/~ff/oreilly/radar/atom?a=rTJpr2_moqA:_Ri6sCDhBSg:JEwB19i1-c4\"><img border=\"0\" src=\"http://feeds.feedburner.com/~ff/oreilly/radar/atom?i=rTJpr2_moqA:_Ri6sCDhBSg:JEwB19i1-c4\" /></a> <a href=\"http://feeds.feedburner.com/~ff/oreilly/radar/atom?a=rTJpr2_moqA:_Ri6sCDhBSg:7Q72WNTAKBA\"><img border=\"0\" src=\"http://feeds.feedburner.com/~ff/oreilly/radar/atom?d=7Q72WNTAKBA\" /></a> <a href=\"http://feeds.feedburner.com/~ff/oreilly/radar/atom?a=rTJpr2_moqA:_Ri6sCDhBSg:qj6IDK7rITs\"><img border=\"0\" src=\"http://feeds.feedburner.com/~ff/oreilly/radar/atom?d=qj6IDK7rITs\" /></a>\n",
      "</div><img alt=\"\" height=\"1\" src=\"http://feeds.feedburner.com/~r/oreilly/radar/atom/~4/rTJpr2_moqA\" width=\"1\" />\n",
      "Four short links: 22 March 2016\n",
      "http://feedproxy.google.com/~r/oreilly/radar/atom/~3/hU475_FPzEs/four-short-links-22-march-2016.html\n",
      "<ol>\n",
      "<li><a href=\"https://hcipioneers.wordpress.com/\">HCI Pioneers</a> -- Ben Schneiderman's photo collection, acknowledging pioneers in the field. (via <a href=\"http://www.cccblog.org/2016/03/21/encounters-with-hci-pioneers-a-personal-photo-journal/\">CCC Blog</a>)</li>\n",
      "<li><a href=\"http://www.bldgblog.com/2016/03/a-burglars-guide-to-the-city/\">A Burglar's Guide to the City</a> (BLDGBLOG) -- <i>For the past several years, I’ve been writing a book about the relationship between burglary and architecture. Burglary, as it happens, requires architecture: it is a spatial crime. Without buildings, burglary, in its current legal form, could not exist. Committing it requires an inside and an outside; it’s impossible without boundaries, thresholds, windows, and walls. In fact, one needn’t steal anything at all to be a burglar. In a sense, as a crime, it is part of the built environment; the design of any structure always implies a way to break into it.</i> Connection to computer security left as exercise to the reader.</li>\n",
      "<li><a href=\"http://papers.ssrn.com/sol3/papers.cfm?abstract_id=2743800\">Trial by Machine</a> (Roth) -- <i>The current landscape of mechanized proof, liability, and punishment suffers from predictable but underscrutinized automation pathologies: hidden subjectivities and errors in “black box” processes; distorted decision-making through oversimplified — and often dramatically inaccurate — proxies for blameworthiness; the compromise of values protected by human safety valves, such as dignity, equity, and mercy; and even too little mechanization where machines might be a powerful debiasing tool but where little political incentive exists for its development or deployment. [...] The article ultimately proposes a systems approach – “trial by cyborg” – that safeguards against automation pathologies while interrogating conspicuous absences in mechanization through “equitable surveillance” and other means.</i> (via <a href=\"http://marginalrevolution.com/marginalrevolution/2016/03/monday-assorted-links-49.html\">Marginal Revolution</a>)</li>\n",
      "<li><a href=\"https://www.gov.uk/government/publications/distributed-ledger-technology-blackett-review\">Distributed Ledger Technology: Blackett Review</a> (gov.uk) -- <i>Distributed ledgers can provide new ways of assuring ownership and provenance for goods and intellectual property. For example, Everledger provides a distributed ledger that assures the identity of diamonds, from being mined and cut to being sold and insured. In a market with a relatively high level  of paper forgery, it makes attribution more efficient, and has the potential to reduce fraud and prevent \"blood diamonds\" from entering the market.</i> Report includes recommendations for policy makers. (via <a href=\"https://twitter.com/cityofsound/status/712048001821315072\">Dan Hill</a>)</li>\n",
      "</ol>\n",
      "<div class=\"feedflare\">\n",
      "<a href=\"http://feeds.feedburner.com/~ff/oreilly/radar/atom?a=hU475_FPzEs:45lFpdiq68s:V_sGLiPBpWU\"><img border=\"0\" src=\"http://feeds.feedburner.com/~ff/oreilly/radar/atom?i=hU475_FPzEs:45lFpdiq68s:V_sGLiPBpWU\" /></a> <a href=\"http://feeds.feedburner.com/~ff/oreilly/radar/atom?a=hU475_FPzEs:45lFpdiq68s:yIl2AUoC8zA\"><img border=\"0\" src=\"http://feeds.feedburner.com/~ff/oreilly/radar/atom?d=yIl2AUoC8zA\" /></a> <a href=\"http://feeds.feedburner.com/~ff/oreilly/radar/atom?a=hU475_FPzEs:45lFpdiq68s:JEwB19i1-c4\"><img border=\"0\" src=\"http://feeds.feedburner.com/~ff/oreilly/radar/atom?i=hU475_FPzEs:45lFpdiq68s:JEwB19i1-c4\" /></a> <a href=\"http://feeds.feedburner.com/~ff/oreilly/radar/atom?a=hU475_FPzEs:45lFpdiq68s:7Q72WNTAKBA\"><img border=\"0\" src=\"http://feeds.feedburner.com/~ff/oreilly/radar/atom?d=7Q72WNTAKBA\" /></a> <a href=\"http://feeds.feedburner.com/~ff/oreilly/radar/atom?a=hU475_FPzEs:45lFpdiq68s:qj6IDK7rITs\"><img border=\"0\" src=\"http://feeds.feedburner.com/~ff/oreilly/radar/atom?d=qj6IDK7rITs\" /></a>\n",
      "</div><img alt=\"\" height=\"1\" src=\"http://feeds.feedburner.com/~r/oreilly/radar/atom/~4/hU475_FPzEs\" width=\"1\" />\n",
      "Four short links: 21 March 2016\n",
      "http://feedproxy.google.com/~r/oreilly/radar/atom/~3/rWHXDeq8mZo/four-short-links-21-march-2016.html\n",
      "<ol>\n",
      "<li><a href=\"http://www.chyp.com/ten-more-years-ten-more-years/\">Ten More Years!</a> -- <i>my brand spanking new chip card from a UK issuer not only arrived with a 2000s app of a 1990s implementation of a 1980s product (debit) on 1970s chip, it also came with a 1960s magnetic stripe on it and a 1950s PAN with a 1940s signature panel on the back. It’s no wonder it seems a little out of place in the modern world. </i></li>\n",
      "<li><a href=\"http://gitxiv.com/posts/sKTDSvwzoiRaojLG6/age-and-gender-classification-using-convolutional-neural\">Age and Gender Classification Using Convolutional Neural Nets</a> -- oh, this will end well.</li>\n",
      "<li><a href=\"https://medium.com/@rossgoodwin/adventures-in-narrated-reality-6516ff395ba3#.9ak4u6ino\">The Uncanny Valley of Words</a> (Ross Goodwin) -- lessons learned from an NYU ITP neural networker making poetry and surprises from text.</li>\n",
      "<li><a href=\"https://www.youtube.com/watch?v=_Az608TI-NI&amp;feature=youtu.be\">The Paradox of Human Performance</a> (YouTube) -- <i>Human dexterity and agility vastly exceed that of contemporary robots. Yet, humans have vastly slower \"hardware\" (e.g. muscles) and \"wetware\" (e.g. neurons). How can this paradox be resolved? Slow actuators and long communication delays require predictive control based on some form of internal model—but what form?</i> (via <a href=\"http://robohub.org/neville-hogan-the-paradox-of-human-performance-cmu-ri-seminar/\">Robohub</a>)</li>\n",
      "</ol>\n",
      "<div class=\"feedflare\">\n",
      "<a href=\"http://feeds.feedburner.com/~ff/oreilly/radar/atom?a=rWHXDeq8mZo:rezrmcUUubA:V_sGLiPBpWU\"><img border=\"0\" src=\"http://feeds.feedburner.com/~ff/oreilly/radar/atom?i=rWHXDeq8mZo:rezrmcUUubA:V_sGLiPBpWU\" /></a> <a href=\"http://feeds.feedburner.com/~ff/oreilly/radar/atom?a=rWHXDeq8mZo:rezrmcUUubA:yIl2AUoC8zA\"><img border=\"0\" src=\"http://feeds.feedburner.com/~ff/oreilly/radar/atom?d=yIl2AUoC8zA\" /></a> <a href=\"http://feeds.feedburner.com/~ff/oreilly/radar/atom?a=rWHXDeq8mZo:rezrmcUUubA:JEwB19i1-c4\"><img border=\"0\" src=\"http://feeds.feedburner.com/~ff/oreilly/radar/atom?i=rWHXDeq8mZo:rezrmcUUubA:JEwB19i1-c4\" /></a> <a href=\"http://feeds.feedburner.com/~ff/oreilly/radar/atom?a=rWHXDeq8mZo:rezrmcUUubA:7Q72WNTAKBA\"><img border=\"0\" src=\"http://feeds.feedburner.com/~ff/oreilly/radar/atom?d=7Q72WNTAKBA\" /></a> <a href=\"http://feeds.feedburner.com/~ff/oreilly/radar/atom?a=rWHXDeq8mZo:rezrmcUUubA:qj6IDK7rITs\"><img border=\"0\" src=\"http://feeds.feedburner.com/~ff/oreilly/radar/atom?d=qj6IDK7rITs\" /></a>\n",
      "</div><img alt=\"\" height=\"1\" src=\"http://feeds.feedburner.com/~r/oreilly/radar/atom/~4/rWHXDeq8mZo\" width=\"1\" />\n",
      "Four short links: 18 March 2016\n",
      "http://feedproxy.google.com/~r/oreilly/radar/atom/~3/OTVGJjwfCIs/four-short-links-18-march-2016.html\n",
      "<ol>\n",
      "<li><a href=\"http://marginalrevolution.com/marginalrevolution/2016/03/engineers-of-jihad.html\">Engineers of Jihad</a> (Marginal Revolution) -- brief book review, tantalizing. <i>The distribution of traits across disciplines mirrors almost exactly the distribution of disciplines across militant groups…engineers are present in groups in which social scientists, humanities graduates, and women are absent, and engineers possess traits — proneness to disgust, need for closure, in-group bias, and (at least tentatively) simplism…</i></li>\n",
      "<li><a href=\"http://ieet.org/index.php/IEET/more/searle20160318#When:07:36:00Z\">Box of a Trillion Souls</a> -- review and critique of some of Stephen Wolfram's writing and speaking about AI and simulation and the nature of reality and complexity and ... a lot.</li>\n",
      "<li><a href=\"http://www.nytimes.com/2016/03/18/technology/cities-to-untangle-traffic-snarls-with-help-from-alphabet-unit.html\">Alphabet Starting Sidewalk Labs</a> (NY Times) -- <i>“We’re taking everything from anonymized smartphone data from billions of miles of trips, sensor data, and bringing that into a platform that will give both the public and private parties and government the capacity to actually understand the data in ways they haven’t before,” said Daniel L. Doctoroff, Sidewalk’s chief executive, who is a former deputy mayor of New York City and former chief executive of Bloomberg.</i> Data, data, data.</li>\n",
      "<li><a href=\"http://sigbovik.org/\">SIGBOVIK</a> -- the <a href=\"http://sigbovik.org/2015/proceedings.pdf\">proceedings from 2015</a> include a paper that talks about \"The Tortilla Endofunctor.\" You're welcome.</li>\n",
      "</ol>\n",
      "<div class=\"feedflare\">\n",
      "<a href=\"http://feeds.feedburner.com/~ff/oreilly/radar/atom?a=OTVGJjwfCIs:8R-DtGCpRSA:V_sGLiPBpWU\"><img border=\"0\" src=\"http://feeds.feedburner.com/~ff/oreilly/radar/atom?i=OTVGJjwfCIs:8R-DtGCpRSA:V_sGLiPBpWU\" /></a> <a href=\"http://feeds.feedburner.com/~ff/oreilly/radar/atom?a=OTVGJjwfCIs:8R-DtGCpRSA:yIl2AUoC8zA\"><img border=\"0\" src=\"http://feeds.feedburner.com/~ff/oreilly/radar/atom?d=yIl2AUoC8zA\" /></a> <a href=\"http://feeds.feedburner.com/~ff/oreilly/radar/atom?a=OTVGJjwfCIs:8R-DtGCpRSA:JEwB19i1-c4\"><img border=\"0\" src=\"http://feeds.feedburner.com/~ff/oreilly/radar/atom?i=OTVGJjwfCIs:8R-DtGCpRSA:JEwB19i1-c4\" /></a> <a href=\"http://feeds.feedburner.com/~ff/oreilly/radar/atom?a=OTVGJjwfCIs:8R-DtGCpRSA:7Q72WNTAKBA\"><img border=\"0\" src=\"http://feeds.feedburner.com/~ff/oreilly/radar/atom?d=7Q72WNTAKBA\" /></a> <a href=\"http://feeds.feedburner.com/~ff/oreilly/radar/atom?a=OTVGJjwfCIs:8R-DtGCpRSA:qj6IDK7rITs\"><img border=\"0\" src=\"http://feeds.feedburner.com/~ff/oreilly/radar/atom?d=qj6IDK7rITs\" /></a>\n",
      "</div><img alt=\"\" height=\"1\" src=\"http://feeds.feedburner.com/~r/oreilly/radar/atom/~4/OTVGJjwfCIs\" width=\"1\" />\n",
      "Four short links: 17 March 2016\n",
      "http://feedproxy.google.com/~r/oreilly/radar/atom/~3/eA1wpnbYhUs/four-short-links-17-march-2016.html\n",
      "<ol>\n",
      "<li><a href=\"https://www.technologyreview.com/s/601051/machine-learning-algorithm-identifies-tweets-sent-under-the-influence-of-alcohol/\">Algorithm Identifies Tweets Sent Under the Influence of Alcohol</a> (MIT TR) -- notable for how they determined whether a Tweet was sent from home. They made a list of phrases like \"home at last!\" and had MTurkers confirm the Tweets were about being home, then used those as training data for an algorithm to identify other Tweets talking about home.</li>\n",
      "<li><a href=\"https://www.newscientist.com/article/2080200-puzzle-game-launched-to-help-program-quantum-computers/\">Puzzle Game to Help Program Quantum Computers</a> (New Scientist) -- <i>Devitt has turned the problem of programming a quantum computer into a game called meQuanics. His team has developed a prototype to test the game, which you can play now, and today launched a Kickstarter campaign to fund a fully fledged version for iOS and Android phones.</i></li>\n",
      "<li><a href=\"http://cacm.acm.org/magazines/2016/3/198856-deep-or-shallow-nlp-is-breaking-out/fulltext\">Deep or Shallow, NLP is Breaking Out</a> (ACM) -- readable roundup of how NLP changed in the last five years, with a useful list for further reading and watching.</li>\n",
      "<li><a href=\"https://zachholman.com/talk/firing-people\">Firing and Being Fired</a> (Zach Holman) -- advice for the fired, the firing, and the coworkers. All solid.</li>\n",
      "</ol>\n",
      "<div class=\"feedflare\">\n",
      "<a href=\"http://feeds.feedburner.com/~ff/oreilly/radar/atom?a=eA1wpnbYhUs:XdoaMUkFVho:V_sGLiPBpWU\"><img border=\"0\" src=\"http://feeds.feedburner.com/~ff/oreilly/radar/atom?i=eA1wpnbYhUs:XdoaMUkFVho:V_sGLiPBpWU\" /></a> <a href=\"http://feeds.feedburner.com/~ff/oreilly/radar/atom?a=eA1wpnbYhUs:XdoaMUkFVho:yIl2AUoC8zA\"><img border=\"0\" src=\"http://feeds.feedburner.com/~ff/oreilly/radar/atom?d=yIl2AUoC8zA\" /></a> <a href=\"http://feeds.feedburner.com/~ff/oreilly/radar/atom?a=eA1wpnbYhUs:XdoaMUkFVho:JEwB19i1-c4\"><img border=\"0\" src=\"http://feeds.feedburner.com/~ff/oreilly/radar/atom?i=eA1wpnbYhUs:XdoaMUkFVho:JEwB19i1-c4\" /></a> <a href=\"http://feeds.feedburner.com/~ff/oreilly/radar/atom?a=eA1wpnbYhUs:XdoaMUkFVho:7Q72WNTAKBA\"><img border=\"0\" src=\"http://feeds.feedburner.com/~ff/oreilly/radar/atom?d=7Q72WNTAKBA\" /></a> <a href=\"http://feeds.feedburner.com/~ff/oreilly/radar/atom?a=eA1wpnbYhUs:XdoaMUkFVho:qj6IDK7rITs\"><img border=\"0\" src=\"http://feeds.feedburner.com/~ff/oreilly/radar/atom?d=qj6IDK7rITs\" /></a>\n",
      "</div><img alt=\"\" height=\"1\" src=\"http://feeds.feedburner.com/~r/oreilly/radar/atom/~4/eA1wpnbYhUs\" width=\"1\" />\n",
      "Four short links: 16 March 2016\n",
      "http://feedproxy.google.com/~r/oreilly/radar/atom/~3/Jg71f0gxf54/four-short-links-16-march-2016.html\n",
      "<ol>\n",
      "<li><a href=\"https://github.com/stanford-futuredata/macrobase\">MacroBase</a> -- <i>Analytic monitoring for the Internet of Things</i>. The code behind <a href=\"http://arxiv.org/pdf/1603.00567v1.pdf\">a research paper</a>, written up in <a href=\"http://blog.acolyer.org/2016/03/16/macrobase-analytic-monitoring-for-the-internet-of-things/\">the morning paper</a> where Adrian Colyer says, <i> there is another story that also unfolds in the paper – one of careful system design based on analysis of properties of the problem space, of thinking deeply and taking the time to understand the prior art (aka \"the literature\"), and then building on those discoveries to advance and adapt them to the new situation. “That’s what research is all about!” you may say, but it’s also what we’d (I’d?) love to see more of in practitioner settings, too. The result of all this hard work is a system that comprises just 7,000 lines of code, and I’m sure, many, many hours of thinking!</i></li>\n",
      "<li><a href=\"http://engagingnewsproject.org/research/survey-of-commenters-and-comment-readers/\">Survey of Commenters and Comment Readers</a> -- <i>Americans who leave news comments, who read news comments, and who do neither are demographically distinct. News commenters are more male, have lower levels of education, and have lower incomes compared to those who read news comments.</i> (via <a href=\"http://marginalrevolution.com/marginalrevolution/2016/03/sentences-to-ponder-who-leaves-on-line-comments.html\">Marginal Revolution</a>)</li>\n",
      "<li><a href=\"http://www.nature.com/articles/srep23011\">The Empathizing-Systemizing Theory, Social Abilities, and Mathematical Achievement in Children</a> (Nature) -- systematic thinking doesn't predict math ability in children, but being empathetic predicts being worse at math. The effect is stronger with girls. The authors propose the mechanism is that empathetic children pick up a teacher's own dislike of math, and any teacher biases like \"girls aren't good at math.\"</li>\n",
      "<li><a href=\"http://www.nytimes.com/2016/03/15/business/media/moneyball-for-book-publishers-for-a-detailed-look-at-how-we-read.html\">Moneyball for Book Publishers: A Detailed Look at How We Read</a> (NYT) -- <i>On average, fewer than half of the books tested were finished by a majority of readers. Most readers typically give up on a book in the early chapters. Women tend to quit after 50 to 100 pages, men after 30 to 50. Only 5% of the books Jellybooks tested were completed by more than 75% of readers. Sixty percent of books fell into a range where 25% to 50% of test readers finished them. Business books have surprisingly low completion rates.</i> Not surprisingly low to anyone who has ever read a business book. They're always a 20-page idea stretched to 150 pages because that's how wide a book's spine has to be to visible on the airport bookshelf. Fat paper stock and 14-point text with wide margins and 1.5 line spacing help, too. Don't forget to leave pages after each chapter for the reader's notes. And summary checklists. And ... sorry, I need to take a moment.</li>\n",
      "</ol>\n",
      "<div class=\"feedflare\">\n",
      "<a href=\"http://feeds.feedburner.com/~ff/oreilly/radar/atom?a=Jg71f0gxf54:0CyQCnRayRo:V_sGLiPBpWU\"><img border=\"0\" src=\"http://feeds.feedburner.com/~ff/oreilly/radar/atom?i=Jg71f0gxf54:0CyQCnRayRo:V_sGLiPBpWU\" /></a> <a href=\"http://feeds.feedburner.com/~ff/oreilly/radar/atom?a=Jg71f0gxf54:0CyQCnRayRo:yIl2AUoC8zA\"><img border=\"0\" src=\"http://feeds.feedburner.com/~ff/oreilly/radar/atom?d=yIl2AUoC8zA\" /></a> <a href=\"http://feeds.feedburner.com/~ff/oreilly/radar/atom?a=Jg71f0gxf54:0CyQCnRayRo:JEwB19i1-c4\"><img border=\"0\" src=\"http://feeds.feedburner.com/~ff/oreilly/radar/atom?i=Jg71f0gxf54:0CyQCnRayRo:JEwB19i1-c4\" /></a> <a href=\"http://feeds.feedburner.com/~ff/oreilly/radar/atom?a=Jg71f0gxf54:0CyQCnRayRo:7Q72WNTAKBA\"><img border=\"0\" src=\"http://feeds.feedburner.com/~ff/oreilly/radar/atom?d=7Q72WNTAKBA\" /></a> <a href=\"http://feeds.feedburner.com/~ff/oreilly/radar/atom?a=Jg71f0gxf54:0CyQCnRayRo:qj6IDK7rITs\"><img border=\"0\" src=\"http://feeds.feedburner.com/~ff/oreilly/radar/atom?d=qj6IDK7rITs\" /></a>\n",
      "</div><img alt=\"\" height=\"1\" src=\"http://feeds.feedburner.com/~r/oreilly/radar/atom/~4/Jg71f0gxf54\" width=\"1\" />\n",
      "Four short links: 15 March 2016\n",
      "http://feedproxy.google.com/~r/oreilly/radar/atom/~3/cnEFSjPf0-o/four-short-links-15-march-2016.html\n",
      "<ol>\n",
      "<li><a href=\"http://www.amazon.com/The-Car-Hackers-Handbook-Penetration/dp/1593277032/ref=as_li_ss_tl?ie=UTF8&amp;linkCode=sl1&amp;tag=downandoutint-20&amp;linkId=4a8a3937db21d334c8ca0eb18c16c72d\">The 2016 Car Hacker's Handbook</a> (Amazon) -- <i>will give you a deeper understanding of the computer systems and embedded software in modern vehicles. It begins by examining vulnerabilities and providing detailed explanations of communications over the CAN bus and between devices and systems.</i> (via <a href=\"http://boingboing.net/2016/03/14/the-car-hackersthe-car-hacke.html\">BoingBoing</a>)</li>\n",
      "<li><a href=\"http://robohub.org/indego-joins-ekso-with-fda-exoskeleton-approvals/\">More Exoskeletons Seeking FDA Approval</a> -- <i>The international group of exoskeleton providers with various FDA or CE certifications is growing and currently includes: Ekso in the US; Cyberdyne in the EU and Japan; ExoAtlet from Russia; and Israel’s ReWalk. Other providers are in the process of getting approvals or developing commercial versions of their products.</i> My eye was caught by how global the list of exoskeleton companies is.</li>\n",
      "<li><a href=\"https://github.com/pythonanywhere/dirigible-spreadsheet\">Dirigible Spreadsheet</a> -- open source spreadsheet that's not just written in Python, it exposes and IS python.  See also <a href=\"https://www.youtube.com/watch?v=BbsdFGo6SzY\">Harry Percival</a> talking about it.</li>\n",
      "<li><a href=\"http://gizmodo.com/everything-you-know-about-artificial-intelligence-is-wr-1764020220\">Everything You Know About AI Is Wrong</a> (Gizmodo) -- an interesting run-through of myths and claims about AI.  I'm not ready to consider all of these \"busted,\" but they are some nice starters-for-ten in your next pub argument about whether the Matrix is coming.</li>\n",
      "</ol>\n",
      "<div class=\"feedflare\">\n",
      "<a href=\"http://feeds.feedburner.com/~ff/oreilly/radar/atom?a=cnEFSjPf0-o:JjZKECXUdho:V_sGLiPBpWU\"><img border=\"0\" src=\"http://feeds.feedburner.com/~ff/oreilly/radar/atom?i=cnEFSjPf0-o:JjZKECXUdho:V_sGLiPBpWU\" /></a> <a href=\"http://feeds.feedburner.com/~ff/oreilly/radar/atom?a=cnEFSjPf0-o:JjZKECXUdho:yIl2AUoC8zA\"><img border=\"0\" src=\"http://feeds.feedburner.com/~ff/oreilly/radar/atom?d=yIl2AUoC8zA\" /></a> <a href=\"http://feeds.feedburner.com/~ff/oreilly/radar/atom?a=cnEFSjPf0-o:JjZKECXUdho:JEwB19i1-c4\"><img border=\"0\" src=\"http://feeds.feedburner.com/~ff/oreilly/radar/atom?i=cnEFSjPf0-o:JjZKECXUdho:JEwB19i1-c4\" /></a> <a href=\"http://feeds.feedburner.com/~ff/oreilly/radar/atom?a=cnEFSjPf0-o:JjZKECXUdho:7Q72WNTAKBA\"><img border=\"0\" src=\"http://feeds.feedburner.com/~ff/oreilly/radar/atom?d=7Q72WNTAKBA\" /></a> <a href=\"http://feeds.feedburner.com/~ff/oreilly/radar/atom?a=cnEFSjPf0-o:JjZKECXUdho:qj6IDK7rITs\"><img border=\"0\" src=\"http://feeds.feedburner.com/~ff/oreilly/radar/atom?d=qj6IDK7rITs\" /></a>\n",
      "</div><img alt=\"\" height=\"1\" src=\"http://feeds.feedburner.com/~r/oreilly/radar/atom/~4/cnEFSjPf0-o\" width=\"1\" />\n",
      "Four short links: 14 March 2016\n",
      "http://feedproxy.google.com/~r/oreilly/radar/atom/~3/e-R4P2fDe2I/four-short-links-14-march-2016.html\n",
      "<ol>\n",
      "<li><a href=\"http://fredrikdeboer.com/2016/03/07/what-thomas-hardy-taught-me/\">What Thomas Hardy Taught Me</a> -- <i>In educational research, perhaps the greatest danger lies in thinking “that which I cannot measure is not real.” The disruption fetishists have amplified this danger, now evincing the attitude “teaching that cannot be said to lead to the immediate acquisition of rote, mechanical skills has no value.” But absolutely every aspect of my educational journey — as a student, as a teacher, and as a researcher — demonstrates the folly of this approach to learning.</i> (via <a href=\"http://blog.mrmeyer.com/2016/silicon-valley-v-the-liberal-arts/\">Dan Meyer</a>)</li>\n",
      "<li><a href=\"http://pubpub.ito.com/pub/dmca-drm-aml-kyc-backdoors\">Why Anti-Money Laundering Laws and Poorly Designed Copyright Laws Are Similar and Should be Revised</a> (Joi Ito) -- <i>Just like with the Internet, weaknesses in networks like the blockchain propagate to countries and regions where privacy risks to users could cause significant risks to human rights workers, journalists, or anyone who questions authority. The conversation on creating new AML and KYC laws for new financial systems like bitcoin and blockchain needs to be a global one.</i></li>\n",
      "<li><a href=\"http://blog.acolyer.org/2016/03/14/secrets-lies-and-account-recovery-lessons-from-the-use-of-personal-knowledge-questions-at-google/\">Secrets, Lies, and Account Recovery: Lessons from the Use of Personal Knowledge Questions at Google</a> -- Adrian Colyer summarizes a paper from Google. <i>Using a crowdsourcing service, the authors asked 1,000 users to answer the ‘Favourite Food’ and ‘Father’s middle name’ questions. This took less than a day and cost $100. [...] Using a single guess, it turns out, you have a 19.7% chance of guessing an English-speaking users’ answer to the favourite food.</i></li>\n",
      "<li><a href=\"http://www.roadtovr.com/mts-virtual-reality-vr-tracking-system-jack-mccauley-oculus-vp-engineering/\">Clever MEMS 3D Object Tracking</a> -- early Oculus engineer has invented a nifty way to track a tagged object in 3D space. Worth reading for the description of how it works.</li>\n",
      "</ol>\n",
      "<div class=\"feedflare\">\n",
      "<a href=\"http://feeds.feedburner.com/~ff/oreilly/radar/atom?a=e-R4P2fDe2I:sQKRrJRRLL0:V_sGLiPBpWU\"><img border=\"0\" src=\"http://feeds.feedburner.com/~ff/oreilly/radar/atom?i=e-R4P2fDe2I:sQKRrJRRLL0:V_sGLiPBpWU\" /></a> <a href=\"http://feeds.feedburner.com/~ff/oreilly/radar/atom?a=e-R4P2fDe2I:sQKRrJRRLL0:yIl2AUoC8zA\"><img border=\"0\" src=\"http://feeds.feedburner.com/~ff/oreilly/radar/atom?d=yIl2AUoC8zA\" /></a> <a href=\"http://feeds.feedburner.com/~ff/oreilly/radar/atom?a=e-R4P2fDe2I:sQKRrJRRLL0:JEwB19i1-c4\"><img border=\"0\" src=\"http://feeds.feedburner.com/~ff/oreilly/radar/atom?i=e-R4P2fDe2I:sQKRrJRRLL0:JEwB19i1-c4\" /></a> <a href=\"http://feeds.feedburner.com/~ff/oreilly/radar/atom?a=e-R4P2fDe2I:sQKRrJRRLL0:7Q72WNTAKBA\"><img border=\"0\" src=\"http://feeds.feedburner.com/~ff/oreilly/radar/atom?d=7Q72WNTAKBA\" /></a> <a href=\"http://feeds.feedburner.com/~ff/oreilly/radar/atom?a=e-R4P2fDe2I:sQKRrJRRLL0:qj6IDK7rITs\"><img border=\"0\" src=\"http://feeds.feedburner.com/~ff/oreilly/radar/atom?d=qj6IDK7rITs\" /></a>\n",
      "</div><img alt=\"\" height=\"1\" src=\"http://feeds.feedburner.com/~r/oreilly/radar/atom/~4/e-R4P2fDe2I\" width=\"1\" />\n",
      "Four short links: 11 March 2016\n",
      "http://feedproxy.google.com/~r/oreilly/radar/atom/~3/fl2qjDQ_KxA/four-short-links-11-march-2016.html\n",
      "<ol>\n",
      "<li><a href=\"http://blog.acolyer.org/2016/03/11/strategic-dialogue-management-via-deep-reinforcement-learning/\">Strategic Dialogue Management via Deep Reinforcement Learning</a> (Adrian Colyer) -- a neural network learns to play Settlers of Catan. Is nothing sacred?</li>\n",
      "<li><a href=\"http://twitter.github.io/scala_school/\">scala school</a> -- Twitter's instructional material for coming up to speed on scala.</li>\n",
      "<li><a href=\"https://labs.robinhood.org/fellowship/\">Robin Hood Fellowship</a> -- fellowship to use technology to increase access to legal services for New Yorkers. Stuff that matters.</li>\n",
      "<li><a href=\"http://www.nytimes.com/2016/03/10/technology/the-echo-from-amazon-brims-with-groundbreaking-promise.html\">The Echo From Amazon Brims With Groundbreaking Promise</a> (NY Times) -- <i>A bit more than a year after its release, the Echo has morphed from a gimmicky experiment into a device that brims with profound possibility. The longer I use it, the more regularly it inspires the same sense of promise I felt when I used the first iPhone — a sense this machine is opening up a vast new realm in personal computing, and gently expanding the role that computers will play in our future.</i></li>\n",
      "</ol>\n",
      "<div class=\"feedflare\">\n",
      "<a href=\"http://feeds.feedburner.com/~ff/oreilly/radar/atom?a=fl2qjDQ_KxA:6SW6v9Vpq14:V_sGLiPBpWU\"><img border=\"0\" src=\"http://feeds.feedburner.com/~ff/oreilly/radar/atom?i=fl2qjDQ_KxA:6SW6v9Vpq14:V_sGLiPBpWU\" /></a> <a href=\"http://feeds.feedburner.com/~ff/oreilly/radar/atom?a=fl2qjDQ_KxA:6SW6v9Vpq14:yIl2AUoC8zA\"><img border=\"0\" src=\"http://feeds.feedburner.com/~ff/oreilly/radar/atom?d=yIl2AUoC8zA\" /></a> <a href=\"http://feeds.feedburner.com/~ff/oreilly/radar/atom?a=fl2qjDQ_KxA:6SW6v9Vpq14:JEwB19i1-c4\"><img border=\"0\" src=\"http://feeds.feedburner.com/~ff/oreilly/radar/atom?i=fl2qjDQ_KxA:6SW6v9Vpq14:JEwB19i1-c4\" /></a> <a href=\"http://feeds.feedburner.com/~ff/oreilly/radar/atom?a=fl2qjDQ_KxA:6SW6v9Vpq14:7Q72WNTAKBA\"><img border=\"0\" src=\"http://feeds.feedburner.com/~ff/oreilly/radar/atom?d=7Q72WNTAKBA\" /></a> <a href=\"http://feeds.feedburner.com/~ff/oreilly/radar/atom?a=fl2qjDQ_KxA:6SW6v9Vpq14:qj6IDK7rITs\"><img border=\"0\" src=\"http://feeds.feedburner.com/~ff/oreilly/radar/atom?d=qj6IDK7rITs\" /></a>\n",
      "</div><img alt=\"\" height=\"1\" src=\"http://feeds.feedburner.com/~r/oreilly/radar/atom/~4/fl2qjDQ_KxA\" width=\"1\" />\n",
      "Four short links: 10 March 2016\n",
      "http://feedproxy.google.com/~r/oreilly/radar/atom/~3/_-RgC4gdmvA/four-short-links-10-march-2016.html\n",
      "<ol>\n",
      "<li><a href=\"http://www.cam.ac.uk/research/news/ai-crossword-solving-application-could-make-machines-better-at-understanding-language\">Crossword-Solving Neural Networks</a> -- <i>Hill describes recent progress in learning-based AI systems in terms of behaviourism and cognitivism: two movements in psychology that effect how one views learning and education. Behaviourism, as the name implies, looks at behaviour without looking at what the brain and neurons are doing, while cognitivism looks at the mental processes that underlie behaviour. Deep learning systems like the one built by Hill and his colleagues reflect a cognitivist approach, but for a system to have something approaching human intelligence, it would have to have a little of both. “Our system can’t go too far beyond the dictionary data on which it was trained, but the ways in which it can are interesting, and make it a surprisingly robust question and answer system – and quite good at solving crossword puzzles,” said Hill. While it was not built with the purpose of solving crossword puzzles, the researchers found that it actually performed better than commercially-available products that are specifically engineered for the task.</i></li>\n",
      "<li><a href=\"http://cra.org/ccc/wp-content/uploads/sites/2/2015/06/CCC-Social-Computing-Report.pdf\">Mathematical Foundations for Social Computing</a> (PDF) -- collection of pointers to existing research in social computing and some open challenges for work to be done. <i>Consider situations where a highly structured decision must be made. Some examples are making budgets, assigning water resources, and setting tax rates. [...] One promising candidate is “Knapsack Voting.” [...] This captures most budgeting processes — the set of chosen budget items must fit under a spending limit, while maximizing societal value. <a href=\"http://web.stanford.edu/~anilesh/publications/knapsack_voting.pdf\">Goel et al.</a> prove that asking users to compare projects in terms of “value for money” or asking them to choose an entire budget results in provably better properties than using the more traditional approaches of approval or rank-choice voting.</i></li>\n",
      "<li><a href=\"https://blog.twitter.com/2016/power-minimal-detectable-effect-and-bucket-size-estimation-in-ab-tests\">Power, Minimal Detectable Effect, and Bucket Size Estimation in A/B Tests</a> (Twitter) -- <i>This post describes how Twitter’s A/B testing framework, DDG, addresses one of the most common questions we hear from experimenters, product managers, and engineers: how many users do we need to sample in order to run an informative experiment?</i></li>\n",
      "<li><a href=\"http://journals.plos.org/plosone/article?id=10.1371/journal.pone.0147754\">Intelligence-Augmented Rat Cyborgs in Maze Solving</a> (PLoS) -- <i>We compare the performance of maze solving by computer, by individual rats, and by computer-aided rats (i.e. rat cyborgs). They were asked to find their way from a constant entrance to a constant exit in 14 diverse mazes. Performance of maze solving was measured by steps, coverage rates, and time spent. The experimental results with six rats and their intelligence-augmented rat cyborgs show that rat cyborgs have the best performance in escaping from mazes. These results provide a proof-of-principle demonstration for cyborg intelligence. In addition, our novel cyborg intelligent system (rat cyborg) has great potential in various applications, such as search and rescue in complex terrains.</i></li>\n",
      "</ol>\n",
      "<div class=\"feedflare\">\n",
      "<a href=\"http://feeds.feedburner.com/~ff/oreilly/radar/atom?a=_-RgC4gdmvA:w2iGTUQNByY:V_sGLiPBpWU\"><img border=\"0\" src=\"http://feeds.feedburner.com/~ff/oreilly/radar/atom?i=_-RgC4gdmvA:w2iGTUQNByY:V_sGLiPBpWU\" /></a> <a href=\"http://feeds.feedburner.com/~ff/oreilly/radar/atom?a=_-RgC4gdmvA:w2iGTUQNByY:yIl2AUoC8zA\"><img border=\"0\" src=\"http://feeds.feedburner.com/~ff/oreilly/radar/atom?d=yIl2AUoC8zA\" /></a> <a href=\"http://feeds.feedburner.com/~ff/oreilly/radar/atom?a=_-RgC4gdmvA:w2iGTUQNByY:JEwB19i1-c4\"><img border=\"0\" src=\"http://feeds.feedburner.com/~ff/oreilly/radar/atom?i=_-RgC4gdmvA:w2iGTUQNByY:JEwB19i1-c4\" /></a> <a href=\"http://feeds.feedburner.com/~ff/oreilly/radar/atom?a=_-RgC4gdmvA:w2iGTUQNByY:7Q72WNTAKBA\"><img border=\"0\" src=\"http://feeds.feedburner.com/~ff/oreilly/radar/atom?d=7Q72WNTAKBA\" /></a> <a href=\"http://feeds.feedburner.com/~ff/oreilly/radar/atom?a=_-RgC4gdmvA:w2iGTUQNByY:qj6IDK7rITs\"><img border=\"0\" src=\"http://feeds.feedburner.com/~ff/oreilly/radar/atom?d=qj6IDK7rITs\" /></a>\n",
      "</div><img alt=\"\" height=\"1\" src=\"http://feeds.feedburner.com/~r/oreilly/radar/atom/~4/_-RgC4gdmvA\" width=\"1\" />\n",
      "Four short links: 9 March 2016\n",
      "http://feedproxy.google.com/~r/oreilly/radar/atom/~3/a72V_CKUuG0/four-short-links-9-march-2016.html\n",
      "<ol>\n",
      "<li><a href=\"http://www.faz.net/aktuell/feuilleton/debatten/the-digital-debate/shoshana-zuboff-secrets-of-surveillance-capitalism-14103616-p2.html?printPagedArticle=true\">The Secrets of Surveillance Capitalism</a> -- <i>The assault on behavioral data is so sweeping that it can no longer be circumscribed by the concept of privacy and its contests. [...] First, the push for more users and more channels, services, devices, places, and spaces is imperative for access to an ever-expanding range of behavioral surplus. Users are the human nature-al resource that provides this free raw material. Second, the application of machine learning, artificial intelligence, and data science for continuous algorithmic improvement constitutes an immensely expensive, sophisticated, and exclusive 21st century “means of production.” Third, the new manufacturing process converts behavioral surplus into prediction products designed to predict behavior now and soon. Fourth, these prediction products are sold into a new kind of meta-market that trades exclusively in future behavior. The better (more predictive) the product, the lower the risks for buyers, and the greater the volume of sales. Surveillance capitalism’s profits derive primarily, if not entirely, from such markets for future behavior.</i> (via <a href=\"https://twitter.com/simonstl\">Simon St Laurent</a>)</li>\n",
      "<li><a href=\"http://thunder-project.org/\">Thunder</a> -- Spark-driven analysis from Jupyter notebooks (open source).</li>\n",
      "<li><a href=\"http://www.cse.msu.edu/rgroups/biometrics/Publications/Fingerprint/CaoJain_HackingMobilePhonesUsing2DPrintedFingerprint_MSU-CSE-16-2.pdf\">Hacking Mobile Phones Using 2D-Printed Fingerprints</a> (PDF) -- equipment costs less than $450, and all you need is a photo of the fingerprint. (like those of government employees <a href=\"http://www.defenseone.com/technology/2016/03/so-thumbprint-thing-your-phone-useless-now/126523/\">stolen en masse last year</a>)</li>\n",
      "<li><a href=\"https://github.com/Fachschaft07/SSHKeyDistribut0r\">SSHKeyDistribut0r</a> (Github) -- <i>A tool to automate key distribution with user authorization [...] for sysop teams.</i></li>\n",
      "</ol>\n",
      "<div class=\"feedflare\">\n",
      "<a href=\"http://feeds.feedburner.com/~ff/oreilly/radar/atom?a=a72V_CKUuG0:hi5M1yLfMLE:V_sGLiPBpWU\"><img border=\"0\" src=\"http://feeds.feedburner.com/~ff/oreilly/radar/atom?i=a72V_CKUuG0:hi5M1yLfMLE:V_sGLiPBpWU\" /></a> <a href=\"http://feeds.feedburner.com/~ff/oreilly/radar/atom?a=a72V_CKUuG0:hi5M1yLfMLE:yIl2AUoC8zA\"><img border=\"0\" src=\"http://feeds.feedburner.com/~ff/oreilly/radar/atom?d=yIl2AUoC8zA\" /></a> <a href=\"http://feeds.feedburner.com/~ff/oreilly/radar/atom?a=a72V_CKUuG0:hi5M1yLfMLE:JEwB19i1-c4\"><img border=\"0\" src=\"http://feeds.feedburner.com/~ff/oreilly/radar/atom?i=a72V_CKUuG0:hi5M1yLfMLE:JEwB19i1-c4\" /></a> <a href=\"http://feeds.feedburner.com/~ff/oreilly/radar/atom?a=a72V_CKUuG0:hi5M1yLfMLE:7Q72WNTAKBA\"><img border=\"0\" src=\"http://feeds.feedburner.com/~ff/oreilly/radar/atom?d=7Q72WNTAKBA\" /></a> <a href=\"http://feeds.feedburner.com/~ff/oreilly/radar/atom?a=a72V_CKUuG0:hi5M1yLfMLE:qj6IDK7rITs\"><img border=\"0\" src=\"http://feeds.feedburner.com/~ff/oreilly/radar/atom?d=qj6IDK7rITs\" /></a>\n",
      "</div><img alt=\"\" height=\"1\" src=\"http://feeds.feedburner.com/~r/oreilly/radar/atom/~4/a72V_CKUuG0\" width=\"1\" />\n",
      "Four short links: 8 March 2016\n",
      "http://feedproxy.google.com/~r/oreilly/radar/atom/~3/cbcH4vSXON8/four-short-links-8-march-2016.html\n",
      "<ol>\n",
      "<li><a href=\"http://blog.acolyer.org/2016/03/08/cryptonets-applying-neural-networks-to-encrypted-data-with-high-throughput-and-accuracy/\">Neutral Nets on Encrypted Data</a> (Paper a Day) -- <i>By using a technique known as homohorphic encryption, it’s possible to perform operations on encrypted data, producing an encrypted result, and then decrypt the result to give back the desired answer. By combining homohorphic encryption with a specially designed neural network that can operate within the constraints of the operations supported, the authors of CryptoNet are able to build an end-to-end system whereby a client can encrypt their data, send it to a cloud service that makes a prediction based on that data – all the while having no idea what the data means, or what the output prediction means – and return an encrypted prediction to the client, which can then decrypt it to recover the prediction. As well as making this possible, another significant challenge the authors had to overcome was making it practical, as homohorphic encryption can be expensive.</i></li>\n",
      "<li><a href=\"https://www.youtube.com/watch?v=Y7YyMK7r7a4\">VR for IoT Prototype</a> (YouTube) -- <i> a VR prototype created for displaying sensor data and video streaming in real time from IoT sensors/camera devices designed for rail or the transportation industry.</i></li>\n",
      "<li><a href=\"https://m.signalvnoise.com/is-group-chat-making-you-sweat-744659addf7d#.64avpu9sk\">Is Group Chat Making You Sweat?</a> (Jason Fried) -- all excellent points. Our attention and focus are the scarce and precious resources of the 21st century.</li>\n",
      "<li><a href=\"https://blog.somaticlabs.io/how-devices-provide-haptic-feedback/\">How Devices Provide Haptic Feedback</a> -- good intro to what's happening in your hardware.</li>\n",
      "</ol>\n",
      "<div class=\"feedflare\">\n",
      "<a href=\"http://feeds.feedburner.com/~ff/oreilly/radar/atom?a=cbcH4vSXON8:fT3KUMLuAXY:V_sGLiPBpWU\"><img border=\"0\" src=\"http://feeds.feedburner.com/~ff/oreilly/radar/atom?i=cbcH4vSXON8:fT3KUMLuAXY:V_sGLiPBpWU\" /></a> <a href=\"http://feeds.feedburner.com/~ff/oreilly/radar/atom?a=cbcH4vSXON8:fT3KUMLuAXY:yIl2AUoC8zA\"><img border=\"0\" src=\"http://feeds.feedburner.com/~ff/oreilly/radar/atom?d=yIl2AUoC8zA\" /></a> <a href=\"http://feeds.feedburner.com/~ff/oreilly/radar/atom?a=cbcH4vSXON8:fT3KUMLuAXY:JEwB19i1-c4\"><img border=\"0\" src=\"http://feeds.feedburner.com/~ff/oreilly/radar/atom?i=cbcH4vSXON8:fT3KUMLuAXY:JEwB19i1-c4\" /></a> <a href=\"http://feeds.feedburner.com/~ff/oreilly/radar/atom?a=cbcH4vSXON8:fT3KUMLuAXY:7Q72WNTAKBA\"><img border=\"0\" src=\"http://feeds.feedburner.com/~ff/oreilly/radar/atom?d=7Q72WNTAKBA\" /></a> <a href=\"http://feeds.feedburner.com/~ff/oreilly/radar/atom?a=cbcH4vSXON8:fT3KUMLuAXY:qj6IDK7rITs\"><img border=\"0\" src=\"http://feeds.feedburner.com/~ff/oreilly/radar/atom?d=qj6IDK7rITs\" /></a>\n",
      "</div><img alt=\"\" height=\"1\" src=\"http://feeds.feedburner.com/~r/oreilly/radar/atom/~4/cbcH4vSXON8\" width=\"1\" />\n",
      "Four short links: 7 March 2016\n",
      "http://feedproxy.google.com/~r/oreilly/radar/atom/~3/ZNMk_zUMRjo/four-short-links-7-march-2016.html\n",
      "<ol>\n",
      "<li><a href=\"http://blog.acolyer.org/2016/03/07/trajectory-data-mining-an-overview/\">Trajectory Data Mining: An Overview</a> (Paper a Day) -- <i>This is the data created by a moving object, as a sequence of locations, often with uncertainty around the exact location at each point. This could be GPS trajectories created by people or vehicles, spatial trajectories obtained via cell phone tower IDs and corresponding transmission times, the moving trajectories of animals (e.g. birds) fitted with trackers, or even data concerning natural phenomena such as hurricanes and ocean currents. It turns out, there’s a lot to learn about working with such data!</i></li>\n",
      "<li><a href=\"http://www.pnas.org/content/112/33/E4512.full.pdf?with-ds=yes\">Search Engine Manipulation Effect</a> (PNAS) -- <i>Internet search rankings have a significant impact on consumer choices, mainly because users trust and choose higher-ranked results more than lower-ranked results. Given the apparent power of search rankings, we asked whether they could be manipulated to alter the preferences of undecided voters in democratic elections.</i> They could. Read the article for their methodology. (via <a href=\"https://aeon.co/essays/how-the-internet-flips-elections-and-alters-our-thoughts\">Aeon</a>)</li>\n",
      "<li><a href=\"http://keshif.me/\">Keshif</a> -- open source interactive data explorer.</li>\n",
      "<li><a href=\"http://proselint.com/\">proselint</a> -- analyse text for sins of usage and abusage.</li>\n",
      "</ol>\n",
      "<div class=\"feedflare\">\n",
      "<a href=\"http://feeds.feedburner.com/~ff/oreilly/radar/atom?a=ZNMk_zUMRjo:CvDXKNgfqZA:V_sGLiPBpWU\"><img border=\"0\" src=\"http://feeds.feedburner.com/~ff/oreilly/radar/atom?i=ZNMk_zUMRjo:CvDXKNgfqZA:V_sGLiPBpWU\" /></a> <a href=\"http://feeds.feedburner.com/~ff/oreilly/radar/atom?a=ZNMk_zUMRjo:CvDXKNgfqZA:yIl2AUoC8zA\"><img border=\"0\" src=\"http://feeds.feedburner.com/~ff/oreilly/radar/atom?d=yIl2AUoC8zA\" /></a> <a href=\"http://feeds.feedburner.com/~ff/oreilly/radar/atom?a=ZNMk_zUMRjo:CvDXKNgfqZA:JEwB19i1-c4\"><img border=\"0\" src=\"http://feeds.feedburner.com/~ff/oreilly/radar/atom?i=ZNMk_zUMRjo:CvDXKNgfqZA:JEwB19i1-c4\" /></a> <a href=\"http://feeds.feedburner.com/~ff/oreilly/radar/atom?a=ZNMk_zUMRjo:CvDXKNgfqZA:7Q72WNTAKBA\"><img border=\"0\" src=\"http://feeds.feedburner.com/~ff/oreilly/radar/atom?d=7Q72WNTAKBA\" /></a> <a href=\"http://feeds.feedburner.com/~ff/oreilly/radar/atom?a=ZNMk_zUMRjo:CvDXKNgfqZA:qj6IDK7rITs\"><img border=\"0\" src=\"http://feeds.feedburner.com/~ff/oreilly/radar/atom?d=qj6IDK7rITs\" /></a>\n",
      "</div><img alt=\"\" height=\"1\" src=\"http://feeds.feedburner.com/~r/oreilly/radar/atom/~4/ZNMk_zUMRjo\" width=\"1\" />\n"
     ]
    }
   ],
   "source": [
    "import feedparser\n",
    "\n",
    "import feedparser\n",
    "\n",
    "FEED_URL='http://feeds.feedburner.com/oreilly/radar/atom'\n",
    "\n",
    "fp = feedparser.parse(FEED_URL)\n",
    "\n",
    "for e in fp.entries:\n",
    "    print e.title\n",
    "    print e.links[0].href\n",
    "    print e.content[0].value"
   ]
  },
  {
   "cell_type": "code",
   "execution_count": 11,
   "metadata": {
    "collapsed": false,
    "deletable": true,
    "editable": true
   },
   "outputs": [
    {
     "name": "stdout",
     "output_type": "stream",
     "text": [
      "['Mr', ' Green killed Colonel Mustard in the study with the candlestick', ' Mr', ' Green is not a very nice fellow', '']\n",
      "[nltk_data] Downloading package punkt to\n",
      "[nltk_data]     /Users/puneetjindal/nltk_data...\n",
      "[nltk_data]   Package punkt is already up-to-date!\n",
      "['Mr. Green killed Colonel Mustard in the study with the candlestick.', 'Mr. Green is not a very nice fellow.']\n"
     ]
    }
   ],
   "source": [
    "import nltk\n",
    "\n",
    "txt = \"Mr. Green killed Colonel Mustard in the study with the candlestick. Mr. Green is not a very nice fellow.\"\n",
    "print txt.split(\".\")\n",
    "\n",
    "# Downloading nltk packages used in this example\n",
    "nltk.download('punkt')\n",
    "\n",
    "sentences = nltk.tokenize.sent_tokenize(txt)\n",
    "print sentences"
   ]
  },
  {
   "cell_type": "code",
   "execution_count": 12,
   "metadata": {
    "collapsed": false,
    "deletable": true,
    "editable": true
   },
   "outputs": [
    {
     "name": "stdout",
     "output_type": "stream",
     "text": [
      "[['Mr.', 'Green', 'killed', 'Colonel', 'Mustard', 'in', 'the', 'study', 'with', 'the', 'candlestick', '.'], ['Mr.', 'Green', 'is', 'not', 'a', 'very', 'nice', 'fellow', '.']]\n"
     ]
    }
   ],
   "source": [
    "tokens = [nltk.tokenize.word_tokenize(s) for s in sentences]\n",
    "print tokens"
   ]
  },
  {
   "cell_type": "code",
   "execution_count": 20,
   "metadata": {
    "collapsed": false,
    "deletable": true,
    "editable": true
   },
   "outputs": [
    {
     "name": "stdout",
     "output_type": "stream",
     "text": [
      "[nltk_data] Downloading package maxent_treebank_pos_tagger to\n",
      "[nltk_data]     /Users/puneetjindal/nltk_data...\n",
      "[nltk_data]   Package maxent_treebank_pos_tagger is already up-to-\n",
      "[nltk_data]       date!\n",
      "[[('Mr.', 'NNP'), ('Green', 'NNP'), ('killed', 'VBD'), ('Colonel', 'NNP'), ('Mustard', 'NNP'), ('in', 'IN'), ('the', 'DT'), ('study', 'NN'), ('with', 'IN'), ('the', 'DT'), ('candlestick', 'NN'), ('.', '.')], [('Mr.', 'NNP'), ('Green', 'NNP'), ('is', 'VBZ'), ('not', 'RB'), ('a', 'DT'), ('very', 'RB'), ('nice', 'JJ'), ('fellow', 'NN'), ('.', '.')]]\n"
     ]
    },
    {
     "ename": "TypeError",
     "evalue": "tagset_mapping() takes exactly 2 arguments (0 given)",
     "output_type": "error",
     "traceback": [
      "\u001b[0;31m---------------------------------------------------------------------------\u001b[0m",
      "\u001b[0;31mTypeError\u001b[0m                                 Traceback (most recent call last)",
      "\u001b[0;32m<ipython-input-20-7d0836a71397>\u001b[0m in \u001b[0;36m<module>\u001b[0;34m()\u001b[0m\n\u001b[1;32m      5\u001b[0m \u001b[0;32mprint\u001b[0m \u001b[0mpos_tagged_tokens\u001b[0m\u001b[0;34m\u001b[0m\u001b[0m\n\u001b[1;32m      6\u001b[0m \u001b[0;32mfrom\u001b[0m \u001b[0mnltk\u001b[0m\u001b[0;34m.\u001b[0m\u001b[0mdata\u001b[0m \u001b[0;32mimport\u001b[0m \u001b[0mload\u001b[0m\u001b[0;34m\u001b[0m\u001b[0m\n\u001b[0;32m----> 7\u001b[0;31m \u001b[0mnltk\u001b[0m\u001b[0;34m.\u001b[0m\u001b[0mtagset_mapping\u001b[0m\u001b[0;34m(\u001b[0m\u001b[0;34m)\u001b[0m\u001b[0;34m\u001b[0m\u001b[0m\n\u001b[0m",
      "\u001b[0;31mTypeError\u001b[0m: tagset_mapping() takes exactly 2 arguments (0 given)"
     ]
    }
   ],
   "source": [
    "# Downloading nltk packages used in this example\n",
    "nltk.download('maxent_treebank_pos_tagger')\n",
    "\n",
    "pos_tagged_tokens = [nltk.pos_tag(t) for t in tokens]\n",
    "print pos_tagged_tokens\n",
    "from nltk.data import load\n",
    "nltk.tagset_mapping()"
   ]
  },
  {
   "cell_type": "code",
   "execution_count": 33,
   "metadata": {
    "collapsed": false,
    "deletable": true,
    "editable": true
   },
   "outputs": [
    {
     "name": "stdout",
     "output_type": "stream",
     "text": [
      "[nltk_data] Downloading package stopwords to\n",
      "[nltk_data]     /Users/puneetjindal/nltk_data...\n",
      "[nltk_data]   Unzipping corpora/stopwords.zip.\n"
     ]
    },
    {
     "data": {
      "text/plain": [
       "[u'i',\n",
       " u'me',\n",
       " u'my',\n",
       " u'myself',\n",
       " u'we',\n",
       " u'our',\n",
       " u'ours',\n",
       " u'ourselves',\n",
       " u'you',\n",
       " u'your',\n",
       " u'yours',\n",
       " u'yourself',\n",
       " u'yourselves',\n",
       " u'he',\n",
       " u'him',\n",
       " u'his',\n",
       " u'himself',\n",
       " u'she',\n",
       " u'her',\n",
       " u'hers',\n",
       " u'herself',\n",
       " u'it',\n",
       " u'its',\n",
       " u'itself',\n",
       " u'they',\n",
       " u'them',\n",
       " u'their',\n",
       " u'theirs',\n",
       " u'themselves',\n",
       " u'what',\n",
       " u'which',\n",
       " u'who',\n",
       " u'whom',\n",
       " u'this',\n",
       " u'that',\n",
       " u'these',\n",
       " u'those',\n",
       " u'am',\n",
       " u'is',\n",
       " u'are',\n",
       " u'was',\n",
       " u'were',\n",
       " u'be',\n",
       " u'been',\n",
       " u'being',\n",
       " u'have',\n",
       " u'has',\n",
       " u'had',\n",
       " u'having',\n",
       " u'do',\n",
       " u'does',\n",
       " u'did',\n",
       " u'doing',\n",
       " u'a',\n",
       " u'an',\n",
       " u'the',\n",
       " u'and',\n",
       " u'but',\n",
       " u'if',\n",
       " u'or',\n",
       " u'because',\n",
       " u'as',\n",
       " u'until',\n",
       " u'while',\n",
       " u'of',\n",
       " u'at',\n",
       " u'by',\n",
       " u'for',\n",
       " u'with',\n",
       " u'about',\n",
       " u'against',\n",
       " u'between',\n",
       " u'into',\n",
       " u'through',\n",
       " u'during',\n",
       " u'before',\n",
       " u'after',\n",
       " u'above',\n",
       " u'below',\n",
       " u'to',\n",
       " u'from',\n",
       " u'up',\n",
       " u'down',\n",
       " u'in',\n",
       " u'out',\n",
       " u'on',\n",
       " u'off',\n",
       " u'over',\n",
       " u'under',\n",
       " u'again',\n",
       " u'further',\n",
       " u'then',\n",
       " u'once',\n",
       " u'here',\n",
       " u'there',\n",
       " u'when',\n",
       " u'where',\n",
       " u'why',\n",
       " u'how',\n",
       " u'all',\n",
       " u'any',\n",
       " u'both',\n",
       " u'each',\n",
       " u'few',\n",
       " u'more',\n",
       " u'most',\n",
       " u'other',\n",
       " u'some',\n",
       " u'such',\n",
       " u'no',\n",
       " u'nor',\n",
       " u'not',\n",
       " u'only',\n",
       " u'own',\n",
       " u'same',\n",
       " u'so',\n",
       " u'than',\n",
       " u'too',\n",
       " u'very',\n",
       " u's',\n",
       " u't',\n",
       " u'can',\n",
       " u'will',\n",
       " u'just',\n",
       " u'don',\n",
       " u'should',\n",
       " u'now',\n",
       " u'd',\n",
       " u'll',\n",
       " u'm',\n",
       " u'o',\n",
       " u're',\n",
       " u've',\n",
       " u'y',\n",
       " u'ain',\n",
       " u'aren',\n",
       " u'couldn',\n",
       " u'didn',\n",
       " u'doesn',\n",
       " u'hadn',\n",
       " u'hasn',\n",
       " u'haven',\n",
       " u'isn',\n",
       " u'ma',\n",
       " u'mightn',\n",
       " u'mustn',\n",
       " u'needn',\n",
       " u'shan',\n",
       " u'shouldn',\n",
       " u'wasn',\n",
       " u'weren',\n",
       " u'won',\n",
       " u'wouldn']"
      ]
     },
     "execution_count": 33,
     "metadata": {},
     "output_type": "execute_result"
    }
   ],
   "source": [
    "# Downloading nltk packages used in this example\n",
    "#nltk.download('maxent_ne_chunker')\n",
    "#nltk.download('words')\n",
    "#https://cs.nyu.edu/grishman/jet/guide/PennPOS.html\n",
    "import nltk\n",
    "nltk.download('stopwords')\n",
    "nltk.corpus.stopwords.words('english')"
   ]
  },
  {
   "cell_type": "code",
   "execution_count": null,
   "metadata": {
    "collapsed": true,
    "deletable": true,
    "editable": true
   },
   "outputs": [],
   "source": []
  }
 ],
 "metadata": {
  "kernelspec": {
   "display_name": "Python 2",
   "language": "python",
   "name": "python2"
  },
  "language_info": {
   "codemirror_mode": {
    "name": "ipython",
    "version": 2
   },
   "file_extension": ".py",
   "mimetype": "text/x-python",
   "name": "python",
   "nbconvert_exporter": "python",
   "pygments_lexer": "ipython2",
   "version": "2.7.13"
  }
 },
 "nbformat": 4,
 "nbformat_minor": 0
}
